{
 "cells": [
  {
   "cell_type": "code",
   "execution_count": 1,
   "metadata": {},
   "outputs": [],
   "source": [
    "import os\n",
    "import numpy as np\n",
    "import pandas as pd\n",
    "import swifter\n",
    "from sklearn.model_selection import train_test_split\n",
    "import utils\n",
    "import catboost"
   ]
  },
  {
   "cell_type": "code",
   "execution_count": 2,
   "metadata": {},
   "outputs": [],
   "source": [
    "DATA_PATH = \"./data\""
   ]
  },
  {
   "cell_type": "code",
   "execution_count": 3,
   "metadata": {},
   "outputs": [
    {
     "name": "stderr",
     "output_type": "stream",
     "text": [
      "/root/anaconda3/envs/idao_cb/lib/python3.6/site-packages/numpy/lib/arraysetops.py:522: FutureWarning: elementwise comparison failed; returning scalar instead, but in the future will perform elementwise comparison\n",
      "  mask |= (ar1 == a)\n"
     ]
    }
   ],
   "source": [
    "train, test = utils.load_data_csv(DATA_PATH, utils.SIMPLE_FEATURE_COLUMNS)"
   ]
  },
  {
   "cell_type": "code",
   "execution_count": 4,
   "metadata": {},
   "outputs": [
    {
     "data": {
      "text/plain": [
       "Index(['ncl[0]', 'ncl[1]', 'ncl[2]', 'ncl[3]', 'avg_cs[0]', 'avg_cs[1]',\n",
       "       'avg_cs[2]', 'avg_cs[3]', 'ndof', 'MatchedHit_TYPE[0]',\n",
       "       'MatchedHit_TYPE[1]', 'MatchedHit_TYPE[2]', 'MatchedHit_TYPE[3]',\n",
       "       'MatchedHit_X[0]', 'MatchedHit_X[1]', 'MatchedHit_X[2]',\n",
       "       'MatchedHit_X[3]', 'MatchedHit_Y[0]', 'MatchedHit_Y[1]',\n",
       "       'MatchedHit_Y[2]', 'MatchedHit_Y[3]', 'MatchedHit_Z[0]',\n",
       "       'MatchedHit_Z[1]', 'MatchedHit_Z[2]', 'MatchedHit_Z[3]',\n",
       "       'MatchedHit_DX[0]', 'MatchedHit_DX[1]', 'MatchedHit_DX[2]',\n",
       "       'MatchedHit_DX[3]', 'MatchedHit_DY[0]', 'MatchedHit_DY[1]',\n",
       "       'MatchedHit_DY[2]', 'MatchedHit_DY[3]', 'MatchedHit_DZ[0]',\n",
       "       'MatchedHit_DZ[1]', 'MatchedHit_DZ[2]', 'MatchedHit_DZ[3]',\n",
       "       'MatchedHit_T[0]', 'MatchedHit_T[1]', 'MatchedHit_T[2]',\n",
       "       'MatchedHit_T[3]', 'MatchedHit_DT[0]', 'MatchedHit_DT[1]',\n",
       "       'MatchedHit_DT[2]', 'MatchedHit_DT[3]', 'Lextra_X[0]', 'Lextra_X[1]',\n",
       "       'Lextra_X[2]', 'Lextra_X[3]', 'Lextra_Y[0]', 'Lextra_Y[1]',\n",
       "       'Lextra_Y[2]', 'Lextra_Y[3]', 'NShared', 'Mextra_DX2[0]',\n",
       "       'Mextra_DX2[1]', 'Mextra_DX2[2]', 'Mextra_DX2[3]', 'Mextra_DY2[0]',\n",
       "       'Mextra_DY2[1]', 'Mextra_DY2[2]', 'Mextra_DY2[3]', 'FOI_hits_N', 'PT',\n",
       "       'P', 'label', 'weight'],\n",
       "      dtype='object')"
      ]
     },
     "execution_count": 4,
     "metadata": {},
     "output_type": "execute_result"
    }
   ],
   "source": [
    "train.columns"
   ]
  },
  {
   "cell_type": "code",
   "execution_count": 5,
   "metadata": {},
   "outputs": [],
   "source": [
    "func = utils.find_closest_hit_per_station"
   ]
  },
  {
   "cell_type": "code",
   "execution_count": 6,
   "metadata": {},
   "outputs": [],
   "source": [
    "# dt_train = pd.read_hdf('closest_hits_features.train.filled.p1000.hdf', 'key')\n",
    "# dt_test  = pd.read_hdf('closest_hits_features.test.filled.p1000.hdf', 'key')\n",
    "\n",
    "dt_train = pd.read_hdf('closest_hits_features.train.filled.m9999.v1.hdf', 'key')\n",
    "dt_test  = pd.read_hdf('closest_hits_features.test.filled.m9999.v1.hdf', 'key')"
   ]
  },
  {
   "cell_type": "code",
   "execution_count": 7,
   "metadata": {},
   "outputs": [],
   "source": [
    "dt_train.columns = [func.__name__ + '_' + str(c) if str(c).isnumeric() else c for c in dt_train.columns]\n",
    "dt_test.columns  = [func.__name__ + '_' + str(c) if str(c).isnumeric() else c for c in dt_test.columns]"
   ]
  },
  {
   "cell_type": "code",
   "execution_count": 8,
   "metadata": {},
   "outputs": [],
   "source": [
    "train = pd.concat([train, dt_train], axis=1, copy=False)\n",
    "test = pd.concat([test, dt_test], axis=1, copy=False)"
   ]
  },
  {
   "cell_type": "code",
   "execution_count": 9,
   "metadata": {},
   "outputs": [
    {
     "data": {
      "text/plain": [
       "((5445705, 115), (726095, 113))"
      ]
     },
     "execution_count": 9,
     "metadata": {},
     "output_type": "execute_result"
    }
   ],
   "source": [
    "train.shape, test.shape"
   ]
  },
  {
   "cell_type": "code",
   "execution_count": 10,
   "metadata": {},
   "outputs": [
    {
     "data": {
      "text/plain": [
       "{'label', 'weight'}"
      ]
     },
     "execution_count": 10,
     "metadata": {},
     "output_type": "execute_result"
    }
   ],
   "source": [
    "set(train.columns.tolist()).symmetric_difference(test.columns.tolist())"
   ]
  },
  {
   "cell_type": "code",
   "execution_count": 11,
   "metadata": {},
   "outputs": [],
   "source": [
    "del test"
   ]
  },
  {
   "cell_type": "markdown",
   "metadata": {},
   "source": [
    "## Новые признаки"
   ]
  },
  {
   "cell_type": "code",
   "execution_count": 12,
   "metadata": {},
   "outputs": [],
   "source": [
    "NA_VALUE = -9999.0"
   ]
  },
  {
   "cell_type": "code",
   "execution_count": 13,
   "metadata": {},
   "outputs": [],
   "source": [
    "def fillna(df):\n",
    "    \"\"\"\n",
    "    Пропуски только в 2 и 3 колонках\n",
    "    \"\"\"\n",
    "    \n",
    "    for axis in 'XYZ':\n",
    "        cols = ['MatchedHit_{}[{}]'.format(axis, i) for i in range(4)]\n",
    "        mask = np.isclose(df.loc[:, cols[2]], NA_VALUE)\n",
    "        mask = mask & ~np.isclose(df.loc[:, cols[3]], NA_VALUE)\n",
    "        \n",
    "        df.loc[mask, cols[2]] = df.loc[mask, [cols[1], cols[3]]].mean(axis=1)\n",
    "    return df"
   ]
  },
  {
   "cell_type": "code",
   "execution_count": 14,
   "metadata": {},
   "outputs": [],
   "source": [
    "# train, test = map(fillna, [train, test])"
   ]
  },
  {
   "cell_type": "code",
   "execution_count": 15,
   "metadata": {},
   "outputs": [],
   "source": [
    "train = fillna(train)"
   ]
  },
  {
   "cell_type": "markdown",
   "metadata": {},
   "source": [
    "### Вычесть среднее из MatchedHit_Z"
   ]
  },
  {
   "cell_type": "code",
   "execution_count": 16,
   "metadata": {
    "scrolled": true
   },
   "outputs": [
    {
     "data": {
      "text/plain": [
       "MatchedHit_Z[0]    15167.8215\n",
       "MatchedHit_Z[1]    16374.1045\n",
       "MatchedHit_Z[2]    17567.8400\n",
       "MatchedHit_Z[3]    18776.8770\n",
       "dtype: float64"
      ]
     },
     "execution_count": 16,
     "metadata": {},
     "output_type": "execute_result"
    }
   ],
   "source": [
    "matched_hit_z_cols = train.columns.str.startswith(\"MatchedHit_Z\")\n",
    "mask = np.isclose(train.loc[:, matched_hit_z_cols], NA_VALUE).any(axis=0)\n",
    "matched_hit_z_mean = train.loc[~mask, matched_hit_z_cols].mean(axis=0)\n",
    "matched_hit_z_mean"
   ]
  },
  {
   "cell_type": "code",
   "execution_count": 17,
   "metadata": {},
   "outputs": [
    {
     "data": {
      "text/plain": [
       "MatchedHit_Z[0]    15270\n",
       "MatchedHit_Z[1]    16470\n",
       "MatchedHit_Z[2]    17670\n",
       "MatchedHit_Z[3]    18870\n",
       "dtype: int64"
      ]
     },
     "execution_count": 17,
     "metadata": {},
     "output_type": "execute_result"
    }
   ],
   "source": [
    "matched_hit_z_cols = train.columns[train.columns.str.startswith(\"MatchedHit_Z\")]\n",
    "matched_hit_z_mean = pd.Series([15270, 16470, 17670, 18870], index=matched_hit_z_cols)\n",
    "matched_hit_z_mean"
   ]
  },
  {
   "cell_type": "code",
   "execution_count": 18,
   "metadata": {},
   "outputs": [],
   "source": [
    "def make_unbiased_z(df):\n",
    "    for i in range(4):\n",
    "        distance = np.zeros(df.shape[0])\n",
    "    \n",
    "        col = f\"MatchedHit_Z[{i}]\"\n",
    "        mask = np.isclose(df.loc[:, col], NA_VALUE)\n",
    "        distance[~mask] = df.loc[~mask, col] - matched_hit_z_mean[col]\n",
    "        distance[mask] = NA_VALUE\n",
    "    \n",
    "        df[col] = distance\n",
    "        \n",
    "        \"\"\"\n",
    "        df[f\"MatchedHit_Z[{i}]_sign\"] = np.sign(df[col]).astype(np.int8)\n",
    "        \"\"\"\n",
    "    return df"
   ]
  },
  {
   "cell_type": "code",
   "execution_count": 19,
   "metadata": {},
   "outputs": [],
   "source": [
    "# train, test = map(make_unbiased_z, [train, test])"
   ]
  },
  {
   "cell_type": "code",
   "execution_count": 20,
   "metadata": {},
   "outputs": [],
   "source": [
    "train = make_unbiased_z(train)"
   ]
  },
  {
   "cell_type": "code",
   "execution_count": 21,
   "metadata": {},
   "outputs": [
    {
     "data": {
      "text/html": [
       "<div>\n",
       "<style scoped>\n",
       "    .dataframe tbody tr th:only-of-type {\n",
       "        vertical-align: middle;\n",
       "    }\n",
       "\n",
       "    .dataframe tbody tr th {\n",
       "        vertical-align: top;\n",
       "    }\n",
       "\n",
       "    .dataframe thead th {\n",
       "        text-align: right;\n",
       "    }\n",
       "</style>\n",
       "<table border=\"1\" class=\"dataframe\">\n",
       "  <thead>\n",
       "    <tr style=\"text-align: right;\">\n",
       "      <th></th>\n",
       "      <th>MatchedHit_Z[0]</th>\n",
       "      <th>MatchedHit_Z[1]</th>\n",
       "      <th>MatchedHit_Z[2]</th>\n",
       "      <th>MatchedHit_Z[3]</th>\n",
       "    </tr>\n",
       "  </thead>\n",
       "  <tbody>\n",
       "    <tr>\n",
       "      <th>0</th>\n",
       "      <td>-146.955</td>\n",
       "      <td>-142.367</td>\n",
       "      <td>-149.174</td>\n",
       "      <td>-140.676</td>\n",
       "    </tr>\n",
       "    <tr>\n",
       "      <th>1</th>\n",
       "      <td>-57.402</td>\n",
       "      <td>-49.424</td>\n",
       "      <td>-55.146</td>\n",
       "      <td>-45.570</td>\n",
       "    </tr>\n",
       "    <tr>\n",
       "      <th>2</th>\n",
       "      <td>47.953</td>\n",
       "      <td>52.060</td>\n",
       "      <td>-71.700</td>\n",
       "      <td>-63.648</td>\n",
       "    </tr>\n",
       "    <tr>\n",
       "      <th>3</th>\n",
       "      <td>-68.590</td>\n",
       "      <td>-64.445</td>\n",
       "      <td>-71.700</td>\n",
       "      <td>-63.648</td>\n",
       "    </tr>\n",
       "    <tr>\n",
       "      <th>4</th>\n",
       "      <td>-64.511</td>\n",
       "      <td>-60.047</td>\n",
       "      <td>-66.979</td>\n",
       "      <td>-58.605</td>\n",
       "    </tr>\n",
       "  </tbody>\n",
       "</table>\n",
       "</div>"
      ],
      "text/plain": [
       "   MatchedHit_Z[0]  MatchedHit_Z[1]  MatchedHit_Z[2]  MatchedHit_Z[3]\n",
       "0         -146.955         -142.367         -149.174         -140.676\n",
       "1          -57.402          -49.424          -55.146          -45.570\n",
       "2           47.953           52.060          -71.700          -63.648\n",
       "3          -68.590          -64.445          -71.700          -63.648\n",
       "4          -64.511          -60.047          -66.979          -58.605"
      ]
     },
     "execution_count": 21,
     "metadata": {},
     "output_type": "execute_result"
    }
   ],
   "source": [
    "train.loc[:, train.columns.str.startswith(\"MatchedHit_Z\")].head()"
   ]
  },
  {
   "cell_type": "markdown",
   "metadata": {},
   "source": [
    "### Расстояние до центра (+)"
   ]
  },
  {
   "cell_type": "code",
   "execution_count": 22,
   "metadata": {},
   "outputs": [],
   "source": [
    "def compute_polar_distances_matched_hit(df):\n",
    "    for i in range(4):\n",
    "        cols = [f\"MatchedHit_X[{i}]\", f\"MatchedHit_Y[{i}]\"]\n",
    "        mask = np.isclose(df.loc[:, cols], NA_VALUE).any(axis=1)\n",
    "    \n",
    "        name = f\"MatchedHit_R[{i}]\"\n",
    "        df[name] = NA_VALUE\n",
    "        df.loc[~mask, name] = np.log(1.0 + np.power(df.loc[~mask, cols], 2).sum(axis=1))\n",
    "        \n",
    "        name = f\"MatchedHit_A[{i}]\"\n",
    "        df[name] = NA_VALUE\n",
    "        df.loc[~mask, name] = np.arctan2(df.loc[~mask, cols[1]], df.loc[~mask, cols[0]])\n",
    "\n",
    "    # намеренное переупорядочивание признаков\n",
    "    cols  = df.columns[df.columns.str.startswith(\"MatchedHit_R\")].tolist()\n",
    "    cols += df.columns[df.columns.str.startswith(\"MatchedHit_A\")].tolist()\n",
    "    cols  = df.columns[:-len(cols)].tolist() + cols\n",
    "    df = df[cols]\n",
    "\n",
    "    return df"
   ]
  },
  {
   "cell_type": "code",
   "execution_count": 23,
   "metadata": {},
   "outputs": [],
   "source": [
    "# train, test = map(compute_polar_distances_matched_hit, [train, test])"
   ]
  },
  {
   "cell_type": "code",
   "execution_count": 24,
   "metadata": {},
   "outputs": [],
   "source": [
    "train = compute_polar_distances_matched_hit(train)"
   ]
  },
  {
   "cell_type": "code",
   "execution_count": 25,
   "metadata": {},
   "outputs": [
    {
     "data": {
      "text/html": [
       "<div>\n",
       "<style scoped>\n",
       "    .dataframe tbody tr th:only-of-type {\n",
       "        vertical-align: middle;\n",
       "    }\n",
       "\n",
       "    .dataframe tbody tr th {\n",
       "        vertical-align: top;\n",
       "    }\n",
       "\n",
       "    .dataframe thead th {\n",
       "        text-align: right;\n",
       "    }\n",
       "</style>\n",
       "<table border=\"1\" class=\"dataframe\">\n",
       "  <thead>\n",
       "    <tr style=\"text-align: right;\">\n",
       "      <th></th>\n",
       "      <th>MatchedHit_R[0]</th>\n",
       "      <th>MatchedHit_R[1]</th>\n",
       "      <th>MatchedHit_R[2]</th>\n",
       "      <th>MatchedHit_R[3]</th>\n",
       "    </tr>\n",
       "  </thead>\n",
       "  <tbody>\n",
       "    <tr>\n",
       "      <th>0</th>\n",
       "      <td>16.023317</td>\n",
       "      <td>16.206292</td>\n",
       "      <td>16.332808</td>\n",
       "      <td>16.583070</td>\n",
       "    </tr>\n",
       "    <tr>\n",
       "      <th>1</th>\n",
       "      <td>15.647796</td>\n",
       "      <td>15.811899</td>\n",
       "      <td>15.934739</td>\n",
       "      <td>16.044511</td>\n",
       "    </tr>\n",
       "    <tr>\n",
       "      <th>2</th>\n",
       "      <td>14.788550</td>\n",
       "      <td>14.971064</td>\n",
       "      <td>15.147750</td>\n",
       "      <td>15.280270</td>\n",
       "    </tr>\n",
       "    <tr>\n",
       "      <th>3</th>\n",
       "      <td>14.899596</td>\n",
       "      <td>15.022741</td>\n",
       "      <td>15.147750</td>\n",
       "      <td>15.280270</td>\n",
       "    </tr>\n",
       "    <tr>\n",
       "      <th>4</th>\n",
       "      <td>14.962988</td>\n",
       "      <td>15.139525</td>\n",
       "      <td>15.316049</td>\n",
       "      <td>15.449411</td>\n",
       "    </tr>\n",
       "  </tbody>\n",
       "</table>\n",
       "</div>"
      ],
      "text/plain": [
       "   MatchedHit_R[0]  MatchedHit_R[1]  MatchedHit_R[2]  MatchedHit_R[3]\n",
       "0        16.023317        16.206292        16.332808        16.583070\n",
       "1        15.647796        15.811899        15.934739        16.044511\n",
       "2        14.788550        14.971064        15.147750        15.280270\n",
       "3        14.899596        15.022741        15.147750        15.280270\n",
       "4        14.962988        15.139525        15.316049        15.449411"
      ]
     },
     "execution_count": 25,
     "metadata": {},
     "output_type": "execute_result"
    }
   ],
   "source": [
    "train.loc[:, train.columns.str.startswith(\"MatchedHit_R\")].head()"
   ]
  },
  {
   "cell_type": "code",
   "execution_count": 26,
   "metadata": {},
   "outputs": [
    {
     "data": {
      "text/html": [
       "<div>\n",
       "<style scoped>\n",
       "    .dataframe tbody tr th:only-of-type {\n",
       "        vertical-align: middle;\n",
       "    }\n",
       "\n",
       "    .dataframe tbody tr th {\n",
       "        vertical-align: top;\n",
       "    }\n",
       "\n",
       "    .dataframe thead th {\n",
       "        text-align: right;\n",
       "    }\n",
       "</style>\n",
       "<table border=\"1\" class=\"dataframe\">\n",
       "  <thead>\n",
       "    <tr style=\"text-align: right;\">\n",
       "      <th></th>\n",
       "      <th>MatchedHit_A[0]</th>\n",
       "      <th>MatchedHit_A[1]</th>\n",
       "      <th>MatchedHit_A[2]</th>\n",
       "      <th>MatchedHit_A[3]</th>\n",
       "    </tr>\n",
       "  </thead>\n",
       "  <tbody>\n",
       "    <tr>\n",
       "      <th>0</th>\n",
       "      <td>2.668808</td>\n",
       "      <td>2.676832</td>\n",
       "      <td>2.672886</td>\n",
       "      <td>2.701153</td>\n",
       "    </tr>\n",
       "    <tr>\n",
       "      <th>1</th>\n",
       "      <td>1.270437</td>\n",
       "      <td>1.251195</td>\n",
       "      <td>1.280089</td>\n",
       "      <td>1.319231</td>\n",
       "    </tr>\n",
       "    <tr>\n",
       "      <th>2</th>\n",
       "      <td>-2.944427</td>\n",
       "      <td>-2.947037</td>\n",
       "      <td>-3.027307</td>\n",
       "      <td>-3.028216</td>\n",
       "    </tr>\n",
       "    <tr>\n",
       "      <th>3</th>\n",
       "      <td>-3.030048</td>\n",
       "      <td>-3.028084</td>\n",
       "      <td>-3.027307</td>\n",
       "      <td>-3.028216</td>\n",
       "    </tr>\n",
       "    <tr>\n",
       "      <th>4</th>\n",
       "      <td>2.582489</td>\n",
       "      <td>2.590782</td>\n",
       "      <td>2.601329</td>\n",
       "      <td>2.600883</td>\n",
       "    </tr>\n",
       "  </tbody>\n",
       "</table>\n",
       "</div>"
      ],
      "text/plain": [
       "   MatchedHit_A[0]  MatchedHit_A[1]  MatchedHit_A[2]  MatchedHit_A[3]\n",
       "0         2.668808         2.676832         2.672886         2.701153\n",
       "1         1.270437         1.251195         1.280089         1.319231\n",
       "2        -2.944427        -2.947037        -3.027307        -3.028216\n",
       "3        -3.030048        -3.028084        -3.027307        -3.028216\n",
       "4         2.582489         2.590782         2.601329         2.600883"
      ]
     },
     "execution_count": 26,
     "metadata": {},
     "output_type": "execute_result"
    }
   ],
   "source": [
    "train.loc[:, train.columns.str.startswith(\"MatchedHit_A\")].head()"
   ]
  },
  {
   "cell_type": "code",
   "execution_count": 27,
   "metadata": {},
   "outputs": [],
   "source": [
    "def compute_polar_distances_lextra(df):\n",
    "    for i in range(4):\n",
    "        cols = [f\"Lextra_X[{i}]\", f\"Lextra_Y[{i}]\"]\n",
    "        mask = np.isclose(df.loc[:, cols], NA_VALUE).any(axis=1)\n",
    "    \n",
    "        name = f\"Lextra_R[{i}]\"\n",
    "        df[name] = NA_VALUE\n",
    "        df.loc[~mask, name] = np.log(1.0 + np.power(df.loc[~mask, cols], 2).sum(axis=1))\n",
    "\n",
    "        \"\"\"\n",
    "        name = f\"Lextra_A[{i}]\"\n",
    "        df[name] = NA_VALUE\n",
    "        df.loc[~mask, name] = np.arctan2(df.loc[~mask, cols[1]], df.loc[~mask, cols[0]])\n",
    "        \"\"\"\n",
    "    \n",
    "    # намеренное переупорядочивание признаков\n",
    "    cols  = df.columns[df.columns.str.startswith(\"Lextra_R\")].tolist()\n",
    "    cols += df.columns[df.columns.str.startswith(\"Lextra_A\")].tolist()\n",
    "    cols  = df.columns[:-len(cols)].tolist() + cols\n",
    "    df = df[cols]\n",
    "\n",
    "    return df"
   ]
  },
  {
   "cell_type": "code",
   "execution_count": 28,
   "metadata": {},
   "outputs": [],
   "source": [
    "# train, test = map(compute_polar_distances_lextra, [train, test])"
   ]
  },
  {
   "cell_type": "code",
   "execution_count": 29,
   "metadata": {},
   "outputs": [],
   "source": [
    "train = compute_polar_distances_lextra(train)"
   ]
  },
  {
   "cell_type": "code",
   "execution_count": 30,
   "metadata": {},
   "outputs": [
    {
     "data": {
      "text/html": [
       "<div>\n",
       "<style scoped>\n",
       "    .dataframe tbody tr th:only-of-type {\n",
       "        vertical-align: middle;\n",
       "    }\n",
       "\n",
       "    .dataframe tbody tr th {\n",
       "        vertical-align: top;\n",
       "    }\n",
       "\n",
       "    .dataframe thead th {\n",
       "        text-align: right;\n",
       "    }\n",
       "</style>\n",
       "<table border=\"1\" class=\"dataframe\">\n",
       "  <thead>\n",
       "    <tr style=\"text-align: right;\">\n",
       "      <th></th>\n",
       "      <th>Lextra_R[0]</th>\n",
       "      <th>Lextra_R[1]</th>\n",
       "      <th>Lextra_R[2]</th>\n",
       "      <th>Lextra_R[3]</th>\n",
       "    </tr>\n",
       "  </thead>\n",
       "  <tbody>\n",
       "    <tr>\n",
       "      <th>0</th>\n",
       "      <td>16.018055</td>\n",
       "      <td>16.192742</td>\n",
       "      <td>16.353447</td>\n",
       "      <td>16.502236</td>\n",
       "    </tr>\n",
       "    <tr>\n",
       "      <th>1</th>\n",
       "      <td>15.678488</td>\n",
       "      <td>15.834172</td>\n",
       "      <td>15.978674</td>\n",
       "      <td>16.113486</td>\n",
       "    </tr>\n",
       "    <tr>\n",
       "      <th>2</th>\n",
       "      <td>14.774766</td>\n",
       "      <td>14.959656</td>\n",
       "      <td>15.128904</td>\n",
       "      <td>15.284951</td>\n",
       "    </tr>\n",
       "    <tr>\n",
       "      <th>3</th>\n",
       "      <td>14.902741</td>\n",
       "      <td>15.039450</td>\n",
       "      <td>15.167410</td>\n",
       "      <td>15.287674</td>\n",
       "    </tr>\n",
       "    <tr>\n",
       "      <th>4</th>\n",
       "      <td>14.990755</td>\n",
       "      <td>15.168836</td>\n",
       "      <td>15.332478</td>\n",
       "      <td>15.483829</td>\n",
       "    </tr>\n",
       "  </tbody>\n",
       "</table>\n",
       "</div>"
      ],
      "text/plain": [
       "   Lextra_R[0]  Lextra_R[1]  Lextra_R[2]  Lextra_R[3]\n",
       "0    16.018055    16.192742    16.353447    16.502236\n",
       "1    15.678488    15.834172    15.978674    16.113486\n",
       "2    14.774766    14.959656    15.128904    15.284951\n",
       "3    14.902741    15.039450    15.167410    15.287674\n",
       "4    14.990755    15.168836    15.332478    15.483829"
      ]
     },
     "execution_count": 30,
     "metadata": {},
     "output_type": "execute_result"
    }
   ],
   "source": [
    "train.loc[:, train.columns.str.startswith(\"Lextra_R\")].head()"
   ]
  },
  {
   "cell_type": "code",
   "execution_count": 31,
   "metadata": {},
   "outputs": [
    {
     "data": {
      "text/html": [
       "<div>\n",
       "<style scoped>\n",
       "    .dataframe tbody tr th:only-of-type {\n",
       "        vertical-align: middle;\n",
       "    }\n",
       "\n",
       "    .dataframe tbody tr th {\n",
       "        vertical-align: top;\n",
       "    }\n",
       "\n",
       "    .dataframe thead th {\n",
       "        text-align: right;\n",
       "    }\n",
       "</style>\n",
       "<table border=\"1\" class=\"dataframe\">\n",
       "  <thead>\n",
       "    <tr style=\"text-align: right;\">\n",
       "      <th></th>\n",
       "    </tr>\n",
       "  </thead>\n",
       "  <tbody>\n",
       "    <tr>\n",
       "      <th>0</th>\n",
       "    </tr>\n",
       "    <tr>\n",
       "      <th>1</th>\n",
       "    </tr>\n",
       "    <tr>\n",
       "      <th>2</th>\n",
       "    </tr>\n",
       "    <tr>\n",
       "      <th>3</th>\n",
       "    </tr>\n",
       "    <tr>\n",
       "      <th>4</th>\n",
       "    </tr>\n",
       "  </tbody>\n",
       "</table>\n",
       "</div>"
      ],
      "text/plain": [
       "Empty DataFrame\n",
       "Columns: []\n",
       "Index: [0, 1, 2, 3, 4]"
      ]
     },
     "execution_count": 31,
     "metadata": {},
     "output_type": "execute_result"
    }
   ],
   "source": [
    "train.loc[:, train.columns.str.startswith(\"Lextra_A\")].head()"
   ]
  },
  {
   "cell_type": "markdown",
   "metadata": {},
   "source": [
    "### Дельты для траекторий MatchedHit_X, MatchedHit_Y"
   ]
  },
  {
   "cell_type": "code",
   "execution_count": 32,
   "metadata": {},
   "outputs": [],
   "source": [
    "def diff_matched_hit(df):\n",
    "    for axis in ['X', 'Y']:\n",
    "        for i, j in zip([0, 1, 2, 3], [1, 2, 3, 0]):\n",
    "            col_i = f\"MatchedHit_{axis}[{i}]\"\n",
    "            col_j = f\"MatchedHit_{axis}[{j}]\"\n",
    "            mask = np.isclose(df.loc[:, [col_i, col_j]], NA_VALUE).any(axis=1)\n",
    "\n",
    "            name = f\"MatchedHit_{axis}[{j}/{i}]_delta\"\n",
    "            df[name] = df[name + '_abs'] = NA_VALUE\n",
    "            \n",
    "            df.loc[~mask, name] = df.loc[~mask, col_j] - df.loc[~mask, col_i]\n",
    "            df.loc[~mask, name + '_abs'] = np.abs(df.loc[~mask, name])\n",
    "    return df"
   ]
  },
  {
   "cell_type": "code",
   "execution_count": 33,
   "metadata": {},
   "outputs": [],
   "source": [
    "# train, test = map(diff_matched_hit, [train, test])"
   ]
  },
  {
   "cell_type": "code",
   "execution_count": 34,
   "metadata": {},
   "outputs": [],
   "source": [
    "train = diff_matched_hit(train)"
   ]
  },
  {
   "cell_type": "markdown",
   "metadata": {},
   "source": [
    "### Дельты и отношения для радиусов (+)"
   ]
  },
  {
   "cell_type": "code",
   "execution_count": 35,
   "metadata": {},
   "outputs": [],
   "source": [
    "def ratio_radius_matched_hit(df):\n",
    "    for i, j in zip([0, 1, 2, 3], [1, 2, 3, 0]):\n",
    "        col_i = f\"MatchedHit_R[{i}]\"\n",
    "        col_j = f\"MatchedHit_R[{j}]\"\n",
    "        mask = np.isclose(df.loc[:, [col_i, col_j]], NA_VALUE).any(axis=1)\n",
    "\n",
    "        name = f\"MatchedHit_R[{j}/{i}]_delta\"\n",
    "        name_abs = name + '_abs'\n",
    "        df[name] = df[name_abs] = NA_VALUE\n",
    "        \n",
    "        df.loc[~mask, name] = df.loc[~mask, col_j] - df.loc[~mask, col_i]\n",
    "        df.loc[~mask, name_abs] = np.abs(df.loc[~mask, name])\n",
    "        \n",
    "        name = f\"MatchedHit_R[{j}/{i}]_frac\"\n",
    "        df[name] = NA_VALUE\n",
    "        df.loc[~mask, name] = df.loc[~mask, col_j] / df.loc[~mask, col_i]\n",
    "    return df"
   ]
  },
  {
   "cell_type": "code",
   "execution_count": 36,
   "metadata": {},
   "outputs": [],
   "source": [
    "# train, test = map(ratio_radius_matched_hit, [train, test])"
   ]
  },
  {
   "cell_type": "code",
   "execution_count": 37,
   "metadata": {},
   "outputs": [],
   "source": [
    "train = ratio_radius_matched_hit(train)"
   ]
  },
  {
   "cell_type": "code",
   "execution_count": 38,
   "metadata": {},
   "outputs": [
    {
     "data": {
      "text/html": [
       "<div>\n",
       "<style scoped>\n",
       "    .dataframe tbody tr th:only-of-type {\n",
       "        vertical-align: middle;\n",
       "    }\n",
       "\n",
       "    .dataframe tbody tr th {\n",
       "        vertical-align: top;\n",
       "    }\n",
       "\n",
       "    .dataframe thead th {\n",
       "        text-align: right;\n",
       "    }\n",
       "</style>\n",
       "<table border=\"1\" class=\"dataframe\">\n",
       "  <thead>\n",
       "    <tr style=\"text-align: right;\">\n",
       "      <th></th>\n",
       "      <th>MatchedHit_R[1/0]_delta</th>\n",
       "      <th>MatchedHit_R[1/0]_delta_abs</th>\n",
       "      <th>MatchedHit_R[1/0]_frac</th>\n",
       "      <th>MatchedHit_R[2/1]_delta</th>\n",
       "      <th>MatchedHit_R[2/1]_delta_abs</th>\n",
       "      <th>MatchedHit_R[2/1]_frac</th>\n",
       "      <th>MatchedHit_R[3/2]_delta</th>\n",
       "      <th>MatchedHit_R[3/2]_delta_abs</th>\n",
       "      <th>MatchedHit_R[3/2]_frac</th>\n",
       "      <th>MatchedHit_R[0/3]_delta</th>\n",
       "      <th>MatchedHit_R[0/3]_delta_abs</th>\n",
       "      <th>MatchedHit_R[0/3]_frac</th>\n",
       "    </tr>\n",
       "  </thead>\n",
       "  <tbody>\n",
       "    <tr>\n",
       "      <th>0</th>\n",
       "      <td>0.182975</td>\n",
       "      <td>0.182975</td>\n",
       "      <td>1.011419</td>\n",
       "      <td>0.126516</td>\n",
       "      <td>0.126516</td>\n",
       "      <td>1.007807</td>\n",
       "      <td>0.250262</td>\n",
       "      <td>0.250262</td>\n",
       "      <td>1.015323</td>\n",
       "      <td>-0.559754</td>\n",
       "      <td>0.559754</td>\n",
       "      <td>0.966245</td>\n",
       "    </tr>\n",
       "    <tr>\n",
       "      <th>1</th>\n",
       "      <td>0.164103</td>\n",
       "      <td>0.164103</td>\n",
       "      <td>1.010487</td>\n",
       "      <td>0.122840</td>\n",
       "      <td>0.122840</td>\n",
       "      <td>1.007769</td>\n",
       "      <td>0.109772</td>\n",
       "      <td>0.109772</td>\n",
       "      <td>1.006889</td>\n",
       "      <td>-0.396714</td>\n",
       "      <td>0.396714</td>\n",
       "      <td>0.975274</td>\n",
       "    </tr>\n",
       "    <tr>\n",
       "      <th>2</th>\n",
       "      <td>0.182513</td>\n",
       "      <td>0.182513</td>\n",
       "      <td>1.012342</td>\n",
       "      <td>0.176687</td>\n",
       "      <td>0.176687</td>\n",
       "      <td>1.011802</td>\n",
       "      <td>0.132520</td>\n",
       "      <td>0.132520</td>\n",
       "      <td>1.008748</td>\n",
       "      <td>-0.491720</td>\n",
       "      <td>0.491720</td>\n",
       "      <td>0.967820</td>\n",
       "    </tr>\n",
       "    <tr>\n",
       "      <th>3</th>\n",
       "      <td>0.123146</td>\n",
       "      <td>0.123146</td>\n",
       "      <td>1.008265</td>\n",
       "      <td>0.125009</td>\n",
       "      <td>0.125009</td>\n",
       "      <td>1.008321</td>\n",
       "      <td>0.132520</td>\n",
       "      <td>0.132520</td>\n",
       "      <td>1.008748</td>\n",
       "      <td>-0.380674</td>\n",
       "      <td>0.380674</td>\n",
       "      <td>0.975087</td>\n",
       "    </tr>\n",
       "    <tr>\n",
       "      <th>4</th>\n",
       "      <td>0.176537</td>\n",
       "      <td>0.176537</td>\n",
       "      <td>1.011798</td>\n",
       "      <td>0.176523</td>\n",
       "      <td>0.176523</td>\n",
       "      <td>1.011660</td>\n",
       "      <td>0.133362</td>\n",
       "      <td>0.133362</td>\n",
       "      <td>1.008707</td>\n",
       "      <td>-0.486422</td>\n",
       "      <td>0.486422</td>\n",
       "      <td>0.968515</td>\n",
       "    </tr>\n",
       "  </tbody>\n",
       "</table>\n",
       "</div>"
      ],
      "text/plain": [
       "   MatchedHit_R[1/0]_delta  MatchedHit_R[1/0]_delta_abs  \\\n",
       "0                 0.182975                     0.182975   \n",
       "1                 0.164103                     0.164103   \n",
       "2                 0.182513                     0.182513   \n",
       "3                 0.123146                     0.123146   \n",
       "4                 0.176537                     0.176537   \n",
       "\n",
       "   MatchedHit_R[1/0]_frac  MatchedHit_R[2/1]_delta  \\\n",
       "0                1.011419                 0.126516   \n",
       "1                1.010487                 0.122840   \n",
       "2                1.012342                 0.176687   \n",
       "3                1.008265                 0.125009   \n",
       "4                1.011798                 0.176523   \n",
       "\n",
       "   MatchedHit_R[2/1]_delta_abs  MatchedHit_R[2/1]_frac  \\\n",
       "0                     0.126516                1.007807   \n",
       "1                     0.122840                1.007769   \n",
       "2                     0.176687                1.011802   \n",
       "3                     0.125009                1.008321   \n",
       "4                     0.176523                1.011660   \n",
       "\n",
       "   MatchedHit_R[3/2]_delta  MatchedHit_R[3/2]_delta_abs  \\\n",
       "0                 0.250262                     0.250262   \n",
       "1                 0.109772                     0.109772   \n",
       "2                 0.132520                     0.132520   \n",
       "3                 0.132520                     0.132520   \n",
       "4                 0.133362                     0.133362   \n",
       "\n",
       "   MatchedHit_R[3/2]_frac  MatchedHit_R[0/3]_delta  \\\n",
       "0                1.015323                -0.559754   \n",
       "1                1.006889                -0.396714   \n",
       "2                1.008748                -0.491720   \n",
       "3                1.008748                -0.380674   \n",
       "4                1.008707                -0.486422   \n",
       "\n",
       "   MatchedHit_R[0/3]_delta_abs  MatchedHit_R[0/3]_frac  \n",
       "0                     0.559754                0.966245  \n",
       "1                     0.396714                0.975274  \n",
       "2                     0.491720                0.967820  \n",
       "3                     0.380674                0.975087  \n",
       "4                     0.486422                0.968515  "
      ]
     },
     "execution_count": 38,
     "metadata": {},
     "output_type": "execute_result"
    }
   ],
   "source": [
    "cols = filter(lambda s: s.startswith(\"MatchedHit_R\") and (\"_delta\" in s or \"_frac\" in s), train.columns)\n",
    "train.loc[:, cols].head()"
   ]
  },
  {
   "cell_type": "code",
   "execution_count": 39,
   "metadata": {},
   "outputs": [],
   "source": [
    "def ratio_radius_lextra_hit(df):\n",
    "    for i, j in zip([0, 1, 2, 3], [1, 2, 3, 0]):\n",
    "        col_i = f\"Lextra_R[{i}]\"\n",
    "        col_j = f\"Lextra_R[{j}]\"\n",
    "        mask = np.isclose(df.loc[:, [col_i, col_j]], NA_VALUE).any(axis=1)\n",
    "\n",
    "        name = f\"Lextra_R[{j}/{i}]_delta\"\n",
    "        name_abs = name + '_abs'\n",
    "        df[name] = df[name_abs] = NA_VALUE\n",
    "        \n",
    "        df.loc[~mask, name] = df.loc[~mask, col_j] - df.loc[~mask, col_i]\n",
    "        df.loc[~mask, name_abs] = np.abs(df.loc[~mask, name])\n",
    "        \n",
    "#         name = f\"Lextra_R[{j}/{i}]_frac\"\n",
    "#         df[name] = NA_VALUE\n",
    "#         df.loc[~mask, name] = df.loc[~mask, col_j] / df.loc[~mask, col_i]\n",
    "    return df"
   ]
  },
  {
   "cell_type": "code",
   "execution_count": 40,
   "metadata": {},
   "outputs": [],
   "source": [
    "# train, test = map(ratio_radius_lextra_hit, [train, test])"
   ]
  },
  {
   "cell_type": "code",
   "execution_count": 41,
   "metadata": {},
   "outputs": [],
   "source": [
    "train = ratio_radius_lextra_hit(train)"
   ]
  },
  {
   "cell_type": "code",
   "execution_count": 42,
   "metadata": {},
   "outputs": [
    {
     "data": {
      "text/html": [
       "<div>\n",
       "<style scoped>\n",
       "    .dataframe tbody tr th:only-of-type {\n",
       "        vertical-align: middle;\n",
       "    }\n",
       "\n",
       "    .dataframe tbody tr th {\n",
       "        vertical-align: top;\n",
       "    }\n",
       "\n",
       "    .dataframe thead th {\n",
       "        text-align: right;\n",
       "    }\n",
       "</style>\n",
       "<table border=\"1\" class=\"dataframe\">\n",
       "  <thead>\n",
       "    <tr style=\"text-align: right;\">\n",
       "      <th></th>\n",
       "      <th>Lextra_R[1/0]_delta</th>\n",
       "      <th>Lextra_R[1/0]_delta_abs</th>\n",
       "      <th>Lextra_R[2/1]_delta</th>\n",
       "      <th>Lextra_R[2/1]_delta_abs</th>\n",
       "      <th>Lextra_R[3/2]_delta</th>\n",
       "      <th>Lextra_R[3/2]_delta_abs</th>\n",
       "      <th>Lextra_R[0/3]_delta</th>\n",
       "      <th>Lextra_R[0/3]_delta_abs</th>\n",
       "    </tr>\n",
       "  </thead>\n",
       "  <tbody>\n",
       "    <tr>\n",
       "      <th>0</th>\n",
       "      <td>0.174687</td>\n",
       "      <td>0.174687</td>\n",
       "      <td>0.160705</td>\n",
       "      <td>0.160705</td>\n",
       "      <td>0.148789</td>\n",
       "      <td>0.148789</td>\n",
       "      <td>-0.484181</td>\n",
       "      <td>0.484181</td>\n",
       "    </tr>\n",
       "    <tr>\n",
       "      <th>1</th>\n",
       "      <td>0.155684</td>\n",
       "      <td>0.155684</td>\n",
       "      <td>0.144502</td>\n",
       "      <td>0.144502</td>\n",
       "      <td>0.134812</td>\n",
       "      <td>0.134812</td>\n",
       "      <td>-0.434997</td>\n",
       "      <td>0.434997</td>\n",
       "    </tr>\n",
       "    <tr>\n",
       "      <th>2</th>\n",
       "      <td>0.184890</td>\n",
       "      <td>0.184890</td>\n",
       "      <td>0.169248</td>\n",
       "      <td>0.169248</td>\n",
       "      <td>0.156046</td>\n",
       "      <td>0.156046</td>\n",
       "      <td>-0.510184</td>\n",
       "      <td>0.510184</td>\n",
       "    </tr>\n",
       "    <tr>\n",
       "      <th>3</th>\n",
       "      <td>0.136709</td>\n",
       "      <td>0.136709</td>\n",
       "      <td>0.127960</td>\n",
       "      <td>0.127960</td>\n",
       "      <td>0.120264</td>\n",
       "      <td>0.120264</td>\n",
       "      <td>-0.384932</td>\n",
       "      <td>0.384932</td>\n",
       "    </tr>\n",
       "    <tr>\n",
       "      <th>4</th>\n",
       "      <td>0.178081</td>\n",
       "      <td>0.178081</td>\n",
       "      <td>0.163641</td>\n",
       "      <td>0.163641</td>\n",
       "      <td>0.151351</td>\n",
       "      <td>0.151351</td>\n",
       "      <td>-0.493073</td>\n",
       "      <td>0.493073</td>\n",
       "    </tr>\n",
       "  </tbody>\n",
       "</table>\n",
       "</div>"
      ],
      "text/plain": [
       "   Lextra_R[1/0]_delta  Lextra_R[1/0]_delta_abs  Lextra_R[2/1]_delta  \\\n",
       "0             0.174687                 0.174687             0.160705   \n",
       "1             0.155684                 0.155684             0.144502   \n",
       "2             0.184890                 0.184890             0.169248   \n",
       "3             0.136709                 0.136709             0.127960   \n",
       "4             0.178081                 0.178081             0.163641   \n",
       "\n",
       "   Lextra_R[2/1]_delta_abs  Lextra_R[3/2]_delta  Lextra_R[3/2]_delta_abs  \\\n",
       "0                 0.160705             0.148789                 0.148789   \n",
       "1                 0.144502             0.134812                 0.134812   \n",
       "2                 0.169248             0.156046                 0.156046   \n",
       "3                 0.127960             0.120264                 0.120264   \n",
       "4                 0.163641             0.151351                 0.151351   \n",
       "\n",
       "   Lextra_R[0/3]_delta  Lextra_R[0/3]_delta_abs  \n",
       "0            -0.484181                 0.484181  \n",
       "1            -0.434997                 0.434997  \n",
       "2            -0.510184                 0.510184  \n",
       "3            -0.384932                 0.384932  \n",
       "4            -0.493073                 0.493073  "
      ]
     },
     "execution_count": 42,
     "metadata": {},
     "output_type": "execute_result"
    }
   ],
   "source": [
    "cols = filter(lambda s: s.startswith(\"Lextra_R\") and (\"_delta\" in s or \"_frac\" in s), train.columns)\n",
    "train.loc[:, cols].head()"
   ]
  },
  {
   "cell_type": "markdown",
   "metadata": {},
   "source": [
    "### Расстояние между Lextra и MatchedHit (+)"
   ]
  },
  {
   "cell_type": "code",
   "execution_count": 43,
   "metadata": {},
   "outputs": [],
   "source": [
    "def distance_dist_lextra_matched(df):\n",
    "    distance_counts = np.zeros(df.shape[0], dtype=int)\n",
    "    \n",
    "    distance_se = np.zeros(df.shape[0])\n",
    "    distance_ae = np.zeros(df.shape[0])\n",
    "    \n",
    "    for i in range(4):\n",
    "        distance = np.zeros(df.shape[0])\n",
    "\n",
    "        cols = [f\"MatchedHit_X[{i}]\", f\"MatchedHit_Y[{i}]\", f\"Lextra_X[{i}]\", f\"Lextra_Y[{i}]\"]\n",
    "        mask = np.isclose(df.loc[:, cols], NA_VALUE).any(axis=1)\n",
    "\n",
    "        mse = df.loc[~mask, cols[:2]].values - df.loc[~mask, cols[2:]].values\n",
    "        mse = np.power(mse, 2.0).sum(axis=1)\n",
    "        \n",
    "        mae = df.loc[~mask, cols[:2]].values - df.loc[~mask, cols[2:]].values\n",
    "        mae = np.abs(mae).max(axis=1)\n",
    "\n",
    "        distance[~mask] = np.log(1.0 + mse)\n",
    "        distance[mask] = NA_VALUE\n",
    "        \n",
    "        distance_se[~mask] += mse\n",
    "        distance_ae[~mask] = np.maximum(distance_ae[~mask], mae)\n",
    "        distance_counts[~mask] += 1\n",
    "\n",
    "        df[f\"distance_LextraMatchedHit[{i}]\"] = distance\n",
    "\n",
    "    distance_se /= distance_counts\n",
    "    df[f\"distance_LextraMatchedHit_SE\"] = distance_se\n",
    "    df[f\"distance_LextraMatchedHit_AE\"] = distance_ae\n",
    "\n",
    "    return df"
   ]
  },
  {
   "cell_type": "code",
   "execution_count": 44,
   "metadata": {},
   "outputs": [],
   "source": [
    "# train, test = map(distance_dist_lextra_matched, [train, test])"
   ]
  },
  {
   "cell_type": "code",
   "execution_count": 45,
   "metadata": {},
   "outputs": [],
   "source": [
    "train = distance_dist_lextra_matched(train)"
   ]
  },
  {
   "cell_type": "code",
   "execution_count": 46,
   "metadata": {},
   "outputs": [
    {
     "data": {
      "text/html": [
       "<div>\n",
       "<style scoped>\n",
       "    .dataframe tbody tr th:only-of-type {\n",
       "        vertical-align: middle;\n",
       "    }\n",
       "\n",
       "    .dataframe tbody tr th {\n",
       "        vertical-align: top;\n",
       "    }\n",
       "\n",
       "    .dataframe thead th {\n",
       "        text-align: right;\n",
       "    }\n",
       "</style>\n",
       "<table border=\"1\" class=\"dataframe\">\n",
       "  <thead>\n",
       "    <tr style=\"text-align: right;\">\n",
       "      <th></th>\n",
       "      <th>distance_LextraMatchedHit[0]</th>\n",
       "      <th>distance_LextraMatchedHit[1]</th>\n",
       "      <th>distance_LextraMatchedHit[2]</th>\n",
       "      <th>distance_LextraMatchedHit[3]</th>\n",
       "      <th>distance_LextraMatchedHit_SE</th>\n",
       "      <th>distance_LextraMatchedHit_AE</th>\n",
       "    </tr>\n",
       "  </thead>\n",
       "  <tbody>\n",
       "    <tr>\n",
       "      <th>0</th>\n",
       "      <td>6.712163</td>\n",
       "      <td>7.512178</td>\n",
       "      <td>7.232589</td>\n",
       "      <td>10.468368</td>\n",
       "      <td>9804.277406</td>\n",
       "      <td>186.32360</td>\n",
       "    </tr>\n",
       "    <tr>\n",
       "      <th>1</th>\n",
       "      <td>7.448349</td>\n",
       "      <td>7.150894</td>\n",
       "      <td>9.267218</td>\n",
       "      <td>11.013328</td>\n",
       "      <td>18562.759955</td>\n",
       "      <td>243.12120</td>\n",
       "    </tr>\n",
       "    <tr>\n",
       "      <th>2</th>\n",
       "      <td>7.192176</td>\n",
       "      <td>7.376499</td>\n",
       "      <td>9.402387</td>\n",
       "      <td>9.477220</td>\n",
       "      <td>7024.772423</td>\n",
       "      <td>113.72097</td>\n",
       "    </tr>\n",
       "    <tr>\n",
       "      <th>3</th>\n",
       "      <td>5.449827</td>\n",
       "      <td>6.342438</td>\n",
       "      <td>6.628810</td>\n",
       "      <td>5.935092</td>\n",
       "      <td>482.888433</td>\n",
       "      <td>21.25670</td>\n",
       "    </tr>\n",
       "    <tr>\n",
       "      <th>4</th>\n",
       "      <td>8.099670</td>\n",
       "      <td>8.254467</td>\n",
       "      <td>8.448039</td>\n",
       "      <td>8.426182</td>\n",
       "      <td>4091.272154</td>\n",
       "      <td>67.40200</td>\n",
       "    </tr>\n",
       "  </tbody>\n",
       "</table>\n",
       "</div>"
      ],
      "text/plain": [
       "   distance_LextraMatchedHit[0]  distance_LextraMatchedHit[1]  \\\n",
       "0                      6.712163                      7.512178   \n",
       "1                      7.448349                      7.150894   \n",
       "2                      7.192176                      7.376499   \n",
       "3                      5.449827                      6.342438   \n",
       "4                      8.099670                      8.254467   \n",
       "\n",
       "   distance_LextraMatchedHit[2]  distance_LextraMatchedHit[3]  \\\n",
       "0                      7.232589                     10.468368   \n",
       "1                      9.267218                     11.013328   \n",
       "2                      9.402387                      9.477220   \n",
       "3                      6.628810                      5.935092   \n",
       "4                      8.448039                      8.426182   \n",
       "\n",
       "   distance_LextraMatchedHit_SE  distance_LextraMatchedHit_AE  \n",
       "0                   9804.277406                     186.32360  \n",
       "1                  18562.759955                     243.12120  \n",
       "2                   7024.772423                     113.72097  \n",
       "3                    482.888433                      21.25670  \n",
       "4                   4091.272154                      67.40200  "
      ]
     },
     "execution_count": 46,
     "metadata": {},
     "output_type": "execute_result"
    }
   ],
   "source": [
    "train.loc[:, train.columns.str.startswith(\"distance_LextraMatchedHit\")].head()"
   ]
  },
  {
   "cell_type": "markdown",
   "metadata": {},
   "source": [
    "### Абсолютное и относительное смещение"
   ]
  },
  {
   "cell_type": "code",
   "execution_count": 47,
   "metadata": {},
   "outputs": [],
   "source": [
    "def offset_matched_hit(df):\n",
    "    offset_abs = np.sqrt(np.power(df.loc[:, [\"MatchedHit_X[0]\", f\"MatchedHit_Y[0]\"]], 2).sum(axis=1))\n",
    "    \n",
    "    for i, j in zip([0, 1, 2], [1, 2, 3]):\n",
    "        cols = [f\"MatchedHit_X[{i}]\", f\"MatchedHit_Y[{i}]\", f\"MatchedHit_X[{j}]\", f\"MatchedHit_Y[{j}]\"]\n",
    "        mask = np.isclose(df.loc[:, cols], NA_VALUE).any(axis=1)\n",
    "        \n",
    "        mse = df.loc[~mask, cols[:2]].values - df.loc[~mask, cols[2:]].values\n",
    "        mse = np.sqrt(np.power(mse, 2.0).sum(axis=1))\n",
    "        offset_abs[~mask] += mse\n",
    "        \n",
    "    offset_from = df.loc[:, [\"MatchedHit_X[0]\", f\"MatchedHit_Y[0]\"]].values\n",
    "    offset_to = np.zeros(shape=(df.shape[0], 2))\n",
    "    \n",
    "    for i in range(4):\n",
    "        cols = [f\"MatchedHit_X[{i}]\", f\"MatchedHit_Y[{i}]\"]\n",
    "        mask = np.isclose(df.loc[:, cols], NA_VALUE).any(axis=1)\n",
    "        offset_to[~mask] = df.loc[~mask, cols].values\n",
    "    \n",
    "    offset_rel = np.sqrt(np.power(offset_from - offset_to, 2.0).sum(axis=1))\n",
    "    \n",
    "    df[\"MatchedHit_offset_abs\"] = offset_abs\n",
    "    df[\"MatchedHit_offset_rel\"] = offset_rel\n",
    "    df[\"MatchedHit_offset_rel_div_abs\"] = offset_rel / offset_abs\n",
    "    \n",
    "    return df"
   ]
  },
  {
   "cell_type": "code",
   "execution_count": 48,
   "metadata": {},
   "outputs": [],
   "source": [
    "# train, test = map(offset_matched_hit, [train, test])"
   ]
  },
  {
   "cell_type": "code",
   "execution_count": 49,
   "metadata": {},
   "outputs": [],
   "source": [
    "train = offset_matched_hit(train)"
   ]
  },
  {
   "cell_type": "code",
   "execution_count": 50,
   "metadata": {},
   "outputs": [
    {
     "data": {
      "text/html": [
       "<div>\n",
       "<style scoped>\n",
       "    .dataframe tbody tr th:only-of-type {\n",
       "        vertical-align: middle;\n",
       "    }\n",
       "\n",
       "    .dataframe tbody tr th {\n",
       "        vertical-align: top;\n",
       "    }\n",
       "\n",
       "    .dataframe thead th {\n",
       "        text-align: right;\n",
       "    }\n",
       "</style>\n",
       "<table border=\"1\" class=\"dataframe\">\n",
       "  <thead>\n",
       "    <tr style=\"text-align: right;\">\n",
       "      <th></th>\n",
       "      <th>MatchedHit_offset_abs</th>\n",
       "      <th>MatchedHit_offset_rel</th>\n",
       "      <th>MatchedHit_offset_rel_div_abs</th>\n",
       "    </tr>\n",
       "  </thead>\n",
       "  <tbody>\n",
       "    <tr>\n",
       "      <th>0</th>\n",
       "      <td>4003.291053</td>\n",
       "      <td>980.480698</td>\n",
       "      <td>0.244919</td>\n",
       "    </tr>\n",
       "    <tr>\n",
       "      <th>1</th>\n",
       "      <td>3109.043351</td>\n",
       "      <td>564.706574</td>\n",
       "      <td>0.181634</td>\n",
       "    </tr>\n",
       "    <tr>\n",
       "      <th>2</th>\n",
       "      <td>2137.837527</td>\n",
       "      <td>478.845064</td>\n",
       "      <td>0.223986</td>\n",
       "    </tr>\n",
       "    <tr>\n",
       "      <th>3</th>\n",
       "      <td>2080.101597</td>\n",
       "      <td>360.525854</td>\n",
       "      <td>0.173321</td>\n",
       "    </tr>\n",
       "    <tr>\n",
       "      <th>4</th>\n",
       "      <td>2265.580966</td>\n",
       "      <td>490.083268</td>\n",
       "      <td>0.216317</td>\n",
       "    </tr>\n",
       "  </tbody>\n",
       "</table>\n",
       "</div>"
      ],
      "text/plain": [
       "   MatchedHit_offset_abs  MatchedHit_offset_rel  MatchedHit_offset_rel_div_abs\n",
       "0            4003.291053             980.480698                       0.244919\n",
       "1            3109.043351             564.706574                       0.181634\n",
       "2            2137.837527             478.845064                       0.223986\n",
       "3            2080.101597             360.525854                       0.173321\n",
       "4            2265.580966             490.083268                       0.216317"
      ]
     },
     "execution_count": 50,
     "metadata": {},
     "output_type": "execute_result"
    }
   ],
   "source": [
    "train.loc[:, train.columns.str.startswith(\"MatchedHit_offset_\")].head()"
   ]
  },
  {
   "cell_type": "markdown",
   "metadata": {},
   "source": [
    "### Отношение дисперсий"
   ]
  },
  {
   "cell_type": "code",
   "execution_count": 51,
   "metadata": {},
   "outputs": [],
   "source": [
    "def ratio_mextra_matched(df):    \n",
    "    for i in range(4):\n",
    "        cols = [f\"MatchedHit_DX[{i}]\", f\"MatchedHit_DY[{i}]\", f\"Mextra_DX2[{i}]\", f\"Mextra_DY2[{i}]\"]\n",
    "        mask = np.isclose(df.loc[:, cols], NA_VALUE).any(axis=1)\n",
    "\n",
    "        tmpX = df.loc[~mask, cols[::2]]\n",
    "        tmpY = df.loc[~mask, cols[1::2]]\n",
    "        \n",
    "        ratio = tmpX.iloc[:, 0] / np.sqrt(tmpX.iloc[:, 1]) + \\\n",
    "                tmpY.iloc[:, 0] / np.sqrt(tmpY.iloc[:, 1])\n",
    "\n",
    "        name = f\"ratio_MextraMatchedHit[{i}]\"\n",
    "        df[name] = NA_VALUE\n",
    "        df.loc[~mask, name] = ratio\n",
    "\n",
    "    return df"
   ]
  },
  {
   "cell_type": "code",
   "execution_count": 52,
   "metadata": {},
   "outputs": [],
   "source": [
    "# train, test = map(ratio_mextra_matched, [train, test])"
   ]
  },
  {
   "cell_type": "code",
   "execution_count": 53,
   "metadata": {},
   "outputs": [],
   "source": [
    "train = ratio_mextra_matched(train)"
   ]
  },
  {
   "cell_type": "code",
   "execution_count": 54,
   "metadata": {},
   "outputs": [
    {
     "data": {
      "text/html": [
       "<div>\n",
       "<style scoped>\n",
       "    .dataframe tbody tr th:only-of-type {\n",
       "        vertical-align: middle;\n",
       "    }\n",
       "\n",
       "    .dataframe tbody tr th {\n",
       "        vertical-align: top;\n",
       "    }\n",
       "\n",
       "    .dataframe thead th {\n",
       "        text-align: right;\n",
       "    }\n",
       "</style>\n",
       "<table border=\"1\" class=\"dataframe\">\n",
       "  <thead>\n",
       "    <tr style=\"text-align: right;\">\n",
       "      <th></th>\n",
       "      <th>ratio_MextraMatchedHit[0]</th>\n",
       "      <th>ratio_MextraMatchedHit[1]</th>\n",
       "      <th>ratio_MextraMatchedHit[2]</th>\n",
       "      <th>ratio_MextraMatchedHit[3]</th>\n",
       "    </tr>\n",
       "  </thead>\n",
       "  <tbody>\n",
       "    <tr>\n",
       "      <th>0</th>\n",
       "      <td>8.287385</td>\n",
       "      <td>5.293275</td>\n",
       "      <td>5.687804</td>\n",
       "      <td>4.349901</td>\n",
       "    </tr>\n",
       "    <tr>\n",
       "      <th>1</th>\n",
       "      <td>18.965682</td>\n",
       "      <td>12.044753</td>\n",
       "      <td>13.049134</td>\n",
       "      <td>32.661490</td>\n",
       "    </tr>\n",
       "    <tr>\n",
       "      <th>2</th>\n",
       "      <td>6.001871</td>\n",
       "      <td>3.893571</td>\n",
       "      <td>4.204257</td>\n",
       "      <td>3.224819</td>\n",
       "    </tr>\n",
       "    <tr>\n",
       "      <th>3</th>\n",
       "      <td>12.649516</td>\n",
       "      <td>8.039806</td>\n",
       "      <td>8.694506</td>\n",
       "      <td>6.719570</td>\n",
       "    </tr>\n",
       "    <tr>\n",
       "      <th>4</th>\n",
       "      <td>5.487896</td>\n",
       "      <td>3.481615</td>\n",
       "      <td>3.740265</td>\n",
       "      <td>2.870688</td>\n",
       "    </tr>\n",
       "  </tbody>\n",
       "</table>\n",
       "</div>"
      ],
      "text/plain": [
       "   ratio_MextraMatchedHit[0]  ratio_MextraMatchedHit[1]  \\\n",
       "0                   8.287385                   5.293275   \n",
       "1                  18.965682                  12.044753   \n",
       "2                   6.001871                   3.893571   \n",
       "3                  12.649516                   8.039806   \n",
       "4                   5.487896                   3.481615   \n",
       "\n",
       "   ratio_MextraMatchedHit[2]  ratio_MextraMatchedHit[3]  \n",
       "0                   5.687804                   4.349901  \n",
       "1                  13.049134                  32.661490  \n",
       "2                   4.204257                   3.224819  \n",
       "3                   8.694506                   6.719570  \n",
       "4                   3.740265                   2.870688  "
      ]
     },
     "execution_count": 54,
     "metadata": {},
     "output_type": "execute_result"
    }
   ],
   "source": [
    "train.loc[:, train.columns.str.startswith(\"ratio_MextraMatchedHit\")].head()"
   ]
  },
  {
   "cell_type": "markdown",
   "metadata": {},
   "source": [
    "### Левые и правые границы для Lextra (- не влезает в память)"
   ]
  },
  {
   "cell_type": "code",
   "execution_count": 55,
   "metadata": {},
   "outputs": [],
   "source": [
    "def sigma_lextra_hit(df):\n",
    "    for axis in ['X', 'Y']:\n",
    "        for i in range(0, 4):\n",
    "            col_i = f\"Lextra_{axis}[{i}]\"\n",
    "            col_j = f\"Mextra_D{axis}2[{i}]\"\n",
    "            mask = np.isclose(df.loc[:, [col_i, col_j]], NA_VALUE).any(axis=1)\n",
    "\n",
    "            for col, factor in zip([f\"Lextra_{axis}[{i}]_minus_sigma2\",\n",
    "                                    f\"Lextra_{axis}[{i}]_minus_sigma\",\n",
    "                                    f\"Lextra_{axis}[{i}]_plus_sigma\",\n",
    "                                    f\"Lextra_{axis}[{i}]_plus_sigma2\"],\n",
    "                                   [-2, -1, 1, 2]):\n",
    "                df[col] = NA_VALUE\n",
    "                df.loc[~mask, col] = df.loc[~mask, col_i] + factor * np.sqrt(df.loc[~mask, col_j])\n",
    "        \n",
    "    return df"
   ]
  },
  {
   "cell_type": "markdown",
   "metadata": {},
   "source": [
    "### Число объектов в кластерах"
   ]
  },
  {
   "cell_type": "code",
   "execution_count": 56,
   "metadata": {},
   "outputs": [],
   "source": [
    "def cluster_size(df):\n",
    "    for i in range(4):\n",
    "        name = f'cl_size[{i}]'\n",
    "        df[name] = NA_VALUE\n",
    "        \n",
    "        cols = [f'ncl[{i}]', f'avg_cs[{i}]']\n",
    "        mask = np.isclose(df.loc[:, cols], NA_VALUE).any(axis=1)\n",
    "        df.loc[~mask, name] = df.loc[~mask, cols[0]] * df.loc[~mask, cols[1]]\n",
    "    return df"
   ]
  },
  {
   "cell_type": "code",
   "execution_count": 57,
   "metadata": {},
   "outputs": [],
   "source": [
    "# train, test = map(cluster_size, [train, test])"
   ]
  },
  {
   "cell_type": "code",
   "execution_count": 58,
   "metadata": {},
   "outputs": [],
   "source": [
    "train = cluster_size(train)"
   ]
  },
  {
   "cell_type": "code",
   "execution_count": 59,
   "metadata": {},
   "outputs": [
    {
     "data": {
      "text/html": [
       "<div>\n",
       "<style scoped>\n",
       "    .dataframe tbody tr th:only-of-type {\n",
       "        vertical-align: middle;\n",
       "    }\n",
       "\n",
       "    .dataframe tbody tr th {\n",
       "        vertical-align: top;\n",
       "    }\n",
       "\n",
       "    .dataframe thead th {\n",
       "        text-align: right;\n",
       "    }\n",
       "</style>\n",
       "<table border=\"1\" class=\"dataframe\">\n",
       "  <thead>\n",
       "    <tr style=\"text-align: right;\">\n",
       "      <th></th>\n",
       "      <th>cl_size[0]</th>\n",
       "      <th>cl_size[1]</th>\n",
       "      <th>cl_size[2]</th>\n",
       "      <th>cl_size[3]</th>\n",
       "    </tr>\n",
       "  </thead>\n",
       "  <tbody>\n",
       "    <tr>\n",
       "      <th>0</th>\n",
       "      <td>94.000000</td>\n",
       "      <td>49.000001</td>\n",
       "      <td>14.999999</td>\n",
       "      <td>17.000000</td>\n",
       "    </tr>\n",
       "    <tr>\n",
       "      <th>1</th>\n",
       "      <td>253.000000</td>\n",
       "      <td>53.000002</td>\n",
       "      <td>15.000000</td>\n",
       "      <td>32.000002</td>\n",
       "    </tr>\n",
       "    <tr>\n",
       "      <th>2</th>\n",
       "      <td>293.000000</td>\n",
       "      <td>51.000001</td>\n",
       "      <td>12.999999</td>\n",
       "      <td>13.000001</td>\n",
       "    </tr>\n",
       "    <tr>\n",
       "      <th>3</th>\n",
       "      <td>227.000002</td>\n",
       "      <td>67.999997</td>\n",
       "      <td>25.000000</td>\n",
       "      <td>26.000000</td>\n",
       "    </tr>\n",
       "    <tr>\n",
       "      <th>4</th>\n",
       "      <td>33.000001</td>\n",
       "      <td>43.000001</td>\n",
       "      <td>9.000000</td>\n",
       "      <td>14.000000</td>\n",
       "    </tr>\n",
       "  </tbody>\n",
       "</table>\n",
       "</div>"
      ],
      "text/plain": [
       "   cl_size[0]  cl_size[1]  cl_size[2]  cl_size[3]\n",
       "0   94.000000   49.000001   14.999999   17.000000\n",
       "1  253.000000   53.000002   15.000000   32.000002\n",
       "2  293.000000   51.000001   12.999999   13.000001\n",
       "3  227.000002   67.999997   25.000000   26.000000\n",
       "4   33.000001   43.000001    9.000000   14.000000"
      ]
     },
     "execution_count": 59,
     "metadata": {},
     "output_type": "execute_result"
    }
   ],
   "source": [
    "train.loc[:, train.columns.str.startswith('cl_size')].head()"
   ]
  },
  {
   "cell_type": "markdown",
   "metadata": {},
   "source": [
    "### Последняя площадка"
   ]
  },
  {
   "cell_type": "code",
   "execution_count": 60,
   "metadata": {},
   "outputs": [],
   "source": [
    "def station_latest(df):\n",
    "    station = np.zeros(df.shape[0], dtype=int)\n",
    "    \n",
    "    for i in range(4):\n",
    "        cols = [f\"MatchedHit_X[{i}]\", f\"MatchedHit_Y[{i}]\", f\"MatchedHit_Z[{i}]\"]\n",
    "        mask = np.isclose(df.loc[:, cols], NA_VALUE).any(axis=1)\n",
    "        station[~mask] += 1\n",
    "        \n",
    "    df[\"station_latest\"] = station\n",
    "    \n",
    "    return df"
   ]
  },
  {
   "cell_type": "code",
   "execution_count": 61,
   "metadata": {},
   "outputs": [],
   "source": [
    "# train, test = map(station_latest, [train, test])"
   ]
  },
  {
   "cell_type": "code",
   "execution_count": 62,
   "metadata": {},
   "outputs": [],
   "source": [
    "# train.loc[:, \"station_latest\"].head()"
   ]
  },
  {
   "cell_type": "code",
   "execution_count": 63,
   "metadata": {},
   "outputs": [],
   "source": [
    "# np.unique(train['station_latest'], return_counts=True)"
   ]
  },
  {
   "cell_type": "markdown",
   "metadata": {},
   "source": [
    "### Еще один момент"
   ]
  },
  {
   "cell_type": "code",
   "execution_count": 64,
   "metadata": {},
   "outputs": [],
   "source": [
    "def momentum(df):\n",
    "    mask = np.isclose(df.loc[:, ['P', 'PT']], NA_VALUE).any(axis=1)\n",
    "    df['PO'] = NA_VALUE\n",
    "    df.loc[~mask, 'PO'] = np.power(df.loc[~mask, 'P'], 2.0) - np.power(df.loc[~mask, 'PT'], 2.0)\n",
    "    return df"
   ]
  },
  {
   "cell_type": "code",
   "execution_count": 65,
   "metadata": {},
   "outputs": [],
   "source": [
    "# train, test = map(momentum, [train, test])"
   ]
  },
  {
   "cell_type": "code",
   "execution_count": 66,
   "metadata": {},
   "outputs": [],
   "source": [
    "train = momentum(train)"
   ]
  },
  {
   "cell_type": "code",
   "execution_count": 67,
   "metadata": {},
   "outputs": [
    {
     "data": {
      "text/html": [
       "<div>\n",
       "<style scoped>\n",
       "    .dataframe tbody tr th:only-of-type {\n",
       "        vertical-align: middle;\n",
       "    }\n",
       "\n",
       "    .dataframe tbody tr th {\n",
       "        vertical-align: top;\n",
       "    }\n",
       "\n",
       "    .dataframe thead th {\n",
       "        text-align: right;\n",
       "    }\n",
       "</style>\n",
       "<table border=\"1\" class=\"dataframe\">\n",
       "  <thead>\n",
       "    <tr style=\"text-align: right;\">\n",
       "      <th></th>\n",
       "      <th>P</th>\n",
       "      <th>PT</th>\n",
       "      <th>PO</th>\n",
       "    </tr>\n",
       "  </thead>\n",
       "  <tbody>\n",
       "    <tr>\n",
       "      <th>0</th>\n",
       "      <td>12646.817591</td>\n",
       "      <td>1764.925899</td>\n",
       "      <td>1.568270e+08</td>\n",
       "    </tr>\n",
       "    <tr>\n",
       "      <th>1</th>\n",
       "      <td>28556.630027</td>\n",
       "      <td>4511.281266</td>\n",
       "      <td>7.951295e+08</td>\n",
       "    </tr>\n",
       "    <tr>\n",
       "      <th>2</th>\n",
       "      <td>17491.702634</td>\n",
       "      <td>1062.550086</td>\n",
       "      <td>3.048306e+08</td>\n",
       "    </tr>\n",
       "    <tr>\n",
       "      <th>3</th>\n",
       "      <td>37192.868559</td>\n",
       "      <td>4991.074825</td>\n",
       "      <td>1.358399e+09</td>\n",
       "    </tr>\n",
       "    <tr>\n",
       "      <th>4</th>\n",
       "      <td>16688.746174</td>\n",
       "      <td>1347.704888</td>\n",
       "      <td>2.766979e+08</td>\n",
       "    </tr>\n",
       "  </tbody>\n",
       "</table>\n",
       "</div>"
      ],
      "text/plain": [
       "              P           PT            PO\n",
       "0  12646.817591  1764.925899  1.568270e+08\n",
       "1  28556.630027  4511.281266  7.951295e+08\n",
       "2  17491.702634  1062.550086  3.048306e+08\n",
       "3  37192.868559  4991.074825  1.358399e+09\n",
       "4  16688.746174  1347.704888  2.766979e+08"
      ]
     },
     "execution_count": 67,
     "metadata": {},
     "output_type": "execute_result"
    }
   ],
   "source": [
    "train.loc[:, ['P', 'PT', 'PO']].head()"
   ]
  },
  {
   "cell_type": "markdown",
   "metadata": {},
   "source": [
    "### Отношение NShared к FOI_hits_N"
   ]
  },
  {
   "cell_type": "code",
   "execution_count": 68,
   "metadata": {},
   "outputs": [],
   "source": [
    "def nshared_foihits(df):\n",
    "    df.loc[:, \"frac_NShared_FOI_hits_N\"] = df.loc[:, \"NShared\"] / df.loc[:, \"FOI_hits_N\"] \n",
    "    df.loc[:, \"frac_NShared_FOI_hits_N\"] = df.loc[:, \"frac_NShared_FOI_hits_N\"].fillna(-1)\n",
    "    return df"
   ]
  },
  {
   "cell_type": "code",
   "execution_count": 69,
   "metadata": {},
   "outputs": [],
   "source": [
    "# train, test = map(nshared_foihits, [train, test])"
   ]
  },
  {
   "cell_type": "code",
   "execution_count": 70,
   "metadata": {},
   "outputs": [],
   "source": [
    "train = nshared_foihits(train)"
   ]
  },
  {
   "cell_type": "code",
   "execution_count": 71,
   "metadata": {},
   "outputs": [
    {
     "data": {
      "text/html": [
       "<div>\n",
       "<style scoped>\n",
       "    .dataframe tbody tr th:only-of-type {\n",
       "        vertical-align: middle;\n",
       "    }\n",
       "\n",
       "    .dataframe tbody tr th {\n",
       "        vertical-align: top;\n",
       "    }\n",
       "\n",
       "    .dataframe thead th {\n",
       "        text-align: right;\n",
       "    }\n",
       "</style>\n",
       "<table border=\"1\" class=\"dataframe\">\n",
       "  <thead>\n",
       "    <tr style=\"text-align: right;\">\n",
       "      <th></th>\n",
       "      <th>NShared</th>\n",
       "      <th>FOI_hits_N</th>\n",
       "      <th>frac_NShared_FOI_hits_N</th>\n",
       "    </tr>\n",
       "  </thead>\n",
       "  <tbody>\n",
       "    <tr>\n",
       "      <th>0</th>\n",
       "      <td>0</td>\n",
       "      <td>6</td>\n",
       "      <td>0.00</td>\n",
       "    </tr>\n",
       "    <tr>\n",
       "      <th>1</th>\n",
       "      <td>1</td>\n",
       "      <td>4</td>\n",
       "      <td>0.25</td>\n",
       "    </tr>\n",
       "    <tr>\n",
       "      <th>2</th>\n",
       "      <td>0</td>\n",
       "      <td>9</td>\n",
       "      <td>0.00</td>\n",
       "    </tr>\n",
       "    <tr>\n",
       "      <th>3</th>\n",
       "      <td>0</td>\n",
       "      <td>5</td>\n",
       "      <td>0.00</td>\n",
       "    </tr>\n",
       "    <tr>\n",
       "      <th>4</th>\n",
       "      <td>0</td>\n",
       "      <td>6</td>\n",
       "      <td>0.00</td>\n",
       "    </tr>\n",
       "  </tbody>\n",
       "</table>\n",
       "</div>"
      ],
      "text/plain": [
       "   NShared  FOI_hits_N  frac_NShared_FOI_hits_N\n",
       "0        0           6                     0.00\n",
       "1        1           4                     0.25\n",
       "2        0           9                     0.00\n",
       "3        0           5                     0.00\n",
       "4        0           6                     0.00"
      ]
     },
     "execution_count": 71,
     "metadata": {},
     "output_type": "execute_result"
    }
   ],
   "source": [
    "train.loc[:, [\"NShared\", \"FOI_hits_N\", \"frac_NShared_FOI_hits_N\"]].head()"
   ]
  },
  {
   "cell_type": "markdown",
   "metadata": {},
   "source": [
    "### Усредняем дисперсии"
   ]
  },
  {
   "cell_type": "code",
   "execution_count": 72,
   "metadata": {},
   "outputs": [],
   "source": [
    "def mean_std(df):\n",
    "    for station in range(4):\n",
    "        cols = [f'MatchedHit_D{axis}[{station}]' for axis in 'XYZ']\n",
    "        mask = np.isclose(df.loc[:, cols], -1).any(axis=1)\n",
    "        \n",
    "        name = f'MatchedHit_D[{station}]_mean'\n",
    "        df[name] = -1\n",
    "        df.loc[~mask, name] = df.loc[~mask, cols].mean(axis=1)\n",
    "        \n",
    "    for station in range(4):\n",
    "        cols = [f'Mextra_D{axis}2[{station}]' for axis in 'XY']\n",
    "        mask = np.isclose(df.loc[:, cols], -1).any(axis=1)\n",
    "        \n",
    "        name = f'Mextra_D2[{station}]_mean'\n",
    "        df[name] = -1\n",
    "        df.loc[~mask, name] = df.loc[~mask, cols].mean(axis=1)\n",
    "\n",
    "    return df"
   ]
  },
  {
   "cell_type": "code",
   "execution_count": 73,
   "metadata": {},
   "outputs": [],
   "source": [
    "# train, test = map(mean_std, [train, test])"
   ]
  },
  {
   "cell_type": "code",
   "execution_count": 74,
   "metadata": {},
   "outputs": [],
   "source": [
    "train = mean_std(train)"
   ]
  },
  {
   "cell_type": "markdown",
   "metadata": {},
   "source": [
    "### Удаляем лишние колонки"
   ]
  },
  {
   "cell_type": "code",
   "execution_count": 75,
   "metadata": {},
   "outputs": [],
   "source": [
    "import operator\n",
    "from functools import reduce\n",
    "\n",
    "def drop_columns(df):\n",
    "    mask = [df.columns.str.startswith('MatchedHit_X'),\n",
    "            df.columns.str.startswith('MatchedHit_Y'),\n",
    "            df.columns.str.startswith('Lextra_X'),\n",
    "            df.columns.str.startswith('Lextra_Y'),\n",
    "            df.columns.str.startswith('FOI_hits_N['),\n",
    "            df.columns == \"ndof\",\n",
    "            df.columns.str.startswith('MatchedHit_DX') & ~df.columns.str.endswith('_mean'),\n",
    "            df.columns.str.startswith('MatchedHit_DY') & ~df.columns.str.endswith('_mean'),\n",
    "            df.columns.str.startswith('MatchedHit_DZ') & ~df.columns.str.endswith('_mean'),\n",
    "            df.columns.str.startswith('Mextra_D') & ~df.columns.str.endswith('_mean')]\n",
    "    mask = reduce(operator.or_, mask)\n",
    "    df.drop(columns=df.columns[mask], inplace=True)\n",
    "    return df"
   ]
  },
  {
   "cell_type": "code",
   "execution_count": 76,
   "metadata": {},
   "outputs": [],
   "source": [
    "# train, test = map(drop_columns, [train, test])"
   ]
  },
  {
   "cell_type": "code",
   "execution_count": 77,
   "metadata": {},
   "outputs": [],
   "source": [
    "train = drop_columns(train)"
   ]
  },
  {
   "cell_type": "markdown",
   "metadata": {},
   "source": [
    "## Обучение модели"
   ]
  },
  {
   "cell_type": "markdown",
   "metadata": {},
   "source": [
    "I know this is incorrect. See it as a low-hanging fruit to beat the baseline. Catboost affirmatively [refused](https://github.com/catboost/catboost/pull/399) to support negative weights. At the same time, its evaluation is [extremly fast](https://catboost.ai/news/best-in-class-inference-and-a-ton-of-speedups), so we are using it as the timing benchmark for Track 2. Feel free to use a patched version with disabled negative weights check."
   ]
  },
  {
   "cell_type": "code",
   "execution_count": 78,
   "metadata": {},
   "outputs": [
    {
     "data": {
      "text/plain": [
       "['ncl[0]',\n",
       " 'ncl[1]',\n",
       " 'ncl[2]',\n",
       " 'ncl[3]',\n",
       " 'avg_cs[0]',\n",
       " 'avg_cs[1]',\n",
       " 'avg_cs[2]',\n",
       " 'avg_cs[3]',\n",
       " 'MatchedHit_TYPE[0]',\n",
       " 'MatchedHit_TYPE[1]',\n",
       " 'MatchedHit_TYPE[2]',\n",
       " 'MatchedHit_TYPE[3]',\n",
       " 'MatchedHit_Z[0]',\n",
       " 'MatchedHit_Z[1]',\n",
       " 'MatchedHit_Z[2]',\n",
       " 'MatchedHit_Z[3]',\n",
       " 'MatchedHit_T[0]',\n",
       " 'MatchedHit_T[1]',\n",
       " 'MatchedHit_T[2]',\n",
       " 'MatchedHit_T[3]',\n",
       " 'MatchedHit_DT[0]',\n",
       " 'MatchedHit_DT[1]',\n",
       " 'MatchedHit_DT[2]',\n",
       " 'MatchedHit_DT[3]',\n",
       " 'NShared',\n",
       " 'FOI_hits_N',\n",
       " 'PT',\n",
       " 'P',\n",
       " 'find_closest_hit_per_station_0',\n",
       " 'find_closest_hit_per_station_1',\n",
       " 'find_closest_hit_per_station_2',\n",
       " 'find_closest_hit_per_station_3',\n",
       " 'find_closest_hit_per_station_4',\n",
       " 'find_closest_hit_per_station_5',\n",
       " 'find_closest_hit_per_station_6',\n",
       " 'find_closest_hit_per_station_7',\n",
       " 'find_closest_hit_per_station_8',\n",
       " 'find_closest_hit_per_station_9',\n",
       " 'find_closest_hit_per_station_10',\n",
       " 'find_closest_hit_per_station_11',\n",
       " 'find_closest_hit_per_station_12',\n",
       " 'find_closest_hit_per_station_13',\n",
       " 'find_closest_hit_per_station_14',\n",
       " 'find_closest_hit_per_station_15',\n",
       " 'find_closest_hit_per_station_16',\n",
       " 'find_closest_hit_per_station_17',\n",
       " 'find_closest_hit_per_station_18',\n",
       " 'find_closest_hit_per_station_19',\n",
       " 'find_closest_hit_per_station_20',\n",
       " 'find_closest_hit_per_station_21',\n",
       " 'find_closest_hit_per_station_22',\n",
       " 'find_closest_hit_per_station_23',\n",
       " 'find_closest_hit_per_station_24',\n",
       " 'find_closest_hit_per_station_25',\n",
       " 'find_closest_hit_per_station_26',\n",
       " 'find_closest_hit_per_station_27',\n",
       " 'find_closest_hit_per_station_28',\n",
       " 'find_closest_hit_per_station_29',\n",
       " 'find_closest_hit_per_station_30',\n",
       " 'find_closest_hit_per_station_31',\n",
       " 'find_closest_hit_per_station_32',\n",
       " 'find_closest_hit_per_station_33',\n",
       " 'find_closest_hit_per_station_34',\n",
       " 'find_closest_hit_per_station_35',\n",
       " 'find_closest_hit_per_station_36',\n",
       " 'find_closest_hit_per_station_37',\n",
       " 'find_closest_hit_per_station_38',\n",
       " 'find_closest_hit_per_station_39',\n",
       " 'find_closest_hit_per_station_40',\n",
       " 'find_closest_hit_per_station_41',\n",
       " 'find_closest_hit_per_station_42',\n",
       " 'find_closest_hit_per_station_43',\n",
       " 'MatchedHit_R[0]',\n",
       " 'MatchedHit_R[1]',\n",
       " 'MatchedHit_R[2]',\n",
       " 'MatchedHit_R[3]',\n",
       " 'MatchedHit_A[0]',\n",
       " 'MatchedHit_A[1]',\n",
       " 'MatchedHit_A[2]',\n",
       " 'MatchedHit_A[3]',\n",
       " 'Lextra_R[0]',\n",
       " 'Lextra_R[1]',\n",
       " 'Lextra_R[2]',\n",
       " 'Lextra_R[3]',\n",
       " 'MatchedHit_R[1/0]_delta',\n",
       " 'MatchedHit_R[1/0]_delta_abs',\n",
       " 'MatchedHit_R[1/0]_frac',\n",
       " 'MatchedHit_R[2/1]_delta',\n",
       " 'MatchedHit_R[2/1]_delta_abs',\n",
       " 'MatchedHit_R[2/1]_frac',\n",
       " 'MatchedHit_R[3/2]_delta',\n",
       " 'MatchedHit_R[3/2]_delta_abs',\n",
       " 'MatchedHit_R[3/2]_frac',\n",
       " 'MatchedHit_R[0/3]_delta',\n",
       " 'MatchedHit_R[0/3]_delta_abs',\n",
       " 'MatchedHit_R[0/3]_frac',\n",
       " 'Lextra_R[1/0]_delta',\n",
       " 'Lextra_R[1/0]_delta_abs',\n",
       " 'Lextra_R[2/1]_delta',\n",
       " 'Lextra_R[2/1]_delta_abs',\n",
       " 'Lextra_R[3/2]_delta',\n",
       " 'Lextra_R[3/2]_delta_abs',\n",
       " 'Lextra_R[0/3]_delta',\n",
       " 'Lextra_R[0/3]_delta_abs',\n",
       " 'distance_LextraMatchedHit[0]',\n",
       " 'distance_LextraMatchedHit[1]',\n",
       " 'distance_LextraMatchedHit[2]',\n",
       " 'distance_LextraMatchedHit[3]',\n",
       " 'distance_LextraMatchedHit_SE',\n",
       " 'distance_LextraMatchedHit_AE',\n",
       " 'MatchedHit_offset_abs',\n",
       " 'MatchedHit_offset_rel',\n",
       " 'MatchedHit_offset_rel_div_abs',\n",
       " 'ratio_MextraMatchedHit[0]',\n",
       " 'ratio_MextraMatchedHit[1]',\n",
       " 'ratio_MextraMatchedHit[2]',\n",
       " 'ratio_MextraMatchedHit[3]',\n",
       " 'cl_size[0]',\n",
       " 'cl_size[1]',\n",
       " 'cl_size[2]',\n",
       " 'cl_size[3]',\n",
       " 'PO',\n",
       " 'frac_NShared_FOI_hits_N',\n",
       " 'MatchedHit_D[0]_mean',\n",
       " 'MatchedHit_D[1]_mean',\n",
       " 'MatchedHit_D[2]_mean',\n",
       " 'MatchedHit_D[3]_mean',\n",
       " 'Mextra_D2[0]_mean',\n",
       " 'Mextra_D2[1]_mean',\n",
       " 'Mextra_D2[2]_mean',\n",
       " 'Mextra_D2[3]_mean']"
      ]
     },
     "execution_count": 78,
     "metadata": {},
     "output_type": "execute_result"
    }
   ],
   "source": [
    "features = list(filter(lambda s: s not in utils.TRAIN_COLUMNS, train.columns))\n",
    "features"
   ]
  },
  {
   "cell_type": "code",
   "execution_count": 79,
   "metadata": {},
   "outputs": [
    {
     "name": "stdout",
     "output_type": "stream",
     "text": [
      "seeds: 1925 7354 7914 4109 2190\n",
      "log_loss = 0.401340; auc = 0.850647; rejection90 = 0.800087\n",
      "log_loss = 0.402666; auc = 0.852841; rejection90 = 0.792045\n",
      "log_loss = 0.401943; auc = 0.851426; rejection90 = 0.777426\n",
      "log_loss = 0.401953; auc = 0.852565; rejection90 = 0.776362\n",
      "log_loss = 0.402289; auc = 0.852336; rejection90 = 0.780848\n",
      "CPU times: user 2h 49min 35s, sys: 1h 15min 27s, total: 4h 5min 2s\n",
      "Wall time: 1h 24min 14s\n"
     ]
    }
   ],
   "source": [
    "%%time\n",
    "\n",
    "from sklearn.model_selection import KFold, StratifiedKFold\n",
    "from sklearn.metrics import roc_auc_score, log_loss\n",
    "from scoring import rejection90\n",
    "\n",
    "models_g = []\n",
    "scores_g = []\n",
    "\n",
    "# kf = StratifiedKFold(n_splits=5, shuffle=True, random_state=4986)\n",
    "kf = KFold(n_splits=5, shuffle=True, random_state=4986)\n",
    "\n",
    "np.random.seed(5872)\n",
    "seeds = np.random.randint(1_000, 10_000, size=5)\n",
    "print(\"seeds:\", *seeds)\n",
    "\n",
    "for train_i, valid_i in kf.split(train):\n",
    "    X_train, w_train, y_train = train.loc[train_i, features], \\\n",
    "        train.loc[train_i, 'weight'], train.loc[train_i, 'label']\n",
    "    X_valid, w_valid, y_valid = train.loc[valid_i, features], \\\n",
    "        train.loc[valid_i, 'weight'], train.loc[valid_i, 'label']\n",
    "    \n",
    "    X_train, w_train, y_train = map(lambda o: o.values, [X_train, w_train, y_train])\n",
    "    X_valid, w_valid, y_valid = map(lambda o: o.values, [X_valid, w_valid, y_valid])\n",
    "    \n",
    "    model = catboost.CatBoostClassifier(\n",
    "        iterations=7000, max_depth=8, thread_count=16,\n",
    "        verbose=False, task_type='GPU', random_state=seeds[len(models_g)]\n",
    "    )\n",
    "\n",
    "    model.fit(X_train, y_train, eval_set=[(X_valid, y_valid)],\n",
    "              sample_weight=np.abs(w_train))\n",
    "    \n",
    "    y_pred = model.predict_proba(X_valid)[:,1]\n",
    "    \n",
    "    score = {\n",
    "        'log_loss': log_loss(y_valid, y_pred),\n",
    "        'auc': roc_auc_score(y_valid, y_pred),\n",
    "        'rejection90': rejection90(y_valid, y_pred, sample_weight=w_valid)\n",
    "    }\n",
    "    \n",
    "    print(\"log_loss = {log_loss:.6f}; auc = {auc:.6f}; rejection90 = {rejection90:.6f}\".format(**score))\n",
    "    \n",
    "    models_g.append(model)\n",
    "    scores_g.append(score)"
   ]
  },
  {
   "cell_type": "code",
   "execution_count": 80,
   "metadata": {},
   "outputs": [
    {
     "name": "stdout",
     "output_type": "stream",
     "text": [
      "log_loss = 0.402038; auc = 0.851963; rejection90 = 0.785354\n"
     ]
    }
   ],
   "source": [
    "from collections import defaultdict\n",
    "from functools import reduce\n",
    "from operator import setitem\n",
    "\n",
    "score = reduce(lambda d, sc: any(setitem(d, k, d[k] + v) for k, v in sc.items()) or d,\n",
    "               scores_g, defaultdict(float))\n",
    "\n",
    "for k, v in score.items():\n",
    "    score[k] = v / len(scores_g)\n",
    "    \n",
    "print(\"log_loss = {log_loss:.6f}; auc = {auc:.6f}; rejection90 = {rejection90:.6f}\".format(**score))"
   ]
  },
  {
   "cell_type": "code",
   "execution_count": 81,
   "metadata": {},
   "outputs": [
    {
     "data": {
      "text/plain": [
       "0.7853535945174174"
      ]
     },
     "execution_count": 81,
     "metadata": {},
     "output_type": "execute_result"
    }
   ],
   "source": [
    "score['rejection90']"
   ]
  },
  {
   "cell_type": "code",
   "execution_count": 82,
   "metadata": {
    "scrolled": false
   },
   "outputs": [
    {
     "data": {
      "text/plain": [
       "[('PT', 0.055846537595657685),\n",
       " ('distance_LextraMatchedHit_SE', 0.03164172409569899),\n",
       " ('distance_LextraMatchedHit_AE', 0.03157313509792627),\n",
       " ('find_closest_hit_per_station_1', 0.023532799279253773),\n",
       " ('find_closest_hit_per_station_0', 0.023441631638413257),\n",
       " ('NShared', 0.01933434438875744),\n",
       " ('frac_NShared_FOI_hits_N', 0.019062768634130464),\n",
       " ('ncl[0]', 0.015625926391090027),\n",
       " ('P', 0.015411070397360121),\n",
       " ('cl_size[0]', 0.015366471275706797),\n",
       " ('MatchedHit_R[3]', 0.015167021153626243),\n",
       " ('ncl[1]', 0.01462885029264158),\n",
       " ('find_closest_hit_per_station_28', 0.01462500044481362),\n",
       " ('avg_cs[1]', 0.014453300899044943),\n",
       " ('find_closest_hit_per_station_29', 0.014259621279393193),\n",
       " ('ncl[2]', 0.013531251246393605),\n",
       " ('PO', 0.013352403729647539),\n",
       " ('avg_cs[2]', 0.013216236175999336),\n",
       " ('MatchedHit_R[2/1]_delta_abs', 0.013146490417476796),\n",
       " ('avg_cs[3]', 0.01313512670931237),\n",
       " ('ncl[3]', 0.012861924289614598),\n",
       " ('MatchedHit_R[1/0]_delta_abs', 0.012820317126689726),\n",
       " ('avg_cs[0]', 0.012709015749216688),\n",
       " ('MatchedHit_R[1]', 0.012510154176215562),\n",
       " ('find_closest_hit_per_station_36', 0.012303605031318613),\n",
       " ('find_closest_hit_per_station_3', 0.01182035539442117),\n",
       " ('find_closest_hit_per_station_31', 0.01132637956247031),\n",
       " ('ratio_MextraMatchedHit[3]', 0.011226408929120383),\n",
       " ('ratio_MextraMatchedHit[2]', 0.01117484739688329),\n",
       " ('find_closest_hit_per_station_40', 0.010324443970960887),\n",
       " ('find_closest_hit_per_station_37', 0.010069218210057764),\n",
       " ('cl_size[1]', 0.010042879651275751),\n",
       " ('MatchedHit_R[3/2]_delta_abs', 0.009710058869619995),\n",
       " ('cl_size[2]', 0.009502801974152847),\n",
       " ('find_closest_hit_per_station_39', 0.00944041703275143),\n",
       " ('cl_size[3]', 0.009399047726418964),\n",
       " ('find_closest_hit_per_station_38', 0.009257716134293811),\n",
       " ('find_closest_hit_per_station_33', 0.009197150365820321),\n",
       " ('find_closest_hit_per_station_32', 0.009138800250380481),\n",
       " ('find_closest_hit_per_station_2', 0.009137298168547529),\n",
       " ('find_closest_hit_per_station_41', 0.009016902225591424),\n",
       " ('find_closest_hit_per_station_12', 0.008184397257775533),\n",
       " ('find_closest_hit_per_station_30', 0.008154436693278953),\n",
       " ('distance_LextraMatchedHit[0]', 0.008152853031749303),\n",
       " ('ratio_MextraMatchedHit[0]', 0.007993191365124431),\n",
       " ('find_closest_hit_per_station_42', 0.00788993858664493),\n",
       " ('find_closest_hit_per_station_43', 0.007824709839697458),\n",
       " ('MatchedHit_R[0]', 0.007382047503679405),\n",
       " ('FOI_hits_N', 0.00737316712469301),\n",
       " ('find_closest_hit_per_station_35', 0.0071036056554003996),\n",
       " ('distance_LextraMatchedHit[1]', 0.007003693672282705),\n",
       " ('MatchedHit_Z[0]', 0.006914748736942608),\n",
       " ('Lextra_R[1/0]_delta', 0.006853240031974546),\n",
       " ('MatchedHit_R[2]', 0.006144626689604978),\n",
       " ('MatchedHit_offset_rel_div_abs', 0.006107192830612405),\n",
       " ('ratio_MextraMatchedHit[1]', 0.006093124103703487),\n",
       " ('find_closest_hit_per_station_24', 0.006079438700028362),\n",
       " ('MatchedHit_A[3]', 0.0060431159648315705),\n",
       " ('find_closest_hit_per_station_34', 0.005979592317543317),\n",
       " ('find_closest_hit_per_station_13', 0.005741845457875447),\n",
       " ('MatchedHit_R[1/0]_frac', 0.0057335969414662345),\n",
       " ('MatchedHit_R[2/1]_frac', 0.005670947423494729),\n",
       " ('find_closest_hit_per_station_7', 0.005664706192715656),\n",
       " ('distance_LextraMatchedHit[2]', 0.005597309016126826),\n",
       " ('MatchedHit_DT[0]', 0.005596761351337838),\n",
       " ('distance_LextraMatchedHit[3]', 0.005565635084135807),\n",
       " ('Lextra_R[3/2]_delta_abs', 0.005487980359616993),\n",
       " ('Mextra_D2[3]_mean', 0.005472847609215029),\n",
       " ('MatchedHit_T[3]', 0.005349773069546695),\n",
       " ('Lextra_R[0]', 0.00530352269763851),\n",
       " ('find_closest_hit_per_station_4', 0.005265622049381619),\n",
       " ('MatchedHit_R[0/3]_frac', 0.005247317215435253),\n",
       " ('MatchedHit_A[0]', 0.0051965449776120946),\n",
       " ('MatchedHit_A[2]', 0.0051797644155071616),\n",
       " ('MatchedHit_T[2]', 0.0051702345934157064),\n",
       " ('MatchedHit_A[1]', 0.005115187283104864),\n",
       " ('MatchedHit_DT[1]', 0.005105731534020086),\n",
       " ('find_closest_hit_per_station_25', 0.005103059129039319),\n",
       " ('Lextra_R[3/2]_delta', 0.005072908989712211),\n",
       " ('find_closest_hit_per_station_15', 0.004718419201252293),\n",
       " ('Lextra_R[3]', 0.004669565573005289),\n",
       " ('MatchedHit_Z[3]', 0.00465698287603479),\n",
       " ('MatchedHit_T[1]', 0.004594167293115459),\n",
       " ('MatchedHit_R[3/2]_frac', 0.004581513550648887),\n",
       " ('MatchedHit_Z[1]', 0.0045070521232342805),\n",
       " ('Mextra_D2[0]_mean', 0.0044954577761601566),\n",
       " ('MatchedHit_T[0]', 0.004490383456907621),\n",
       " ('Mextra_D2[2]_mean', 0.004421778854172987),\n",
       " ('Mextra_D2[1]_mean', 0.004363934060083345),\n",
       " ('MatchedHit_DT[3]', 0.004361566192391906),\n",
       " ('find_closest_hit_per_station_5', 0.004226953131486616),\n",
       " ('find_closest_hit_per_station_6', 0.004146502150122389),\n",
       " ('find_closest_hit_per_station_8', 0.004078976243729084),\n",
       " ('Lextra_R[1/0]_delta_abs', 0.004076692025747938),\n",
       " ('MatchedHit_offset_rel', 0.0040747478313591405),\n",
       " ('MatchedHit_D[3]_mean', 0.00392563326321824),\n",
       " ('find_closest_hit_per_station_9', 0.003914948563393129),\n",
       " ('MatchedHit_R[3/2]_delta', 0.003865652899627975),\n",
       " ('MatchedHit_Z[2]', 0.0037697336751724543),\n",
       " ('find_closest_hit_per_station_14', 0.003758289061731912),\n",
       " ('find_closest_hit_per_station_27', 0.0036957857341313252),\n",
       " ('find_closest_hit_per_station_10', 0.003619768105150628),\n",
       " ('find_closest_hit_per_station_11', 0.0035077526893769785),\n",
       " ('MatchedHit_DT[2]', 0.003458929031298373),\n",
       " ('find_closest_hit_per_station_26', 0.003382180372072931),\n",
       " ('Lextra_R[1]', 0.0033233612541507833),\n",
       " ('Lextra_R[2]', 0.003306565696579499),\n",
       " ('MatchedHit_R[1/0]_delta', 0.0032356607936284447),\n",
       " ('find_closest_hit_per_station_19', 0.0031208713957713),\n",
       " ('MatchedHit_D[0]_mean', 0.0029091038123920054),\n",
       " ('MatchedHit_R[2/1]_delta', 0.002837680856755472),\n",
       " ('MatchedHit_R[0/3]_delta', 0.002735995487217067),\n",
       " ('find_closest_hit_per_station_18', 0.002110440073502178),\n",
       " ('MatchedHit_offset_abs', 0.002043021359916193),\n",
       " ('MatchedHit_R[0/3]_delta_abs', 0.0019667577776484118),\n",
       " ('MatchedHit_D[2]_mean', 0.0018895082583817295),\n",
       " ('Lextra_R[2/1]_delta', 0.0018032252207258574),\n",
       " ('Lextra_R[0/3]_delta', 0.0017859122928936065),\n",
       " ('Lextra_R[2/1]_delta_abs', 0.0016939812362849467),\n",
       " ('MatchedHit_D[1]_mean', 0.0016077625757098296),\n",
       " ('Lextra_R[0/3]_delta_abs', 0.0015471211180059538),\n",
       " ('find_closest_hit_per_station_22', 0.0015175919154337791),\n",
       " ('find_closest_hit_per_station_23', 0.0012932848879119816),\n",
       " ('MatchedHit_TYPE[3]', 0.001004216488785125),\n",
       " ('MatchedHit_TYPE[2]', 0.0009877775445480761),\n",
       " ('find_closest_hit_per_station_20', 0.0004290490704150828),\n",
       " ('find_closest_hit_per_station_16', 0.0003802284269381552),\n",
       " ('MatchedHit_TYPE[1]', 0.00034289140778109866),\n",
       " ('MatchedHit_TYPE[0]', 0.00026463674931519833),\n",
       " ('find_closest_hit_per_station_21', 0.00017510433214030694),\n",
       " ('find_closest_hit_per_station_17', 6.501535841041441e-05)]"
      ]
     },
     "execution_count": 82,
     "metadata": {},
     "output_type": "execute_result"
    }
   ],
   "source": [
    "feature_importances = np.mean([np.asarray(model.feature_importances_) / sum(model.feature_importances_)\n",
    "                               for model in models_g], axis=0)\n",
    "sorted(list(zip(features, feature_importances)), key=lambda f: f[-1], reverse=True)"
   ]
  },
  {
   "cell_type": "markdown",
   "metadata": {},
   "source": [
    "## Сохраняем модельки"
   ]
  },
  {
   "cell_type": "code",
   "execution_count": 83,
   "metadata": {},
   "outputs": [],
   "source": [
    "!mkdir -p models"
   ]
  },
  {
   "cell_type": "code",
   "execution_count": 84,
   "metadata": {},
   "outputs": [],
   "source": [
    "for i, model in enumerate(models_g):\n",
    "    model.save_model(f\"models/catboost_model_{i}.cbm\")"
   ]
  },
  {
   "cell_type": "code",
   "execution_count": null,
   "metadata": {},
   "outputs": [],
   "source": []
  }
 ],
 "metadata": {
  "kernelspec": {
   "display_name": "Python 3",
   "language": "python",
   "name": "python3"
  },
  "language_info": {
   "codemirror_mode": {
    "name": "ipython",
    "version": 3
   },
   "file_extension": ".py",
   "mimetype": "text/x-python",
   "name": "python",
   "nbconvert_exporter": "python",
   "pygments_lexer": "ipython3",
   "version": "3.6.0"
  }
 },
 "nbformat": 4,
 "nbformat_minor": 2
}

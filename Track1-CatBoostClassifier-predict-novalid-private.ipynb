{
 "cells": [
  {
   "cell_type": "code",
   "execution_count": 1,
   "metadata": {},
   "outputs": [],
   "source": [
    "import os\n",
    "import numpy as np\n",
    "import pandas as pd\n",
    "import swifter\n",
    "from sklearn.model_selection import train_test_split\n",
    "import utils\n",
    "import catboost"
   ]
  },
  {
   "cell_type": "code",
   "execution_count": 2,
   "metadata": {},
   "outputs": [],
   "source": [
    "DATA_PATH = \"./data\""
   ]
  },
  {
   "cell_type": "code",
   "execution_count": 3,
   "metadata": {},
   "outputs": [
    {
     "name": "stderr",
     "output_type": "stream",
     "text": [
      "/root/anaconda3/envs/idao_cb/lib/python3.6/site-packages/numpy/lib/arraysetops.py:522: FutureWarning: elementwise comparison failed; returning scalar instead, but in the future will perform elementwise comparison\n",
      "  mask |= (ar1 == a)\n"
     ]
    }
   ],
   "source": [
    "test = pd.read_csv(\"data/test_private_v3_track_1.csv.gz\",\n",
    "                   usecols=[utils.ID_COLUMN] + utils.SIMPLE_FEATURE_COLUMNS,\n",
    "                   index_col=utils.ID_COLUMN)"
   ]
  },
  {
   "cell_type": "code",
   "execution_count": 4,
   "metadata": {},
   "outputs": [
    {
     "data": {
      "text/plain": [
       "Index(['ncl[0]', 'ncl[1]', 'ncl[2]', 'ncl[3]', 'avg_cs[0]', 'avg_cs[1]',\n",
       "       'avg_cs[2]', 'avg_cs[3]', 'ndof', 'MatchedHit_TYPE[0]',\n",
       "       'MatchedHit_TYPE[1]', 'MatchedHit_TYPE[2]', 'MatchedHit_TYPE[3]',\n",
       "       'MatchedHit_X[0]', 'MatchedHit_X[1]', 'MatchedHit_X[2]',\n",
       "       'MatchedHit_X[3]', 'MatchedHit_Y[0]', 'MatchedHit_Y[1]',\n",
       "       'MatchedHit_Y[2]', 'MatchedHit_Y[3]', 'MatchedHit_Z[0]',\n",
       "       'MatchedHit_Z[1]', 'MatchedHit_Z[2]', 'MatchedHit_Z[3]',\n",
       "       'MatchedHit_DX[0]', 'MatchedHit_DX[1]', 'MatchedHit_DX[2]',\n",
       "       'MatchedHit_DX[3]', 'MatchedHit_DY[0]', 'MatchedHit_DY[1]',\n",
       "       'MatchedHit_DY[2]', 'MatchedHit_DY[3]', 'MatchedHit_DZ[0]',\n",
       "       'MatchedHit_DZ[1]', 'MatchedHit_DZ[2]', 'MatchedHit_DZ[3]',\n",
       "       'MatchedHit_T[0]', 'MatchedHit_T[1]', 'MatchedHit_T[2]',\n",
       "       'MatchedHit_T[3]', 'MatchedHit_DT[0]', 'MatchedHit_DT[1]',\n",
       "       'MatchedHit_DT[2]', 'MatchedHit_DT[3]', 'Lextra_X[0]', 'Lextra_X[1]',\n",
       "       'Lextra_X[2]', 'Lextra_X[3]', 'Lextra_Y[0]', 'Lextra_Y[1]',\n",
       "       'Lextra_Y[2]', 'Lextra_Y[3]', 'NShared', 'Mextra_DX2[0]',\n",
       "       'Mextra_DX2[1]', 'Mextra_DX2[2]', 'Mextra_DX2[3]', 'Mextra_DY2[0]',\n",
       "       'Mextra_DY2[1]', 'Mextra_DY2[2]', 'Mextra_DY2[3]', 'FOI_hits_N', 'PT',\n",
       "       'P'],\n",
       "      dtype='object')"
      ]
     },
     "execution_count": 4,
     "metadata": {},
     "output_type": "execute_result"
    }
   ],
   "source": [
    "test.columns"
   ]
  },
  {
   "cell_type": "code",
   "execution_count": 5,
   "metadata": {},
   "outputs": [],
   "source": [
    "func = utils.find_closest_hit_per_station"
   ]
  },
  {
   "cell_type": "code",
   "execution_count": 6,
   "metadata": {},
   "outputs": [],
   "source": [
    "dt_test  = pd.read_hdf('closest_hits_features.test.filled.m9999.v1.private.hdf', 'key')"
   ]
  },
  {
   "cell_type": "code",
   "execution_count": 7,
   "metadata": {},
   "outputs": [],
   "source": [
    "dt_test.columns  = [func.__name__ + '_' + str(c) if str(c).isnumeric() else c for c in dt_test.columns]"
   ]
  },
  {
   "cell_type": "code",
   "execution_count": 8,
   "metadata": {},
   "outputs": [],
   "source": [
    "test = pd.concat([test, dt_test], axis=1, copy=False)"
   ]
  },
  {
   "cell_type": "code",
   "execution_count": 9,
   "metadata": {},
   "outputs": [
    {
     "data": {
      "text/plain": [
       "(1452188, 113)"
      ]
     },
     "execution_count": 9,
     "metadata": {},
     "output_type": "execute_result"
    }
   ],
   "source": [
    "test.shape"
   ]
  },
  {
   "cell_type": "code",
   "execution_count": 10,
   "metadata": {},
   "outputs": [],
   "source": [
    "train = test"
   ]
  },
  {
   "cell_type": "markdown",
   "metadata": {},
   "source": [
    "## Новые признаки"
   ]
  },
  {
   "cell_type": "code",
   "execution_count": 11,
   "metadata": {},
   "outputs": [],
   "source": [
    "NA_VALUE = -9999.0"
   ]
  },
  {
   "cell_type": "code",
   "execution_count": 12,
   "metadata": {},
   "outputs": [],
   "source": [
    "def fillna(df):\n",
    "    \"\"\"\n",
    "    Пропуски только в 2 и 3 колонках\n",
    "    \"\"\"\n",
    "    \n",
    "    for axis in 'XYZ':\n",
    "        cols = ['MatchedHit_{}[{}]'.format(axis, i) for i in range(4)]\n",
    "        mask = np.isclose(df.loc[:, cols[2]], NA_VALUE)\n",
    "        mask = mask & ~np.isclose(df.loc[:, cols[3]], NA_VALUE)\n",
    "        \n",
    "        df.loc[mask, cols[2]] = df.loc[mask, [cols[1], cols[3]]].mean(axis=1)\n",
    "    return df"
   ]
  },
  {
   "cell_type": "code",
   "execution_count": 13,
   "metadata": {},
   "outputs": [],
   "source": [
    "# train, test = map(fillna, [train, test])"
   ]
  },
  {
   "cell_type": "code",
   "execution_count": 14,
   "metadata": {},
   "outputs": [],
   "source": [
    "train = fillna(train)"
   ]
  },
  {
   "cell_type": "markdown",
   "metadata": {},
   "source": [
    "### Вычесть среднее из MatchedHit_Z"
   ]
  },
  {
   "cell_type": "code",
   "execution_count": 15,
   "metadata": {
    "scrolled": true
   },
   "outputs": [
    {
     "data": {
      "text/plain": [
       "MatchedHit_Z[0]    15403.4175\n",
       "MatchedHit_Z[1]    16609.1150\n",
       "MatchedHit_Z[2]    17802.2660\n",
       "MatchedHit_Z[3]    18910.7980\n",
       "dtype: float64"
      ]
     },
     "execution_count": 15,
     "metadata": {},
     "output_type": "execute_result"
    }
   ],
   "source": [
    "matched_hit_z_cols = train.columns.str.startswith(\"MatchedHit_Z\")\n",
    "mask = np.isclose(train.loc[:, matched_hit_z_cols], NA_VALUE).any(axis=0)\n",
    "matched_hit_z_mean = train.loc[~mask, matched_hit_z_cols].mean(axis=0)\n",
    "matched_hit_z_mean"
   ]
  },
  {
   "cell_type": "code",
   "execution_count": 16,
   "metadata": {},
   "outputs": [
    {
     "data": {
      "text/plain": [
       "MatchedHit_Z[0]    15270\n",
       "MatchedHit_Z[1]    16470\n",
       "MatchedHit_Z[2]    17670\n",
       "MatchedHit_Z[3]    18870\n",
       "dtype: int64"
      ]
     },
     "execution_count": 16,
     "metadata": {},
     "output_type": "execute_result"
    }
   ],
   "source": [
    "matched_hit_z_cols = train.columns[train.columns.str.startswith(\"MatchedHit_Z\")]\n",
    "matched_hit_z_mean = pd.Series([15270, 16470, 17670, 18870], index=matched_hit_z_cols)\n",
    "matched_hit_z_mean"
   ]
  },
  {
   "cell_type": "code",
   "execution_count": 17,
   "metadata": {},
   "outputs": [],
   "source": [
    "def make_unbiased_z(df):\n",
    "    for i in range(4):\n",
    "        distance = np.zeros(df.shape[0])\n",
    "    \n",
    "        col = f\"MatchedHit_Z[{i}]\"\n",
    "        mask = np.isclose(df.loc[:, col], NA_VALUE)\n",
    "        distance[~mask] = df.loc[~mask, col] - matched_hit_z_mean[col]\n",
    "        distance[mask] = NA_VALUE\n",
    "    \n",
    "        df[col] = distance\n",
    "        \n",
    "        \"\"\"\n",
    "        df[f\"MatchedHit_Z[{i}]_sign\"] = np.sign(df[col]).astype(np.int8)\n",
    "        \"\"\"\n",
    "    return df"
   ]
  },
  {
   "cell_type": "code",
   "execution_count": 18,
   "metadata": {},
   "outputs": [],
   "source": [
    "# train, test = map(make_unbiased_z, [train, test])"
   ]
  },
  {
   "cell_type": "code",
   "execution_count": 19,
   "metadata": {},
   "outputs": [],
   "source": [
    "train = make_unbiased_z(train)"
   ]
  },
  {
   "cell_type": "code",
   "execution_count": 20,
   "metadata": {},
   "outputs": [
    {
     "data": {
      "text/html": [
       "<div>\n",
       "<style scoped>\n",
       "    .dataframe tbody tr th:only-of-type {\n",
       "        vertical-align: middle;\n",
       "    }\n",
       "\n",
       "    .dataframe tbody tr th {\n",
       "        vertical-align: top;\n",
       "    }\n",
       "\n",
       "    .dataframe thead th {\n",
       "        text-align: right;\n",
       "    }\n",
       "</style>\n",
       "<table border=\"1\" class=\"dataframe\">\n",
       "  <thead>\n",
       "    <tr style=\"text-align: right;\">\n",
       "      <th></th>\n",
       "      <th>MatchedHit_Z[0]</th>\n",
       "      <th>MatchedHit_Z[1]</th>\n",
       "      <th>MatchedHit_Z[2]</th>\n",
       "      <th>MatchedHit_Z[3]</th>\n",
       "    </tr>\n",
       "  </thead>\n",
       "  <tbody>\n",
       "    <tr>\n",
       "      <th>0</th>\n",
       "      <td>136.950</td>\n",
       "      <td>144.400</td>\n",
       "      <td>138.152</td>\n",
       "      <td>147.201</td>\n",
       "    </tr>\n",
       "    <tr>\n",
       "      <th>1</th>\n",
       "      <td>129.885</td>\n",
       "      <td>133.830</td>\n",
       "      <td>126.380</td>\n",
       "      <td>-65.605</td>\n",
       "    </tr>\n",
       "    <tr>\n",
       "      <th>2</th>\n",
       "      <td>-61.252</td>\n",
       "      <td>-53.578</td>\n",
       "      <td>-59.605</td>\n",
       "      <td>-50.332</td>\n",
       "    </tr>\n",
       "    <tr>\n",
       "      <th>3</th>\n",
       "      <td>-71.983</td>\n",
       "      <td>-68.110</td>\n",
       "      <td>-75.630</td>\n",
       "      <td>-67.846</td>\n",
       "    </tr>\n",
       "    <tr>\n",
       "      <th>4</th>\n",
       "      <td>-64.852</td>\n",
       "      <td>-60.414</td>\n",
       "      <td>-67.373</td>\n",
       "      <td>-59.027</td>\n",
       "    </tr>\n",
       "  </tbody>\n",
       "</table>\n",
       "</div>"
      ],
      "text/plain": [
       "   MatchedHit_Z[0]  MatchedHit_Z[1]  MatchedHit_Z[2]  MatchedHit_Z[3]\n",
       "0          136.950          144.400          138.152          147.201\n",
       "1          129.885          133.830          126.380          -65.605\n",
       "2          -61.252          -53.578          -59.605          -50.332\n",
       "3          -71.983          -68.110          -75.630          -67.846\n",
       "4          -64.852          -60.414          -67.373          -59.027"
      ]
     },
     "execution_count": 20,
     "metadata": {},
     "output_type": "execute_result"
    }
   ],
   "source": [
    "train.loc[:, train.columns.str.startswith(\"MatchedHit_Z\")].head()"
   ]
  },
  {
   "cell_type": "markdown",
   "metadata": {},
   "source": [
    "### Расстояние до центра (+)"
   ]
  },
  {
   "cell_type": "code",
   "execution_count": 21,
   "metadata": {},
   "outputs": [],
   "source": [
    "def compute_polar_distances_matched_hit(df):\n",
    "    for i in range(4):\n",
    "        cols = [f\"MatchedHit_X[{i}]\", f\"MatchedHit_Y[{i}]\"]\n",
    "        mask = np.isclose(df.loc[:, cols], NA_VALUE).any(axis=1)\n",
    "    \n",
    "        name = f\"MatchedHit_R[{i}]\"\n",
    "        df[name] = NA_VALUE\n",
    "        df.loc[~mask, name] = np.log(1.0 + np.power(df.loc[~mask, cols], 2).sum(axis=1))\n",
    "        \n",
    "        name = f\"MatchedHit_A[{i}]\"\n",
    "        df[name] = NA_VALUE\n",
    "        df.loc[~mask, name] = np.arctan2(df.loc[~mask, cols[1]], df.loc[~mask, cols[0]])\n",
    "\n",
    "    # намеренное переупорядочивание признаков\n",
    "    cols  = df.columns[df.columns.str.startswith(\"MatchedHit_R\")].tolist()\n",
    "    cols += df.columns[df.columns.str.startswith(\"MatchedHit_A\")].tolist()\n",
    "    cols  = df.columns[:-len(cols)].tolist() + cols\n",
    "    df = df[cols]\n",
    "\n",
    "    return df"
   ]
  },
  {
   "cell_type": "code",
   "execution_count": 22,
   "metadata": {},
   "outputs": [],
   "source": [
    "# train, test = map(compute_polar_distances_matched_hit, [train, test])"
   ]
  },
  {
   "cell_type": "code",
   "execution_count": 23,
   "metadata": {},
   "outputs": [],
   "source": [
    "train = compute_polar_distances_matched_hit(train)"
   ]
  },
  {
   "cell_type": "code",
   "execution_count": 24,
   "metadata": {},
   "outputs": [
    {
     "data": {
      "text/html": [
       "<div>\n",
       "<style scoped>\n",
       "    .dataframe tbody tr th:only-of-type {\n",
       "        vertical-align: middle;\n",
       "    }\n",
       "\n",
       "    .dataframe tbody tr th {\n",
       "        vertical-align: top;\n",
       "    }\n",
       "\n",
       "    .dataframe thead th {\n",
       "        text-align: right;\n",
       "    }\n",
       "</style>\n",
       "<table border=\"1\" class=\"dataframe\">\n",
       "  <thead>\n",
       "    <tr style=\"text-align: right;\">\n",
       "      <th></th>\n",
       "      <th>MatchedHit_R[0]</th>\n",
       "      <th>MatchedHit_R[1]</th>\n",
       "      <th>MatchedHit_R[2]</th>\n",
       "      <th>MatchedHit_R[3]</th>\n",
       "    </tr>\n",
       "  </thead>\n",
       "  <tbody>\n",
       "    <tr>\n",
       "      <th>0</th>\n",
       "      <td>12.930077</td>\n",
       "      <td>13.078763</td>\n",
       "      <td>13.207914</td>\n",
       "      <td>13.338887</td>\n",
       "    </tr>\n",
       "    <tr>\n",
       "      <th>1</th>\n",
       "      <td>16.332379</td>\n",
       "      <td>16.538395</td>\n",
       "      <td>16.718047</td>\n",
       "      <td>16.903495</td>\n",
       "    </tr>\n",
       "    <tr>\n",
       "      <th>2</th>\n",
       "      <td>14.370883</td>\n",
       "      <td>14.524747</td>\n",
       "      <td>14.662623</td>\n",
       "      <td>14.794065</td>\n",
       "    </tr>\n",
       "    <tr>\n",
       "      <th>3</th>\n",
       "      <td>16.525674</td>\n",
       "      <td>16.678201</td>\n",
       "      <td>16.831457</td>\n",
       "      <td>16.963506</td>\n",
       "    </tr>\n",
       "    <tr>\n",
       "      <th>4</th>\n",
       "      <td>13.714256</td>\n",
       "      <td>13.840950</td>\n",
       "      <td>13.964308</td>\n",
       "      <td>14.099488</td>\n",
       "    </tr>\n",
       "  </tbody>\n",
       "</table>\n",
       "</div>"
      ],
      "text/plain": [
       "   MatchedHit_R[0]  MatchedHit_R[1]  MatchedHit_R[2]  MatchedHit_R[3]\n",
       "0        12.930077        13.078763        13.207914        13.338887\n",
       "1        16.332379        16.538395        16.718047        16.903495\n",
       "2        14.370883        14.524747        14.662623        14.794065\n",
       "3        16.525674        16.678201        16.831457        16.963506\n",
       "4        13.714256        13.840950        13.964308        14.099488"
      ]
     },
     "execution_count": 24,
     "metadata": {},
     "output_type": "execute_result"
    }
   ],
   "source": [
    "train.loc[:, train.columns.str.startswith(\"MatchedHit_R\")].head()"
   ]
  },
  {
   "cell_type": "code",
   "execution_count": 25,
   "metadata": {},
   "outputs": [
    {
     "data": {
      "text/html": [
       "<div>\n",
       "<style scoped>\n",
       "    .dataframe tbody tr th:only-of-type {\n",
       "        vertical-align: middle;\n",
       "    }\n",
       "\n",
       "    .dataframe tbody tr th {\n",
       "        vertical-align: top;\n",
       "    }\n",
       "\n",
       "    .dataframe thead th {\n",
       "        text-align: right;\n",
       "    }\n",
       "</style>\n",
       "<table border=\"1\" class=\"dataframe\">\n",
       "  <thead>\n",
       "    <tr style=\"text-align: right;\">\n",
       "      <th></th>\n",
       "      <th>MatchedHit_A[0]</th>\n",
       "      <th>MatchedHit_A[1]</th>\n",
       "      <th>MatchedHit_A[2]</th>\n",
       "      <th>MatchedHit_A[3]</th>\n",
       "    </tr>\n",
       "  </thead>\n",
       "  <tbody>\n",
       "    <tr>\n",
       "      <th>0</th>\n",
       "      <td>1.002782</td>\n",
       "      <td>1.002964</td>\n",
       "      <td>1.010349</td>\n",
       "      <td>1.008445</td>\n",
       "    </tr>\n",
       "    <tr>\n",
       "      <th>1</th>\n",
       "      <td>-2.885018</td>\n",
       "      <td>-2.891988</td>\n",
       "      <td>-2.897091</td>\n",
       "      <td>-2.974431</td>\n",
       "    </tr>\n",
       "    <tr>\n",
       "      <th>2</th>\n",
       "      <td>1.522447</td>\n",
       "      <td>1.503224</td>\n",
       "      <td>1.531503</td>\n",
       "      <td>1.530494</td>\n",
       "    </tr>\n",
       "    <tr>\n",
       "      <th>3</th>\n",
       "      <td>-2.844808</td>\n",
       "      <td>-2.844651</td>\n",
       "      <td>-2.846558</td>\n",
       "      <td>-2.846975</td>\n",
       "    </tr>\n",
       "    <tr>\n",
       "      <th>4</th>\n",
       "      <td>2.042894</td>\n",
       "      <td>2.019910</td>\n",
       "      <td>2.000288</td>\n",
       "      <td>2.000319</td>\n",
       "    </tr>\n",
       "  </tbody>\n",
       "</table>\n",
       "</div>"
      ],
      "text/plain": [
       "   MatchedHit_A[0]  MatchedHit_A[1]  MatchedHit_A[2]  MatchedHit_A[3]\n",
       "0         1.002782         1.002964         1.010349         1.008445\n",
       "1        -2.885018        -2.891988        -2.897091        -2.974431\n",
       "2         1.522447         1.503224         1.531503         1.530494\n",
       "3        -2.844808        -2.844651        -2.846558        -2.846975\n",
       "4         2.042894         2.019910         2.000288         2.000319"
      ]
     },
     "execution_count": 25,
     "metadata": {},
     "output_type": "execute_result"
    }
   ],
   "source": [
    "train.loc[:, train.columns.str.startswith(\"MatchedHit_A\")].head()"
   ]
  },
  {
   "cell_type": "code",
   "execution_count": 26,
   "metadata": {},
   "outputs": [],
   "source": [
    "def compute_polar_distances_lextra(df):\n",
    "    for i in range(4):\n",
    "        cols = [f\"Lextra_X[{i}]\", f\"Lextra_Y[{i}]\"]\n",
    "        mask = np.isclose(df.loc[:, cols], NA_VALUE).any(axis=1)\n",
    "    \n",
    "        name = f\"Lextra_R[{i}]\"\n",
    "        df[name] = NA_VALUE\n",
    "        df.loc[~mask, name] = np.log(1.0 + np.power(df.loc[~mask, cols], 2).sum(axis=1))\n",
    "\n",
    "        \"\"\"\n",
    "        name = f\"Lextra_A[{i}]\"\n",
    "        df[name] = NA_VALUE\n",
    "        df.loc[~mask, name] = np.arctan2(df.loc[~mask, cols[1]], df.loc[~mask, cols[0]])\n",
    "        \"\"\"\n",
    "    \n",
    "    # намеренное переупорядочивание признаков\n",
    "    cols  = df.columns[df.columns.str.startswith(\"Lextra_R\")].tolist()\n",
    "    cols += df.columns[df.columns.str.startswith(\"Lextra_A\")].tolist()\n",
    "    cols  = df.columns[:-len(cols)].tolist() + cols\n",
    "    df = df[cols]\n",
    "\n",
    "    return df"
   ]
  },
  {
   "cell_type": "code",
   "execution_count": 27,
   "metadata": {},
   "outputs": [],
   "source": [
    "# train, test = map(compute_polar_distances_lextra, [train, test])"
   ]
  },
  {
   "cell_type": "code",
   "execution_count": 28,
   "metadata": {},
   "outputs": [
    {
     "name": "stderr",
     "output_type": "stream",
     "text": [
      "/root/anaconda3/envs/idao_cb/lib/python3.6/site-packages/ipykernel_launcher.py:7: SettingWithCopyWarning: \n",
      "A value is trying to be set on a copy of a slice from a DataFrame.\n",
      "Try using .loc[row_indexer,col_indexer] = value instead\n",
      "\n",
      "See the caveats in the documentation: http://pandas.pydata.org/pandas-docs/stable/indexing.html#indexing-view-versus-copy\n",
      "  import sys\n",
      "/root/anaconda3/envs/idao_cb/lib/python3.6/site-packages/pandas/core/indexing.py:543: SettingWithCopyWarning: \n",
      "A value is trying to be set on a copy of a slice from a DataFrame.\n",
      "Try using .loc[row_indexer,col_indexer] = value instead\n",
      "\n",
      "See the caveats in the documentation: http://pandas.pydata.org/pandas-docs/stable/indexing.html#indexing-view-versus-copy\n",
      "  self.obj[item] = s\n"
     ]
    }
   ],
   "source": [
    "train = compute_polar_distances_lextra(train)"
   ]
  },
  {
   "cell_type": "code",
   "execution_count": 29,
   "metadata": {},
   "outputs": [
    {
     "data": {
      "text/html": [
       "<div>\n",
       "<style scoped>\n",
       "    .dataframe tbody tr th:only-of-type {\n",
       "        vertical-align: middle;\n",
       "    }\n",
       "\n",
       "    .dataframe tbody tr th {\n",
       "        vertical-align: top;\n",
       "    }\n",
       "\n",
       "    .dataframe thead th {\n",
       "        text-align: right;\n",
       "    }\n",
       "</style>\n",
       "<table border=\"1\" class=\"dataframe\">\n",
       "  <thead>\n",
       "    <tr style=\"text-align: right;\">\n",
       "      <th></th>\n",
       "      <th>Lextra_R[0]</th>\n",
       "      <th>Lextra_R[1]</th>\n",
       "      <th>Lextra_R[2]</th>\n",
       "      <th>Lextra_R[3]</th>\n",
       "    </tr>\n",
       "  </thead>\n",
       "  <tbody>\n",
       "    <tr>\n",
       "      <th>0</th>\n",
       "      <td>12.857646</td>\n",
       "      <td>12.991062</td>\n",
       "      <td>13.116407</td>\n",
       "      <td>13.234573</td>\n",
       "    </tr>\n",
       "    <tr>\n",
       "      <th>1</th>\n",
       "      <td>16.273759</td>\n",
       "      <td>16.456256</td>\n",
       "      <td>16.623508</td>\n",
       "      <td>16.777865</td>\n",
       "    </tr>\n",
       "    <tr>\n",
       "      <th>2</th>\n",
       "      <td>14.362690</td>\n",
       "      <td>14.515103</td>\n",
       "      <td>14.656819</td>\n",
       "      <td>14.789229</td>\n",
       "    </tr>\n",
       "    <tr>\n",
       "      <th>3</th>\n",
       "      <td>16.546279</td>\n",
       "      <td>16.713553</td>\n",
       "      <td>16.867922</td>\n",
       "      <td>17.011233</td>\n",
       "    </tr>\n",
       "    <tr>\n",
       "      <th>4</th>\n",
       "      <td>13.777614</td>\n",
       "      <td>13.908398</td>\n",
       "      <td>14.031834</td>\n",
       "      <td>14.148628</td>\n",
       "    </tr>\n",
       "  </tbody>\n",
       "</table>\n",
       "</div>"
      ],
      "text/plain": [
       "   Lextra_R[0]  Lextra_R[1]  Lextra_R[2]  Lextra_R[3]\n",
       "0    12.857646    12.991062    13.116407    13.234573\n",
       "1    16.273759    16.456256    16.623508    16.777865\n",
       "2    14.362690    14.515103    14.656819    14.789229\n",
       "3    16.546279    16.713553    16.867922    17.011233\n",
       "4    13.777614    13.908398    14.031834    14.148628"
      ]
     },
     "execution_count": 29,
     "metadata": {},
     "output_type": "execute_result"
    }
   ],
   "source": [
    "train.loc[:, train.columns.str.startswith(\"Lextra_R\")].head()"
   ]
  },
  {
   "cell_type": "code",
   "execution_count": 30,
   "metadata": {},
   "outputs": [
    {
     "data": {
      "text/html": [
       "<div>\n",
       "<style scoped>\n",
       "    .dataframe tbody tr th:only-of-type {\n",
       "        vertical-align: middle;\n",
       "    }\n",
       "\n",
       "    .dataframe tbody tr th {\n",
       "        vertical-align: top;\n",
       "    }\n",
       "\n",
       "    .dataframe thead th {\n",
       "        text-align: right;\n",
       "    }\n",
       "</style>\n",
       "<table border=\"1\" class=\"dataframe\">\n",
       "  <thead>\n",
       "    <tr style=\"text-align: right;\">\n",
       "      <th></th>\n",
       "    </tr>\n",
       "  </thead>\n",
       "  <tbody>\n",
       "    <tr>\n",
       "      <th>0</th>\n",
       "    </tr>\n",
       "    <tr>\n",
       "      <th>1</th>\n",
       "    </tr>\n",
       "    <tr>\n",
       "      <th>2</th>\n",
       "    </tr>\n",
       "    <tr>\n",
       "      <th>3</th>\n",
       "    </tr>\n",
       "    <tr>\n",
       "      <th>4</th>\n",
       "    </tr>\n",
       "  </tbody>\n",
       "</table>\n",
       "</div>"
      ],
      "text/plain": [
       "Empty DataFrame\n",
       "Columns: []\n",
       "Index: [0, 1, 2, 3, 4]"
      ]
     },
     "execution_count": 30,
     "metadata": {},
     "output_type": "execute_result"
    }
   ],
   "source": [
    "train.loc[:, train.columns.str.startswith(\"Lextra_A\")].head()"
   ]
  },
  {
   "cell_type": "markdown",
   "metadata": {},
   "source": [
    "### Дельты для траекторий MatchedHit_X, MatchedHit_Y"
   ]
  },
  {
   "cell_type": "code",
   "execution_count": 31,
   "metadata": {},
   "outputs": [],
   "source": [
    "def diff_matched_hit(df):\n",
    "    for axis in ['X', 'Y']:\n",
    "        for i, j in zip([0, 1, 2, 3], [1, 2, 3, 0]):\n",
    "            col_i = f\"MatchedHit_{axis}[{i}]\"\n",
    "            col_j = f\"MatchedHit_{axis}[{j}]\"\n",
    "            mask = np.isclose(df.loc[:, [col_i, col_j]], NA_VALUE).any(axis=1)\n",
    "\n",
    "            name = f\"MatchedHit_{axis}[{j}/{i}]_delta\"\n",
    "            df[name] = df[name + '_abs'] = NA_VALUE\n",
    "            \n",
    "            df.loc[~mask, name] = df.loc[~mask, col_j] - df.loc[~mask, col_i]\n",
    "            df.loc[~mask, name + '_abs'] = np.abs(df.loc[~mask, name])\n",
    "    return df"
   ]
  },
  {
   "cell_type": "code",
   "execution_count": 32,
   "metadata": {},
   "outputs": [],
   "source": [
    "# train, test = map(diff_matched_hit, [train, test])"
   ]
  },
  {
   "cell_type": "code",
   "execution_count": 33,
   "metadata": {},
   "outputs": [],
   "source": [
    "train = diff_matched_hit(train)"
   ]
  },
  {
   "cell_type": "markdown",
   "metadata": {},
   "source": [
    "### Дельты и отношения для радиусов (+)"
   ]
  },
  {
   "cell_type": "code",
   "execution_count": 34,
   "metadata": {},
   "outputs": [],
   "source": [
    "def ratio_radius_matched_hit(df):\n",
    "    for i, j in zip([0, 1, 2, 3], [1, 2, 3, 0]):\n",
    "        col_i = f\"MatchedHit_R[{i}]\"\n",
    "        col_j = f\"MatchedHit_R[{j}]\"\n",
    "        mask = np.isclose(df.loc[:, [col_i, col_j]], NA_VALUE).any(axis=1)\n",
    "\n",
    "        name = f\"MatchedHit_R[{j}/{i}]_delta\"\n",
    "        name_abs = name + '_abs'\n",
    "        df[name] = df[name_abs] = NA_VALUE\n",
    "        \n",
    "        df.loc[~mask, name] = df.loc[~mask, col_j] - df.loc[~mask, col_i]\n",
    "        df.loc[~mask, name_abs] = np.abs(df.loc[~mask, name])\n",
    "        \n",
    "        name = f\"MatchedHit_R[{j}/{i}]_frac\"\n",
    "        df[name] = NA_VALUE\n",
    "        df.loc[~mask, name] = df.loc[~mask, col_j] / df.loc[~mask, col_i]\n",
    "    return df"
   ]
  },
  {
   "cell_type": "code",
   "execution_count": 35,
   "metadata": {},
   "outputs": [],
   "source": [
    "# train, test = map(ratio_radius_matched_hit, [train, test])"
   ]
  },
  {
   "cell_type": "code",
   "execution_count": 36,
   "metadata": {},
   "outputs": [],
   "source": [
    "train = ratio_radius_matched_hit(train)"
   ]
  },
  {
   "cell_type": "code",
   "execution_count": 37,
   "metadata": {},
   "outputs": [
    {
     "data": {
      "text/html": [
       "<div>\n",
       "<style scoped>\n",
       "    .dataframe tbody tr th:only-of-type {\n",
       "        vertical-align: middle;\n",
       "    }\n",
       "\n",
       "    .dataframe tbody tr th {\n",
       "        vertical-align: top;\n",
       "    }\n",
       "\n",
       "    .dataframe thead th {\n",
       "        text-align: right;\n",
       "    }\n",
       "</style>\n",
       "<table border=\"1\" class=\"dataframe\">\n",
       "  <thead>\n",
       "    <tr style=\"text-align: right;\">\n",
       "      <th></th>\n",
       "      <th>MatchedHit_R[1/0]_delta</th>\n",
       "      <th>MatchedHit_R[1/0]_delta_abs</th>\n",
       "      <th>MatchedHit_R[1/0]_frac</th>\n",
       "      <th>MatchedHit_R[2/1]_delta</th>\n",
       "      <th>MatchedHit_R[2/1]_delta_abs</th>\n",
       "      <th>MatchedHit_R[2/1]_frac</th>\n",
       "      <th>MatchedHit_R[3/2]_delta</th>\n",
       "      <th>MatchedHit_R[3/2]_delta_abs</th>\n",
       "      <th>MatchedHit_R[3/2]_frac</th>\n",
       "      <th>MatchedHit_R[0/3]_delta</th>\n",
       "      <th>MatchedHit_R[0/3]_delta_abs</th>\n",
       "      <th>MatchedHit_R[0/3]_frac</th>\n",
       "    </tr>\n",
       "  </thead>\n",
       "  <tbody>\n",
       "    <tr>\n",
       "      <th>0</th>\n",
       "      <td>0.148686</td>\n",
       "      <td>0.148686</td>\n",
       "      <td>1.011499</td>\n",
       "      <td>0.129151</td>\n",
       "      <td>0.129151</td>\n",
       "      <td>1.009875</td>\n",
       "      <td>0.130973</td>\n",
       "      <td>0.130973</td>\n",
       "      <td>1.009916</td>\n",
       "      <td>-0.408810</td>\n",
       "      <td>0.408810</td>\n",
       "      <td>0.969352</td>\n",
       "    </tr>\n",
       "    <tr>\n",
       "      <th>1</th>\n",
       "      <td>0.206016</td>\n",
       "      <td>0.206016</td>\n",
       "      <td>1.012614</td>\n",
       "      <td>0.179652</td>\n",
       "      <td>0.179652</td>\n",
       "      <td>1.010863</td>\n",
       "      <td>0.185449</td>\n",
       "      <td>0.185449</td>\n",
       "      <td>1.011093</td>\n",
       "      <td>-0.571117</td>\n",
       "      <td>0.571117</td>\n",
       "      <td>0.966213</td>\n",
       "    </tr>\n",
       "    <tr>\n",
       "      <th>2</th>\n",
       "      <td>0.153863</td>\n",
       "      <td>0.153863</td>\n",
       "      <td>1.010707</td>\n",
       "      <td>0.137877</td>\n",
       "      <td>0.137877</td>\n",
       "      <td>1.009493</td>\n",
       "      <td>0.131441</td>\n",
       "      <td>0.131441</td>\n",
       "      <td>1.008964</td>\n",
       "      <td>-0.423181</td>\n",
       "      <td>0.423181</td>\n",
       "      <td>0.971395</td>\n",
       "    </tr>\n",
       "    <tr>\n",
       "      <th>3</th>\n",
       "      <td>0.152526</td>\n",
       "      <td>0.152526</td>\n",
       "      <td>1.009230</td>\n",
       "      <td>0.153256</td>\n",
       "      <td>0.153256</td>\n",
       "      <td>1.009189</td>\n",
       "      <td>0.132049</td>\n",
       "      <td>0.132049</td>\n",
       "      <td>1.007845</td>\n",
       "      <td>-0.437831</td>\n",
       "      <td>0.437831</td>\n",
       "      <td>0.974190</td>\n",
       "    </tr>\n",
       "    <tr>\n",
       "      <th>4</th>\n",
       "      <td>0.126694</td>\n",
       "      <td>0.126694</td>\n",
       "      <td>1.009238</td>\n",
       "      <td>0.123358</td>\n",
       "      <td>0.123358</td>\n",
       "      <td>1.008913</td>\n",
       "      <td>0.135179</td>\n",
       "      <td>0.135179</td>\n",
       "      <td>1.009680</td>\n",
       "      <td>-0.385231</td>\n",
       "      <td>0.385231</td>\n",
       "      <td>0.972678</td>\n",
       "    </tr>\n",
       "  </tbody>\n",
       "</table>\n",
       "</div>"
      ],
      "text/plain": [
       "   MatchedHit_R[1/0]_delta  MatchedHit_R[1/0]_delta_abs  \\\n",
       "0                 0.148686                     0.148686   \n",
       "1                 0.206016                     0.206016   \n",
       "2                 0.153863                     0.153863   \n",
       "3                 0.152526                     0.152526   \n",
       "4                 0.126694                     0.126694   \n",
       "\n",
       "   MatchedHit_R[1/0]_frac  MatchedHit_R[2/1]_delta  \\\n",
       "0                1.011499                 0.129151   \n",
       "1                1.012614                 0.179652   \n",
       "2                1.010707                 0.137877   \n",
       "3                1.009230                 0.153256   \n",
       "4                1.009238                 0.123358   \n",
       "\n",
       "   MatchedHit_R[2/1]_delta_abs  MatchedHit_R[2/1]_frac  \\\n",
       "0                     0.129151                1.009875   \n",
       "1                     0.179652                1.010863   \n",
       "2                     0.137877                1.009493   \n",
       "3                     0.153256                1.009189   \n",
       "4                     0.123358                1.008913   \n",
       "\n",
       "   MatchedHit_R[3/2]_delta  MatchedHit_R[3/2]_delta_abs  \\\n",
       "0                 0.130973                     0.130973   \n",
       "1                 0.185449                     0.185449   \n",
       "2                 0.131441                     0.131441   \n",
       "3                 0.132049                     0.132049   \n",
       "4                 0.135179                     0.135179   \n",
       "\n",
       "   MatchedHit_R[3/2]_frac  MatchedHit_R[0/3]_delta  \\\n",
       "0                1.009916                -0.408810   \n",
       "1                1.011093                -0.571117   \n",
       "2                1.008964                -0.423181   \n",
       "3                1.007845                -0.437831   \n",
       "4                1.009680                -0.385231   \n",
       "\n",
       "   MatchedHit_R[0/3]_delta_abs  MatchedHit_R[0/3]_frac  \n",
       "0                     0.408810                0.969352  \n",
       "1                     0.571117                0.966213  \n",
       "2                     0.423181                0.971395  \n",
       "3                     0.437831                0.974190  \n",
       "4                     0.385231                0.972678  "
      ]
     },
     "execution_count": 37,
     "metadata": {},
     "output_type": "execute_result"
    }
   ],
   "source": [
    "cols = filter(lambda s: s.startswith(\"MatchedHit_R\") and (\"_delta\" in s or \"_frac\" in s), train.columns)\n",
    "train.loc[:, cols].head()"
   ]
  },
  {
   "cell_type": "code",
   "execution_count": 38,
   "metadata": {},
   "outputs": [],
   "source": [
    "def ratio_radius_lextra_hit(df):\n",
    "    for i, j in zip([0, 1, 2, 3], [1, 2, 3, 0]):\n",
    "        col_i = f\"Lextra_R[{i}]\"\n",
    "        col_j = f\"Lextra_R[{j}]\"\n",
    "        mask = np.isclose(df.loc[:, [col_i, col_j]], NA_VALUE).any(axis=1)\n",
    "\n",
    "        name = f\"Lextra_R[{j}/{i}]_delta\"\n",
    "        name_abs = name + '_abs'\n",
    "        df[name] = df[name_abs] = NA_VALUE\n",
    "        \n",
    "        df.loc[~mask, name] = df.loc[~mask, col_j] - df.loc[~mask, col_i]\n",
    "        df.loc[~mask, name_abs] = np.abs(df.loc[~mask, name])\n",
    "        \n",
    "#         name = f\"Lextra_R[{j}/{i}]_frac\"\n",
    "#         df[name] = NA_VALUE\n",
    "#         df.loc[~mask, name] = df.loc[~mask, col_j] / df.loc[~mask, col_i]\n",
    "    return df"
   ]
  },
  {
   "cell_type": "code",
   "execution_count": 39,
   "metadata": {},
   "outputs": [],
   "source": [
    "# train, test = map(ratio_radius_lextra_hit, [train, test])"
   ]
  },
  {
   "cell_type": "code",
   "execution_count": 40,
   "metadata": {},
   "outputs": [],
   "source": [
    "train = ratio_radius_lextra_hit(train)"
   ]
  },
  {
   "cell_type": "code",
   "execution_count": 41,
   "metadata": {},
   "outputs": [
    {
     "data": {
      "text/html": [
       "<div>\n",
       "<style scoped>\n",
       "    .dataframe tbody tr th:only-of-type {\n",
       "        vertical-align: middle;\n",
       "    }\n",
       "\n",
       "    .dataframe tbody tr th {\n",
       "        vertical-align: top;\n",
       "    }\n",
       "\n",
       "    .dataframe thead th {\n",
       "        text-align: right;\n",
       "    }\n",
       "</style>\n",
       "<table border=\"1\" class=\"dataframe\">\n",
       "  <thead>\n",
       "    <tr style=\"text-align: right;\">\n",
       "      <th></th>\n",
       "      <th>Lextra_R[1/0]_delta</th>\n",
       "      <th>Lextra_R[1/0]_delta_abs</th>\n",
       "      <th>Lextra_R[2/1]_delta</th>\n",
       "      <th>Lextra_R[2/1]_delta_abs</th>\n",
       "      <th>Lextra_R[3/2]_delta</th>\n",
       "      <th>Lextra_R[3/2]_delta_abs</th>\n",
       "      <th>Lextra_R[0/3]_delta</th>\n",
       "      <th>Lextra_R[0/3]_delta_abs</th>\n",
       "    </tr>\n",
       "  </thead>\n",
       "  <tbody>\n",
       "    <tr>\n",
       "      <th>0</th>\n",
       "      <td>0.133416</td>\n",
       "      <td>0.133416</td>\n",
       "      <td>0.125345</td>\n",
       "      <td>0.125345</td>\n",
       "      <td>0.118166</td>\n",
       "      <td>0.118166</td>\n",
       "      <td>-0.376927</td>\n",
       "      <td>0.376927</td>\n",
       "    </tr>\n",
       "    <tr>\n",
       "      <th>1</th>\n",
       "      <td>0.182497</td>\n",
       "      <td>0.182497</td>\n",
       "      <td>0.167252</td>\n",
       "      <td>0.167252</td>\n",
       "      <td>0.154357</td>\n",
       "      <td>0.154357</td>\n",
       "      <td>-0.504106</td>\n",
       "      <td>0.504106</td>\n",
       "    </tr>\n",
       "    <tr>\n",
       "      <th>2</th>\n",
       "      <td>0.152413</td>\n",
       "      <td>0.152413</td>\n",
       "      <td>0.141715</td>\n",
       "      <td>0.141715</td>\n",
       "      <td>0.132410</td>\n",
       "      <td>0.132410</td>\n",
       "      <td>-0.426539</td>\n",
       "      <td>0.426539</td>\n",
       "    </tr>\n",
       "    <tr>\n",
       "      <th>3</th>\n",
       "      <td>0.167274</td>\n",
       "      <td>0.167274</td>\n",
       "      <td>0.154368</td>\n",
       "      <td>0.154368</td>\n",
       "      <td>0.143311</td>\n",
       "      <td>0.143311</td>\n",
       "      <td>-0.464953</td>\n",
       "      <td>0.464953</td>\n",
       "    </tr>\n",
       "    <tr>\n",
       "      <th>4</th>\n",
       "      <td>0.130783</td>\n",
       "      <td>0.130783</td>\n",
       "      <td>0.123436</td>\n",
       "      <td>0.123436</td>\n",
       "      <td>0.116794</td>\n",
       "      <td>0.116794</td>\n",
       "      <td>-0.371014</td>\n",
       "      <td>0.371014</td>\n",
       "    </tr>\n",
       "  </tbody>\n",
       "</table>\n",
       "</div>"
      ],
      "text/plain": [
       "   Lextra_R[1/0]_delta  Lextra_R[1/0]_delta_abs  Lextra_R[2/1]_delta  \\\n",
       "0             0.133416                 0.133416             0.125345   \n",
       "1             0.182497                 0.182497             0.167252   \n",
       "2             0.152413                 0.152413             0.141715   \n",
       "3             0.167274                 0.167274             0.154368   \n",
       "4             0.130783                 0.130783             0.123436   \n",
       "\n",
       "   Lextra_R[2/1]_delta_abs  Lextra_R[3/2]_delta  Lextra_R[3/2]_delta_abs  \\\n",
       "0                 0.125345             0.118166                 0.118166   \n",
       "1                 0.167252             0.154357                 0.154357   \n",
       "2                 0.141715             0.132410                 0.132410   \n",
       "3                 0.154368             0.143311                 0.143311   \n",
       "4                 0.123436             0.116794                 0.116794   \n",
       "\n",
       "   Lextra_R[0/3]_delta  Lextra_R[0/3]_delta_abs  \n",
       "0            -0.376927                 0.376927  \n",
       "1            -0.504106                 0.504106  \n",
       "2            -0.426539                 0.426539  \n",
       "3            -0.464953                 0.464953  \n",
       "4            -0.371014                 0.371014  "
      ]
     },
     "execution_count": 41,
     "metadata": {},
     "output_type": "execute_result"
    }
   ],
   "source": [
    "cols = filter(lambda s: s.startswith(\"Lextra_R\") and (\"_delta\" in s or \"_frac\" in s), train.columns)\n",
    "train.loc[:, cols].head()"
   ]
  },
  {
   "cell_type": "markdown",
   "metadata": {},
   "source": [
    "### Расстояние между Lextra и MatchedHit (+)"
   ]
  },
  {
   "cell_type": "code",
   "execution_count": 42,
   "metadata": {},
   "outputs": [],
   "source": [
    "def distance_dist_lextra_matched(df):\n",
    "    distance_counts = np.zeros(df.shape[0], dtype=int)\n",
    "    \n",
    "    distance_se = np.zeros(df.shape[0])\n",
    "    distance_ae = np.zeros(df.shape[0])\n",
    "    \n",
    "    for i in range(4):\n",
    "        distance = np.zeros(df.shape[0])\n",
    "\n",
    "        cols = [f\"MatchedHit_X[{i}]\", f\"MatchedHit_Y[{i}]\", f\"Lextra_X[{i}]\", f\"Lextra_Y[{i}]\"]\n",
    "        mask = np.isclose(df.loc[:, cols], NA_VALUE).any(axis=1)\n",
    "\n",
    "        mse = df.loc[~mask, cols[:2]].values - df.loc[~mask, cols[2:]].values\n",
    "        mse = np.power(mse, 2.0).sum(axis=1)\n",
    "        \n",
    "        mae = df.loc[~mask, cols[:2]].values - df.loc[~mask, cols[2:]].values\n",
    "        mae = np.abs(mae).max(axis=1)\n",
    "\n",
    "        distance[~mask] = np.log(1.0 + mse)\n",
    "        distance[mask] = NA_VALUE\n",
    "        \n",
    "        distance_se[~mask] += mse\n",
    "        distance_ae[~mask] = np.maximum(distance_ae[~mask], mae)\n",
    "        distance_counts[~mask] += 1\n",
    "\n",
    "        df[f\"distance_LextraMatchedHit[{i}]\"] = distance\n",
    "\n",
    "    distance_se /= distance_counts\n",
    "    df[f\"distance_LextraMatchedHit_SE\"] = distance_se\n",
    "    df[f\"distance_LextraMatchedHit_AE\"] = distance_ae\n",
    "\n",
    "    return df"
   ]
  },
  {
   "cell_type": "code",
   "execution_count": 43,
   "metadata": {},
   "outputs": [],
   "source": [
    "# train, test = map(distance_dist_lextra_matched, [train, test])"
   ]
  },
  {
   "cell_type": "code",
   "execution_count": 44,
   "metadata": {},
   "outputs": [],
   "source": [
    "train = distance_dist_lextra_matched(train)"
   ]
  },
  {
   "cell_type": "code",
   "execution_count": 45,
   "metadata": {},
   "outputs": [
    {
     "data": {
      "text/html": [
       "<div>\n",
       "<style scoped>\n",
       "    .dataframe tbody tr th:only-of-type {\n",
       "        vertical-align: middle;\n",
       "    }\n",
       "\n",
       "    .dataframe tbody tr th {\n",
       "        vertical-align: top;\n",
       "    }\n",
       "\n",
       "    .dataframe thead th {\n",
       "        text-align: right;\n",
       "    }\n",
       "</style>\n",
       "<table border=\"1\" class=\"dataframe\">\n",
       "  <thead>\n",
       "    <tr style=\"text-align: right;\">\n",
       "      <th></th>\n",
       "      <th>distance_LextraMatchedHit[0]</th>\n",
       "      <th>distance_LextraMatchedHit[1]</th>\n",
       "      <th>distance_LextraMatchedHit[2]</th>\n",
       "      <th>distance_LextraMatchedHit[3]</th>\n",
       "      <th>distance_LextraMatchedHit_SE</th>\n",
       "      <th>distance_LextraMatchedHit_AE</th>\n",
       "    </tr>\n",
       "  </thead>\n",
       "  <tbody>\n",
       "    <tr>\n",
       "      <th>0</th>\n",
       "      <td>6.787645</td>\n",
       "      <td>6.930203</td>\n",
       "      <td>7.078433</td>\n",
       "      <td>7.381559</td>\n",
       "      <td>1174.431164</td>\n",
       "      <td>34.52456</td>\n",
       "    </tr>\n",
       "    <tr>\n",
       "      <th>1</th>\n",
       "      <td>9.315024</td>\n",
       "      <td>10.127164</td>\n",
       "      <td>10.571843</td>\n",
       "      <td>12.132834</td>\n",
       "      <td>65252.293743</td>\n",
       "      <td>344.27400</td>\n",
       "    </tr>\n",
       "    <tr>\n",
       "      <th>2</th>\n",
       "      <td>4.357462</td>\n",
       "      <td>6.408753</td>\n",
       "      <td>6.697971</td>\n",
       "      <td>7.287096</td>\n",
       "      <td>738.318816</td>\n",
       "      <td>37.75468</td>\n",
       "    </tr>\n",
       "    <tr>\n",
       "      <th>3</th>\n",
       "      <td>8.855256</td>\n",
       "      <td>9.224567</td>\n",
       "      <td>9.392788</td>\n",
       "      <td>9.816331</td>\n",
       "      <td>11870.652337</td>\n",
       "      <td>100.41430</td>\n",
       "    </tr>\n",
       "    <tr>\n",
       "      <th>4</th>\n",
       "      <td>6.986883</td>\n",
       "      <td>7.280281</td>\n",
       "      <td>7.445496</td>\n",
       "      <td>6.714575</td>\n",
       "      <td>1266.551534</td>\n",
       "      <td>32.45573</td>\n",
       "    </tr>\n",
       "  </tbody>\n",
       "</table>\n",
       "</div>"
      ],
      "text/plain": [
       "   distance_LextraMatchedHit[0]  distance_LextraMatchedHit[1]  \\\n",
       "0                      6.787645                      6.930203   \n",
       "1                      9.315024                     10.127164   \n",
       "2                      4.357462                      6.408753   \n",
       "3                      8.855256                      9.224567   \n",
       "4                      6.986883                      7.280281   \n",
       "\n",
       "   distance_LextraMatchedHit[2]  distance_LextraMatchedHit[3]  \\\n",
       "0                      7.078433                      7.381559   \n",
       "1                     10.571843                     12.132834   \n",
       "2                      6.697971                      7.287096   \n",
       "3                      9.392788                      9.816331   \n",
       "4                      7.445496                      6.714575   \n",
       "\n",
       "   distance_LextraMatchedHit_SE  distance_LextraMatchedHit_AE  \n",
       "0                   1174.431164                      34.52456  \n",
       "1                  65252.293743                     344.27400  \n",
       "2                    738.318816                      37.75468  \n",
       "3                  11870.652337                     100.41430  \n",
       "4                   1266.551534                      32.45573  "
      ]
     },
     "execution_count": 45,
     "metadata": {},
     "output_type": "execute_result"
    }
   ],
   "source": [
    "train.loc[:, train.columns.str.startswith(\"distance_LextraMatchedHit\")].head()"
   ]
  },
  {
   "cell_type": "markdown",
   "metadata": {},
   "source": [
    "### Абсолютное и относительное смещение"
   ]
  },
  {
   "cell_type": "code",
   "execution_count": 46,
   "metadata": {},
   "outputs": [],
   "source": [
    "def offset_matched_hit(df):\n",
    "    offset_abs = np.sqrt(np.power(df.loc[:, [\"MatchedHit_X[0]\", f\"MatchedHit_Y[0]\"]], 2).sum(axis=1))\n",
    "    \n",
    "    for i, j in zip([0, 1, 2], [1, 2, 3]):\n",
    "        cols = [f\"MatchedHit_X[{i}]\", f\"MatchedHit_Y[{i}]\", f\"MatchedHit_X[{j}]\", f\"MatchedHit_Y[{j}]\"]\n",
    "        mask = np.isclose(df.loc[:, cols], NA_VALUE).any(axis=1)\n",
    "        \n",
    "        mse = df.loc[~mask, cols[:2]].values - df.loc[~mask, cols[2:]].values\n",
    "        mse = np.sqrt(np.power(mse, 2.0).sum(axis=1))\n",
    "        offset_abs[~mask] += mse\n",
    "        \n",
    "    offset_from = df.loc[:, [\"MatchedHit_X[0]\", f\"MatchedHit_Y[0]\"]].values\n",
    "    offset_to = np.zeros(shape=(df.shape[0], 2))\n",
    "    \n",
    "    for i in range(4):\n",
    "        cols = [f\"MatchedHit_X[{i}]\", f\"MatchedHit_Y[{i}]\"]\n",
    "        mask = np.isclose(df.loc[:, cols], NA_VALUE).any(axis=1)\n",
    "        offset_to[~mask] = df.loc[~mask, cols].values\n",
    "    \n",
    "    offset_rel = np.sqrt(np.power(offset_from - offset_to, 2.0).sum(axis=1))\n",
    "    \n",
    "    df[\"MatchedHit_offset_abs\"] = offset_abs\n",
    "    df[\"MatchedHit_offset_rel\"] = offset_rel\n",
    "    df[\"MatchedHit_offset_rel_div_abs\"] = offset_rel / offset_abs\n",
    "    \n",
    "    return df"
   ]
  },
  {
   "cell_type": "code",
   "execution_count": 47,
   "metadata": {},
   "outputs": [],
   "source": [
    "# train, test = map(offset_matched_hit, [train, test])"
   ]
  },
  {
   "cell_type": "code",
   "execution_count": 48,
   "metadata": {},
   "outputs": [],
   "source": [
    "train = offset_matched_hit(train)"
   ]
  },
  {
   "cell_type": "code",
   "execution_count": 49,
   "metadata": {},
   "outputs": [
    {
     "data": {
      "text/html": [
       "<div>\n",
       "<style scoped>\n",
       "    .dataframe tbody tr th:only-of-type {\n",
       "        vertical-align: middle;\n",
       "    }\n",
       "\n",
       "    .dataframe tbody tr th {\n",
       "        vertical-align: top;\n",
       "    }\n",
       "\n",
       "    .dataframe thead th {\n",
       "        text-align: right;\n",
       "    }\n",
       "</style>\n",
       "<table border=\"1\" class=\"dataframe\">\n",
       "  <thead>\n",
       "    <tr style=\"text-align: right;\">\n",
       "      <th></th>\n",
       "      <th>MatchedHit_offset_abs</th>\n",
       "      <th>MatchedHit_offset_rel</th>\n",
       "      <th>MatchedHit_offset_rel_div_abs</th>\n",
       "    </tr>\n",
       "  </thead>\n",
       "  <tbody>\n",
       "    <tr>\n",
       "      <th>0</th>\n",
       "      <td>788.278385</td>\n",
       "      <td>145.723790</td>\n",
       "      <td>0.184863</td>\n",
       "    </tr>\n",
       "    <tr>\n",
       "      <th>1</th>\n",
       "      <td>4809.903874</td>\n",
       "      <td>1218.636228</td>\n",
       "      <td>0.253360</td>\n",
       "    </tr>\n",
       "    <tr>\n",
       "      <th>2</th>\n",
       "      <td>1642.616613</td>\n",
       "      <td>311.288521</td>\n",
       "      <td>0.189508</td>\n",
       "    </tr>\n",
       "    <tr>\n",
       "      <th>3</th>\n",
       "      <td>4826.011979</td>\n",
       "      <td>948.869716</td>\n",
       "      <td>0.196616</td>\n",
       "    </tr>\n",
       "    <tr>\n",
       "      <th>4</th>\n",
       "      <td>1159.708071</td>\n",
       "      <td>206.788736</td>\n",
       "      <td>0.178311</td>\n",
       "    </tr>\n",
       "  </tbody>\n",
       "</table>\n",
       "</div>"
      ],
      "text/plain": [
       "   MatchedHit_offset_abs  MatchedHit_offset_rel  MatchedHit_offset_rel_div_abs\n",
       "0             788.278385             145.723790                       0.184863\n",
       "1            4809.903874            1218.636228                       0.253360\n",
       "2            1642.616613             311.288521                       0.189508\n",
       "3            4826.011979             948.869716                       0.196616\n",
       "4            1159.708071             206.788736                       0.178311"
      ]
     },
     "execution_count": 49,
     "metadata": {},
     "output_type": "execute_result"
    }
   ],
   "source": [
    "train.loc[:, train.columns.str.startswith(\"MatchedHit_offset_\")].head()"
   ]
  },
  {
   "cell_type": "markdown",
   "metadata": {},
   "source": [
    "### Отношение дисперсий"
   ]
  },
  {
   "cell_type": "code",
   "execution_count": 50,
   "metadata": {},
   "outputs": [],
   "source": [
    "def ratio_mextra_matched(df):    \n",
    "    for i in range(4):\n",
    "        cols = [f\"MatchedHit_DX[{i}]\", f\"MatchedHit_DY[{i}]\", f\"Mextra_DX2[{i}]\", f\"Mextra_DY2[{i}]\"]\n",
    "        mask = np.isclose(df.loc[:, cols], NA_VALUE).any(axis=1)\n",
    "\n",
    "        tmpX = df.loc[~mask, cols[::2]]\n",
    "        tmpY = df.loc[~mask, cols[1::2]]\n",
    "        \n",
    "        ratio = tmpX.iloc[:, 0] / np.sqrt(tmpX.iloc[:, 1]) + \\\n",
    "                tmpY.iloc[:, 0] / np.sqrt(tmpY.iloc[:, 1])\n",
    "\n",
    "        name = f\"ratio_MextraMatchedHit[{i}]\"\n",
    "        df[name] = NA_VALUE\n",
    "        df.loc[~mask, name] = ratio\n",
    "\n",
    "    return df"
   ]
  },
  {
   "cell_type": "code",
   "execution_count": 51,
   "metadata": {},
   "outputs": [],
   "source": [
    "# train, test = map(ratio_mextra_matched, [train, test])"
   ]
  },
  {
   "cell_type": "code",
   "execution_count": 52,
   "metadata": {},
   "outputs": [],
   "source": [
    "train = ratio_mextra_matched(train)"
   ]
  },
  {
   "cell_type": "code",
   "execution_count": 53,
   "metadata": {},
   "outputs": [
    {
     "data": {
      "text/html": [
       "<div>\n",
       "<style scoped>\n",
       "    .dataframe tbody tr th:only-of-type {\n",
       "        vertical-align: middle;\n",
       "    }\n",
       "\n",
       "    .dataframe tbody tr th {\n",
       "        vertical-align: top;\n",
       "    }\n",
       "\n",
       "    .dataframe thead th {\n",
       "        text-align: right;\n",
       "    }\n",
       "</style>\n",
       "<table border=\"1\" class=\"dataframe\">\n",
       "  <thead>\n",
       "    <tr style=\"text-align: right;\">\n",
       "      <th></th>\n",
       "      <th>ratio_MextraMatchedHit[0]</th>\n",
       "      <th>ratio_MextraMatchedHit[1]</th>\n",
       "      <th>ratio_MextraMatchedHit[2]</th>\n",
       "      <th>ratio_MextraMatchedHit[3]</th>\n",
       "    </tr>\n",
       "  </thead>\n",
       "  <tbody>\n",
       "    <tr>\n",
       "      <th>0</th>\n",
       "      <td>8.568041</td>\n",
       "      <td>5.452831</td>\n",
       "      <td>5.923010</td>\n",
       "      <td>4.591995</td>\n",
       "    </tr>\n",
       "    <tr>\n",
       "      <th>1</th>\n",
       "      <td>5.836899</td>\n",
       "      <td>3.697998</td>\n",
       "      <td>3.890070</td>\n",
       "      <td>2.942780</td>\n",
       "    </tr>\n",
       "    <tr>\n",
       "      <th>2</th>\n",
       "      <td>15.471354</td>\n",
       "      <td>9.812719</td>\n",
       "      <td>10.688360</td>\n",
       "      <td>8.330187</td>\n",
       "    </tr>\n",
       "    <tr>\n",
       "      <th>3</th>\n",
       "      <td>9.402639</td>\n",
       "      <td>6.001297</td>\n",
       "      <td>6.386638</td>\n",
       "      <td>4.884344</td>\n",
       "    </tr>\n",
       "    <tr>\n",
       "      <th>4</th>\n",
       "      <td>3.857346</td>\n",
       "      <td>2.445352</td>\n",
       "      <td>2.635871</td>\n",
       "      <td>2.025441</td>\n",
       "    </tr>\n",
       "  </tbody>\n",
       "</table>\n",
       "</div>"
      ],
      "text/plain": [
       "   ratio_MextraMatchedHit[0]  ratio_MextraMatchedHit[1]  \\\n",
       "0                   8.568041                   5.452831   \n",
       "1                   5.836899                   3.697998   \n",
       "2                  15.471354                   9.812719   \n",
       "3                   9.402639                   6.001297   \n",
       "4                   3.857346                   2.445352   \n",
       "\n",
       "   ratio_MextraMatchedHit[2]  ratio_MextraMatchedHit[3]  \n",
       "0                   5.923010                   4.591995  \n",
       "1                   3.890070                   2.942780  \n",
       "2                  10.688360                   8.330187  \n",
       "3                   6.386638                   4.884344  \n",
       "4                   2.635871                   2.025441  "
      ]
     },
     "execution_count": 53,
     "metadata": {},
     "output_type": "execute_result"
    }
   ],
   "source": [
    "train.loc[:, train.columns.str.startswith(\"ratio_MextraMatchedHit\")].head()"
   ]
  },
  {
   "cell_type": "markdown",
   "metadata": {},
   "source": [
    "### Левые и правые границы для Lextra (- не влезает в память)"
   ]
  },
  {
   "cell_type": "code",
   "execution_count": 54,
   "metadata": {},
   "outputs": [],
   "source": [
    "def sigma_lextra_hit(df):\n",
    "    for axis in ['X', 'Y']:\n",
    "        for i in range(0, 4):\n",
    "            col_i = f\"Lextra_{axis}[{i}]\"\n",
    "            col_j = f\"Mextra_D{axis}2[{i}]\"\n",
    "            mask = np.isclose(df.loc[:, [col_i, col_j]], NA_VALUE).any(axis=1)\n",
    "\n",
    "            for col, factor in zip([f\"Lextra_{axis}[{i}]_minus_sigma2\",\n",
    "                                    f\"Lextra_{axis}[{i}]_minus_sigma\",\n",
    "                                    f\"Lextra_{axis}[{i}]_plus_sigma\",\n",
    "                                    f\"Lextra_{axis}[{i}]_plus_sigma2\"],\n",
    "                                   [-2, -1, 1, 2]):\n",
    "                df[col] = NA_VALUE\n",
    "                df.loc[~mask, col] = df.loc[~mask, col_i] + factor * np.sqrt(df.loc[~mask, col_j])\n",
    "        \n",
    "    return df"
   ]
  },
  {
   "cell_type": "markdown",
   "metadata": {},
   "source": [
    "### Число объектов в кластерах"
   ]
  },
  {
   "cell_type": "code",
   "execution_count": 55,
   "metadata": {},
   "outputs": [],
   "source": [
    "def cluster_size(df):\n",
    "    for i in range(4):\n",
    "        name = f'cl_size[{i}]'\n",
    "        df[name] = NA_VALUE\n",
    "        \n",
    "        cols = [f'ncl[{i}]', f'avg_cs[{i}]']\n",
    "        mask = np.isclose(df.loc[:, cols], NA_VALUE).any(axis=1)\n",
    "        df.loc[~mask, name] = df.loc[~mask, cols[0]] * df.loc[~mask, cols[1]]\n",
    "    return df"
   ]
  },
  {
   "cell_type": "code",
   "execution_count": 56,
   "metadata": {},
   "outputs": [],
   "source": [
    "# train, test = map(cluster_size, [train, test])"
   ]
  },
  {
   "cell_type": "code",
   "execution_count": 57,
   "metadata": {},
   "outputs": [],
   "source": [
    "train = cluster_size(train)"
   ]
  },
  {
   "cell_type": "code",
   "execution_count": 58,
   "metadata": {},
   "outputs": [
    {
     "data": {
      "text/html": [
       "<div>\n",
       "<style scoped>\n",
       "    .dataframe tbody tr th:only-of-type {\n",
       "        vertical-align: middle;\n",
       "    }\n",
       "\n",
       "    .dataframe tbody tr th {\n",
       "        vertical-align: top;\n",
       "    }\n",
       "\n",
       "    .dataframe thead th {\n",
       "        text-align: right;\n",
       "    }\n",
       "</style>\n",
       "<table border=\"1\" class=\"dataframe\">\n",
       "  <thead>\n",
       "    <tr style=\"text-align: right;\">\n",
       "      <th></th>\n",
       "      <th>cl_size[0]</th>\n",
       "      <th>cl_size[1]</th>\n",
       "      <th>cl_size[2]</th>\n",
       "      <th>cl_size[3]</th>\n",
       "    </tr>\n",
       "  </thead>\n",
       "  <tbody>\n",
       "    <tr>\n",
       "      <th>0</th>\n",
       "      <td>203.999998</td>\n",
       "      <td>22.999999</td>\n",
       "      <td>21.000000</td>\n",
       "      <td>28.000000</td>\n",
       "    </tr>\n",
       "    <tr>\n",
       "      <th>1</th>\n",
       "      <td>180.000000</td>\n",
       "      <td>58.000001</td>\n",
       "      <td>10.000001</td>\n",
       "      <td>16.000001</td>\n",
       "    </tr>\n",
       "    <tr>\n",
       "      <th>2</th>\n",
       "      <td>150.999998</td>\n",
       "      <td>27.000000</td>\n",
       "      <td>15.000000</td>\n",
       "      <td>21.000000</td>\n",
       "    </tr>\n",
       "    <tr>\n",
       "      <th>3</th>\n",
       "      <td>93.000001</td>\n",
       "      <td>10.000000</td>\n",
       "      <td>22.000000</td>\n",
       "      <td>19.000001</td>\n",
       "    </tr>\n",
       "    <tr>\n",
       "      <th>4</th>\n",
       "      <td>225.000009</td>\n",
       "      <td>150.000001</td>\n",
       "      <td>33.000000</td>\n",
       "      <td>13.000000</td>\n",
       "    </tr>\n",
       "  </tbody>\n",
       "</table>\n",
       "</div>"
      ],
      "text/plain": [
       "   cl_size[0]  cl_size[1]  cl_size[2]  cl_size[3]\n",
       "0  203.999998   22.999999   21.000000   28.000000\n",
       "1  180.000000   58.000001   10.000001   16.000001\n",
       "2  150.999998   27.000000   15.000000   21.000000\n",
       "3   93.000001   10.000000   22.000000   19.000001\n",
       "4  225.000009  150.000001   33.000000   13.000000"
      ]
     },
     "execution_count": 58,
     "metadata": {},
     "output_type": "execute_result"
    }
   ],
   "source": [
    "train.loc[:, train.columns.str.startswith('cl_size')].head()"
   ]
  },
  {
   "cell_type": "markdown",
   "metadata": {},
   "source": [
    "### Последняя площадка"
   ]
  },
  {
   "cell_type": "code",
   "execution_count": 59,
   "metadata": {},
   "outputs": [],
   "source": [
    "def station_latest(df):\n",
    "    station = np.zeros(df.shape[0], dtype=int)\n",
    "    \n",
    "    for i in range(4):\n",
    "        cols = [f\"MatchedHit_X[{i}]\", f\"MatchedHit_Y[{i}]\", f\"MatchedHit_Z[{i}]\"]\n",
    "        mask = np.isclose(df.loc[:, cols], NA_VALUE).any(axis=1)\n",
    "        station[~mask] += 1\n",
    "        \n",
    "    df[\"station_latest\"] = station\n",
    "    \n",
    "    return df"
   ]
  },
  {
   "cell_type": "code",
   "execution_count": 60,
   "metadata": {},
   "outputs": [],
   "source": [
    "# train, test = map(station_latest, [train, test])"
   ]
  },
  {
   "cell_type": "code",
   "execution_count": 61,
   "metadata": {},
   "outputs": [],
   "source": [
    "# train.loc[:, \"station_latest\"].head()"
   ]
  },
  {
   "cell_type": "code",
   "execution_count": 62,
   "metadata": {},
   "outputs": [],
   "source": [
    "# np.unique(train['station_latest'], return_counts=True)"
   ]
  },
  {
   "cell_type": "markdown",
   "metadata": {},
   "source": [
    "### Еще один момент"
   ]
  },
  {
   "cell_type": "code",
   "execution_count": 63,
   "metadata": {},
   "outputs": [],
   "source": [
    "def momentum(df):\n",
    "    mask = np.isclose(df.loc[:, ['P', 'PT']], NA_VALUE).any(axis=1)\n",
    "    df['PO'] = NA_VALUE\n",
    "    df.loc[~mask, 'PO'] = np.power(df.loc[~mask, 'P'], 2.0) - np.power(df.loc[~mask, 'PT'], 2.0)\n",
    "    return df"
   ]
  },
  {
   "cell_type": "code",
   "execution_count": 64,
   "metadata": {},
   "outputs": [],
   "source": [
    "# train, test = map(momentum, [train, test])"
   ]
  },
  {
   "cell_type": "code",
   "execution_count": 65,
   "metadata": {},
   "outputs": [],
   "source": [
    "train = momentum(train)"
   ]
  },
  {
   "cell_type": "code",
   "execution_count": 66,
   "metadata": {},
   "outputs": [
    {
     "data": {
      "text/html": [
       "<div>\n",
       "<style scoped>\n",
       "    .dataframe tbody tr th:only-of-type {\n",
       "        vertical-align: middle;\n",
       "    }\n",
       "\n",
       "    .dataframe tbody tr th {\n",
       "        vertical-align: top;\n",
       "    }\n",
       "\n",
       "    .dataframe thead th {\n",
       "        text-align: right;\n",
       "    }\n",
       "</style>\n",
       "<table border=\"1\" class=\"dataframe\">\n",
       "  <thead>\n",
       "    <tr style=\"text-align: right;\">\n",
       "      <th></th>\n",
       "      <th>P</th>\n",
       "      <th>PT</th>\n",
       "      <th>PO</th>\n",
       "    </tr>\n",
       "  </thead>\n",
       "  <tbody>\n",
       "    <tr>\n",
       "      <th>0</th>\n",
       "      <td>50268.359507</td>\n",
       "      <td>2589.074895</td>\n",
       "      <td>2.520205e+09</td>\n",
       "    </tr>\n",
       "    <tr>\n",
       "      <th>1</th>\n",
       "      <td>9136.633410</td>\n",
       "      <td>1214.306768</td>\n",
       "      <td>8.200353e+07</td>\n",
       "    </tr>\n",
       "    <tr>\n",
       "      <th>2</th>\n",
       "      <td>46241.344045</td>\n",
       "      <td>4021.866299</td>\n",
       "      <td>2.122086e+09</td>\n",
       "    </tr>\n",
       "    <tr>\n",
       "      <th>3</th>\n",
       "      <td>14855.922836</td>\n",
       "      <td>2900.460154</td>\n",
       "      <td>2.122858e+08</td>\n",
       "    </tr>\n",
       "    <tr>\n",
       "      <th>4</th>\n",
       "      <td>21442.937297</td>\n",
       "      <td>1915.277178</td>\n",
       "      <td>4.561313e+08</td>\n",
       "    </tr>\n",
       "  </tbody>\n",
       "</table>\n",
       "</div>"
      ],
      "text/plain": [
       "              P           PT            PO\n",
       "0  50268.359507  2589.074895  2.520205e+09\n",
       "1   9136.633410  1214.306768  8.200353e+07\n",
       "2  46241.344045  4021.866299  2.122086e+09\n",
       "3  14855.922836  2900.460154  2.122858e+08\n",
       "4  21442.937297  1915.277178  4.561313e+08"
      ]
     },
     "execution_count": 66,
     "metadata": {},
     "output_type": "execute_result"
    }
   ],
   "source": [
    "train.loc[:, ['P', 'PT', 'PO']].head()"
   ]
  },
  {
   "cell_type": "markdown",
   "metadata": {},
   "source": [
    "### Отношение NShared к FOI_hits_N"
   ]
  },
  {
   "cell_type": "code",
   "execution_count": 67,
   "metadata": {},
   "outputs": [],
   "source": [
    "def nshared_foihits(df):\n",
    "    df.loc[:, \"frac_NShared_FOI_hits_N\"] = df.loc[:, \"NShared\"] / df.loc[:, \"FOI_hits_N\"] \n",
    "    df.loc[:, \"frac_NShared_FOI_hits_N\"] = df.loc[:, \"frac_NShared_FOI_hits_N\"].fillna(-1)\n",
    "    return df"
   ]
  },
  {
   "cell_type": "code",
   "execution_count": 68,
   "metadata": {},
   "outputs": [],
   "source": [
    "# train, test = map(nshared_foihits, [train, test])"
   ]
  },
  {
   "cell_type": "code",
   "execution_count": 69,
   "metadata": {},
   "outputs": [],
   "source": [
    "train = nshared_foihits(train)"
   ]
  },
  {
   "cell_type": "code",
   "execution_count": 70,
   "metadata": {},
   "outputs": [
    {
     "data": {
      "text/html": [
       "<div>\n",
       "<style scoped>\n",
       "    .dataframe tbody tr th:only-of-type {\n",
       "        vertical-align: middle;\n",
       "    }\n",
       "\n",
       "    .dataframe tbody tr th {\n",
       "        vertical-align: top;\n",
       "    }\n",
       "\n",
       "    .dataframe thead th {\n",
       "        text-align: right;\n",
       "    }\n",
       "</style>\n",
       "<table border=\"1\" class=\"dataframe\">\n",
       "  <thead>\n",
       "    <tr style=\"text-align: right;\">\n",
       "      <th></th>\n",
       "      <th>NShared</th>\n",
       "      <th>FOI_hits_N</th>\n",
       "      <th>frac_NShared_FOI_hits_N</th>\n",
       "    </tr>\n",
       "  </thead>\n",
       "  <tbody>\n",
       "    <tr>\n",
       "      <th>0</th>\n",
       "      <td>0</td>\n",
       "      <td>5</td>\n",
       "      <td>0.0</td>\n",
       "    </tr>\n",
       "    <tr>\n",
       "      <th>1</th>\n",
       "      <td>0</td>\n",
       "      <td>8</td>\n",
       "      <td>0.0</td>\n",
       "    </tr>\n",
       "    <tr>\n",
       "      <th>2</th>\n",
       "      <td>0</td>\n",
       "      <td>5</td>\n",
       "      <td>0.0</td>\n",
       "    </tr>\n",
       "    <tr>\n",
       "      <th>3</th>\n",
       "      <td>0</td>\n",
       "      <td>5</td>\n",
       "      <td>0.0</td>\n",
       "    </tr>\n",
       "    <tr>\n",
       "      <th>4</th>\n",
       "      <td>0</td>\n",
       "      <td>9</td>\n",
       "      <td>0.0</td>\n",
       "    </tr>\n",
       "  </tbody>\n",
       "</table>\n",
       "</div>"
      ],
      "text/plain": [
       "   NShared  FOI_hits_N  frac_NShared_FOI_hits_N\n",
       "0        0           5                      0.0\n",
       "1        0           8                      0.0\n",
       "2        0           5                      0.0\n",
       "3        0           5                      0.0\n",
       "4        0           9                      0.0"
      ]
     },
     "execution_count": 70,
     "metadata": {},
     "output_type": "execute_result"
    }
   ],
   "source": [
    "train.loc[:, [\"NShared\", \"FOI_hits_N\", \"frac_NShared_FOI_hits_N\"]].head()"
   ]
  },
  {
   "cell_type": "markdown",
   "metadata": {},
   "source": [
    "### Усредняем дисперсии"
   ]
  },
  {
   "cell_type": "code",
   "execution_count": 71,
   "metadata": {},
   "outputs": [],
   "source": [
    "def mean_std(df):\n",
    "    for station in range(4):\n",
    "        cols = [f'MatchedHit_D{axis}[{station}]' for axis in 'XYZ']\n",
    "        mask = np.isclose(df.loc[:, cols], -1).any(axis=1)\n",
    "        \n",
    "        name = f'MatchedHit_D[{station}]_mean'\n",
    "        df[name] = -1\n",
    "        df.loc[~mask, name] = df.loc[~mask, cols].mean(axis=1)\n",
    "        \n",
    "    for station in range(4):\n",
    "        cols = [f'Mextra_D{axis}2[{station}]' for axis in 'XY']\n",
    "        mask = np.isclose(df.loc[:, cols], -1).any(axis=1)\n",
    "        \n",
    "        name = f'Mextra_D2[{station}]_mean'\n",
    "        df[name] = -1\n",
    "        df.loc[~mask, name] = df.loc[~mask, cols].mean(axis=1)\n",
    "\n",
    "    return df"
   ]
  },
  {
   "cell_type": "code",
   "execution_count": 72,
   "metadata": {},
   "outputs": [],
   "source": [
    "# train, test = map(mean_std, [train, test])"
   ]
  },
  {
   "cell_type": "code",
   "execution_count": 73,
   "metadata": {},
   "outputs": [],
   "source": [
    "train = mean_std(train)"
   ]
  },
  {
   "cell_type": "markdown",
   "metadata": {},
   "source": [
    "### Удаляем лишние колонки"
   ]
  },
  {
   "cell_type": "code",
   "execution_count": 74,
   "metadata": {},
   "outputs": [],
   "source": [
    "import operator\n",
    "from functools import reduce\n",
    "\n",
    "def drop_columns(df):\n",
    "    mask = [df.columns.str.startswith('MatchedHit_X'),\n",
    "            df.columns.str.startswith('MatchedHit_Y'),\n",
    "            df.columns.str.startswith('Lextra_X'),\n",
    "            df.columns.str.startswith('Lextra_Y'),\n",
    "            df.columns.str.startswith('FOI_hits_N['),\n",
    "            df.columns == \"ndof\",\n",
    "            df.columns.str.startswith('MatchedHit_DX') & ~df.columns.str.endswith('_mean'),\n",
    "            df.columns.str.startswith('MatchedHit_DY') & ~df.columns.str.endswith('_mean'),\n",
    "            df.columns.str.startswith('MatchedHit_DZ') & ~df.columns.str.endswith('_mean'),\n",
    "            df.columns.str.startswith('Mextra_D') & ~df.columns.str.endswith('_mean')]\n",
    "    mask = reduce(operator.or_, mask)\n",
    "    df.drop(columns=df.columns[mask], inplace=True)\n",
    "    return df"
   ]
  },
  {
   "cell_type": "code",
   "execution_count": 75,
   "metadata": {},
   "outputs": [],
   "source": [
    "# train, test = map(drop_columns, [train, test])"
   ]
  },
  {
   "cell_type": "code",
   "execution_count": 76,
   "metadata": {},
   "outputs": [],
   "source": [
    "train = drop_columns(train)"
   ]
  },
  {
   "cell_type": "markdown",
   "metadata": {},
   "source": [
    "## Предсказание модели"
   ]
  },
  {
   "cell_type": "markdown",
   "metadata": {},
   "source": [
    "I know this is incorrect. See it as a low-hanging fruit to beat the baseline. Catboost affirmatively [refused](https://github.com/catboost/catboost/pull/399) to support negative weights. At the same time, its evaluation is [extremly fast](https://catboost.ai/news/best-in-class-inference-and-a-ton-of-speedups), so we are using it as the timing benchmark for Track 2. Feel free to use a patched version with disabled negative weights check."
   ]
  },
  {
   "cell_type": "code",
   "execution_count": 77,
   "metadata": {},
   "outputs": [
    {
     "data": {
      "text/plain": [
       "['ncl[0]',\n",
       " 'ncl[1]',\n",
       " 'ncl[2]',\n",
       " 'ncl[3]',\n",
       " 'avg_cs[0]',\n",
       " 'avg_cs[1]',\n",
       " 'avg_cs[2]',\n",
       " 'avg_cs[3]',\n",
       " 'MatchedHit_TYPE[0]',\n",
       " 'MatchedHit_TYPE[1]',\n",
       " 'MatchedHit_TYPE[2]',\n",
       " 'MatchedHit_TYPE[3]',\n",
       " 'MatchedHit_Z[0]',\n",
       " 'MatchedHit_Z[1]',\n",
       " 'MatchedHit_Z[2]',\n",
       " 'MatchedHit_Z[3]',\n",
       " 'MatchedHit_T[0]',\n",
       " 'MatchedHit_T[1]',\n",
       " 'MatchedHit_T[2]',\n",
       " 'MatchedHit_T[3]',\n",
       " 'MatchedHit_DT[0]',\n",
       " 'MatchedHit_DT[1]',\n",
       " 'MatchedHit_DT[2]',\n",
       " 'MatchedHit_DT[3]',\n",
       " 'NShared',\n",
       " 'FOI_hits_N',\n",
       " 'PT',\n",
       " 'P',\n",
       " 'find_closest_hit_per_station_0',\n",
       " 'find_closest_hit_per_station_1',\n",
       " 'find_closest_hit_per_station_2',\n",
       " 'find_closest_hit_per_station_3',\n",
       " 'find_closest_hit_per_station_4',\n",
       " 'find_closest_hit_per_station_5',\n",
       " 'find_closest_hit_per_station_6',\n",
       " 'find_closest_hit_per_station_7',\n",
       " 'find_closest_hit_per_station_8',\n",
       " 'find_closest_hit_per_station_9',\n",
       " 'find_closest_hit_per_station_10',\n",
       " 'find_closest_hit_per_station_11',\n",
       " 'find_closest_hit_per_station_12',\n",
       " 'find_closest_hit_per_station_13',\n",
       " 'find_closest_hit_per_station_14',\n",
       " 'find_closest_hit_per_station_15',\n",
       " 'find_closest_hit_per_station_16',\n",
       " 'find_closest_hit_per_station_17',\n",
       " 'find_closest_hit_per_station_18',\n",
       " 'find_closest_hit_per_station_19',\n",
       " 'find_closest_hit_per_station_20',\n",
       " 'find_closest_hit_per_station_21',\n",
       " 'find_closest_hit_per_station_22',\n",
       " 'find_closest_hit_per_station_23',\n",
       " 'find_closest_hit_per_station_24',\n",
       " 'find_closest_hit_per_station_25',\n",
       " 'find_closest_hit_per_station_26',\n",
       " 'find_closest_hit_per_station_27',\n",
       " 'find_closest_hit_per_station_28',\n",
       " 'find_closest_hit_per_station_29',\n",
       " 'find_closest_hit_per_station_30',\n",
       " 'find_closest_hit_per_station_31',\n",
       " 'find_closest_hit_per_station_32',\n",
       " 'find_closest_hit_per_station_33',\n",
       " 'find_closest_hit_per_station_34',\n",
       " 'find_closest_hit_per_station_35',\n",
       " 'find_closest_hit_per_station_36',\n",
       " 'find_closest_hit_per_station_37',\n",
       " 'find_closest_hit_per_station_38',\n",
       " 'find_closest_hit_per_station_39',\n",
       " 'find_closest_hit_per_station_40',\n",
       " 'find_closest_hit_per_station_41',\n",
       " 'find_closest_hit_per_station_42',\n",
       " 'find_closest_hit_per_station_43',\n",
       " 'MatchedHit_R[0]',\n",
       " 'MatchedHit_R[1]',\n",
       " 'MatchedHit_R[2]',\n",
       " 'MatchedHit_R[3]',\n",
       " 'MatchedHit_A[0]',\n",
       " 'MatchedHit_A[1]',\n",
       " 'MatchedHit_A[2]',\n",
       " 'MatchedHit_A[3]',\n",
       " 'Lextra_R[0]',\n",
       " 'Lextra_R[1]',\n",
       " 'Lextra_R[2]',\n",
       " 'Lextra_R[3]',\n",
       " 'MatchedHit_R[1/0]_delta',\n",
       " 'MatchedHit_R[1/0]_delta_abs',\n",
       " 'MatchedHit_R[1/0]_frac',\n",
       " 'MatchedHit_R[2/1]_delta',\n",
       " 'MatchedHit_R[2/1]_delta_abs',\n",
       " 'MatchedHit_R[2/1]_frac',\n",
       " 'MatchedHit_R[3/2]_delta',\n",
       " 'MatchedHit_R[3/2]_delta_abs',\n",
       " 'MatchedHit_R[3/2]_frac',\n",
       " 'MatchedHit_R[0/3]_delta',\n",
       " 'MatchedHit_R[0/3]_delta_abs',\n",
       " 'MatchedHit_R[0/3]_frac',\n",
       " 'Lextra_R[1/0]_delta',\n",
       " 'Lextra_R[1/0]_delta_abs',\n",
       " 'Lextra_R[2/1]_delta',\n",
       " 'Lextra_R[2/1]_delta_abs',\n",
       " 'Lextra_R[3/2]_delta',\n",
       " 'Lextra_R[3/2]_delta_abs',\n",
       " 'Lextra_R[0/3]_delta',\n",
       " 'Lextra_R[0/3]_delta_abs',\n",
       " 'distance_LextraMatchedHit[0]',\n",
       " 'distance_LextraMatchedHit[1]',\n",
       " 'distance_LextraMatchedHit[2]',\n",
       " 'distance_LextraMatchedHit[3]',\n",
       " 'distance_LextraMatchedHit_SE',\n",
       " 'distance_LextraMatchedHit_AE',\n",
       " 'MatchedHit_offset_abs',\n",
       " 'MatchedHit_offset_rel',\n",
       " 'MatchedHit_offset_rel_div_abs',\n",
       " 'ratio_MextraMatchedHit[0]',\n",
       " 'ratio_MextraMatchedHit[1]',\n",
       " 'ratio_MextraMatchedHit[2]',\n",
       " 'ratio_MextraMatchedHit[3]',\n",
       " 'cl_size[0]',\n",
       " 'cl_size[1]',\n",
       " 'cl_size[2]',\n",
       " 'cl_size[3]',\n",
       " 'PO',\n",
       " 'frac_NShared_FOI_hits_N',\n",
       " 'MatchedHit_D[0]_mean',\n",
       " 'MatchedHit_D[1]_mean',\n",
       " 'MatchedHit_D[2]_mean',\n",
       " 'MatchedHit_D[3]_mean',\n",
       " 'Mextra_D2[0]_mean',\n",
       " 'Mextra_D2[1]_mean',\n",
       " 'Mextra_D2[2]_mean',\n",
       " 'Mextra_D2[3]_mean']"
      ]
     },
     "execution_count": 77,
     "metadata": {},
     "output_type": "execute_result"
    }
   ],
   "source": [
    "features = list(filter(lambda s: s not in utils.TRAIN_COLUMNS, train.columns))\n",
    "features"
   ]
  },
  {
   "cell_type": "code",
   "execution_count": 78,
   "metadata": {},
   "outputs": [],
   "source": [
    "test = train"
   ]
  },
  {
   "cell_type": "code",
   "execution_count": 79,
   "metadata": {},
   "outputs": [],
   "source": [
    "models_g = [catboost.CatBoostClassifier().load_model(f\"models/catboost_model_{i}.cbm\") for i in range(5)]"
   ]
  },
  {
   "cell_type": "code",
   "execution_count": 80,
   "metadata": {},
   "outputs": [],
   "source": [
    "predictions = [model.predict_proba(test.loc[:, features].values)[:, 1] for model in models_g]\n",
    "predictions = np.asarray(predictions).T"
   ]
  },
  {
   "cell_type": "code",
   "execution_count": 81,
   "metadata": {},
   "outputs": [
    {
     "data": {
      "text/html": [
       "<div>\n",
       "<style scoped>\n",
       "    .dataframe tbody tr th:only-of-type {\n",
       "        vertical-align: middle;\n",
       "    }\n",
       "\n",
       "    .dataframe tbody tr th {\n",
       "        vertical-align: top;\n",
       "    }\n",
       "\n",
       "    .dataframe thead th {\n",
       "        text-align: right;\n",
       "    }\n",
       "</style>\n",
       "<table border=\"1\" class=\"dataframe\">\n",
       "  <thead>\n",
       "    <tr style=\"text-align: right;\">\n",
       "      <th></th>\n",
       "      <th>catboost_model_0</th>\n",
       "      <th>catboost_model_1</th>\n",
       "      <th>catboost_model_2</th>\n",
       "      <th>catboost_model_3</th>\n",
       "      <th>catboost_model_4</th>\n",
       "    </tr>\n",
       "  </thead>\n",
       "  <tbody>\n",
       "    <tr>\n",
       "      <th>0</th>\n",
       "      <td>0.672431</td>\n",
       "      <td>0.669141</td>\n",
       "      <td>0.657438</td>\n",
       "      <td>0.641826</td>\n",
       "      <td>0.771613</td>\n",
       "    </tr>\n",
       "    <tr>\n",
       "      <th>1</th>\n",
       "      <td>0.832719</td>\n",
       "      <td>0.845477</td>\n",
       "      <td>0.821077</td>\n",
       "      <td>0.860323</td>\n",
       "      <td>0.861051</td>\n",
       "    </tr>\n",
       "    <tr>\n",
       "      <th>2</th>\n",
       "      <td>0.408567</td>\n",
       "      <td>0.357850</td>\n",
       "      <td>0.406442</td>\n",
       "      <td>0.313398</td>\n",
       "      <td>0.332586</td>\n",
       "    </tr>\n",
       "    <tr>\n",
       "      <th>3</th>\n",
       "      <td>0.613057</td>\n",
       "      <td>0.681692</td>\n",
       "      <td>0.734121</td>\n",
       "      <td>0.620620</td>\n",
       "      <td>0.798437</td>\n",
       "    </tr>\n",
       "    <tr>\n",
       "      <th>4</th>\n",
       "      <td>0.485396</td>\n",
       "      <td>0.533970</td>\n",
       "      <td>0.516588</td>\n",
       "      <td>0.523012</td>\n",
       "      <td>0.552813</td>\n",
       "    </tr>\n",
       "  </tbody>\n",
       "</table>\n",
       "</div>"
      ],
      "text/plain": [
       "   catboost_model_0  catboost_model_1  catboost_model_2  catboost_model_3  \\\n",
       "0          0.672431          0.669141          0.657438          0.641826   \n",
       "1          0.832719          0.845477          0.821077          0.860323   \n",
       "2          0.408567          0.357850          0.406442          0.313398   \n",
       "3          0.613057          0.681692          0.734121          0.620620   \n",
       "4          0.485396          0.533970          0.516588          0.523012   \n",
       "\n",
       "   catboost_model_4  \n",
       "0          0.771613  \n",
       "1          0.861051  \n",
       "2          0.332586  \n",
       "3          0.798437  \n",
       "4          0.552813  "
      ]
     },
     "execution_count": 81,
     "metadata": {},
     "output_type": "execute_result"
    }
   ],
   "source": [
    "df_pred = pd.DataFrame(predictions,\n",
    "                       columns=[\"catboost_model_{}\".format(i) for i in range(predictions.shape[1])],\n",
    "                       index=test.index)\n",
    "df_pred.to_csv(\"preds/private_test_catboost_preds.csv\", sep=',', index=False)\n",
    "df_pred.head()"
   ]
  },
  {
   "cell_type": "code",
   "execution_count": null,
   "metadata": {},
   "outputs": [],
   "source": []
  }
 ],
 "metadata": {
  "kernelspec": {
   "display_name": "Python 3",
   "language": "python",
   "name": "python3"
  },
  "language_info": {
   "codemirror_mode": {
    "name": "ipython",
    "version": 3
   },
   "file_extension": ".py",
   "mimetype": "text/x-python",
   "name": "python",
   "nbconvert_exporter": "python",
   "pygments_lexer": "ipython3",
   "version": "3.6.0"
  }
 },
 "nbformat": 4,
 "nbformat_minor": 2
}

{
 "cells": [
  {
   "cell_type": "code",
   "execution_count": 1,
   "metadata": {},
   "outputs": [
    {
     "name": "stderr",
     "output_type": "stream",
     "text": [
      "Using cuDNN version 6021 on context None\n",
      "Mapped name None to device cuda: GeForce GTX TITAN X (0000:02:00.0)\n"
     ]
    }
   ],
   "source": [
    "import os\n",
    "import numpy as np\n",
    "import pandas as pd\n",
    "import swifter\n",
    "from sklearn.model_selection import train_test_split\n",
    "import utils\n",
    "from hep_ml.nnet import MLPClassifier"
   ]
  },
  {
   "cell_type": "code",
   "execution_count": 2,
   "metadata": {},
   "outputs": [],
   "source": [
    "DATA_PATH = \"./data\""
   ]
  },
  {
   "cell_type": "code",
   "execution_count": 3,
   "metadata": {},
   "outputs": [
    {
     "name": "stderr",
     "output_type": "stream",
     "text": [
      "/root/anaconda3/envs/idao_cb/lib/python3.6/site-packages/numpy/lib/arraysetops.py:522: FutureWarning: elementwise comparison failed; returning scalar instead, but in the future will perform elementwise comparison\n",
      "  mask |= (ar1 == a)\n"
     ]
    }
   ],
   "source": [
    "train, test = utils.load_data_csv(DATA_PATH, utils.SIMPLE_FEATURE_COLUMNS)"
   ]
  },
  {
   "cell_type": "code",
   "execution_count": 4,
   "metadata": {},
   "outputs": [],
   "source": [
    "func = utils.find_closest_hit_per_station"
   ]
  },
  {
   "cell_type": "code",
   "execution_count": 5,
   "metadata": {},
   "outputs": [],
   "source": [
    "# dt_train = pd.read_hdf('closest_hits_features.train.filled.p1000.hdf', 'key')\n",
    "# dt_test  = pd.read_hdf('closest_hits_features.test.filled.p1000.hdf', 'key')\n",
    "\n",
    "dt_train = pd.read_hdf('data/closest_hits_features.train.filled.m9999.v1.hdf', 'key')\n",
    "dt_test  = pd.read_hdf('data/closest_hits_features.test.filled.m9999.v1.hdf', 'key')"
   ]
  },
  {
   "cell_type": "code",
   "execution_count": 6,
   "metadata": {},
   "outputs": [],
   "source": [
    "dt_train.columns = [func.__name__ + '_' + str(c) if str(c).isnumeric() else c for c in dt_train.columns]\n",
    "dt_test.columns  = [func.__name__ + '_' + str(c) if str(c).isnumeric() else c for c in dt_test.columns]"
   ]
  },
  {
   "cell_type": "code",
   "execution_count": 7,
   "metadata": {},
   "outputs": [],
   "source": [
    "train = pd.concat([train, dt_train], axis=1, copy=False)\n",
    "test = pd.concat([test, dt_test], axis=1, copy=False)"
   ]
  },
  {
   "cell_type": "code",
   "execution_count": 8,
   "metadata": {},
   "outputs": [
    {
     "data": {
      "text/plain": [
       "((5445705, 115), (726095, 113))"
      ]
     },
     "execution_count": 8,
     "metadata": {},
     "output_type": "execute_result"
    }
   ],
   "source": [
    "train.shape, test.shape"
   ]
  },
  {
   "cell_type": "code",
   "execution_count": 9,
   "metadata": {},
   "outputs": [
    {
     "data": {
      "text/plain": [
       "{'label', 'weight'}"
      ]
     },
     "execution_count": 9,
     "metadata": {},
     "output_type": "execute_result"
    }
   ],
   "source": [
    "set(train.columns.tolist()).symmetric_difference(test.columns.tolist())"
   ]
  },
  {
   "cell_type": "code",
   "execution_count": 10,
   "metadata": {},
   "outputs": [],
   "source": [
    "del test"
   ]
  },
  {
   "cell_type": "markdown",
   "metadata": {},
   "source": [
    "## Новые признаки"
   ]
  },
  {
   "cell_type": "code",
   "execution_count": 11,
   "metadata": {},
   "outputs": [],
   "source": [
    "NA_VALUE = -9999.0"
   ]
  },
  {
   "cell_type": "code",
   "execution_count": 12,
   "metadata": {},
   "outputs": [],
   "source": [
    "def fillna(df):\n",
    "    \"\"\"\n",
    "    Пропуски только в 2 и 3 колонках\n",
    "    \"\"\"\n",
    "    \n",
    "    for axis in 'XYZ':\n",
    "        cols = ['MatchedHit_{}[{}]'.format(axis, i) for i in range(4)]\n",
    "        mask = np.isclose(df.loc[:, cols[2]], NA_VALUE)\n",
    "        mask = mask & ~np.isclose(df.loc[:, cols[3]], NA_VALUE)\n",
    "        \n",
    "        df.loc[mask, cols[2]] = df.loc[mask, [cols[1], cols[3]]].mean(axis=1)\n",
    "    return df"
   ]
  },
  {
   "cell_type": "code",
   "execution_count": 13,
   "metadata": {},
   "outputs": [],
   "source": [
    "# train, test = map(fillna, [train, test])"
   ]
  },
  {
   "cell_type": "code",
   "execution_count": 14,
   "metadata": {},
   "outputs": [],
   "source": [
    "train = fillna(train)"
   ]
  },
  {
   "cell_type": "markdown",
   "metadata": {},
   "source": [
    "### Модифицируем matched_hit_type"
   ]
  },
  {
   "cell_type": "code",
   "execution_count": 15,
   "metadata": {},
   "outputs": [],
   "source": [
    "def modify_matched_hit_type(df):\n",
    "    map_type = {2: 1, 0: 0, 1: -1}\n",
    "    cols = df.columns[df.columns.str.startswith('MatchedHit_TYPE')]\n",
    "    for col in cols:\n",
    "        df[col] = df[col].map(map_type)\n",
    "    return df"
   ]
  },
  {
   "cell_type": "code",
   "execution_count": 16,
   "metadata": {},
   "outputs": [],
   "source": [
    "# train, test = map(modify_matched_hit_type, [train, test])"
   ]
  },
  {
   "cell_type": "code",
   "execution_count": 17,
   "metadata": {},
   "outputs": [],
   "source": [
    "train = modify_matched_hit_type(train)"
   ]
  },
  {
   "cell_type": "markdown",
   "metadata": {},
   "source": [
    "### Вычесть среднее из MatchedHit_Z"
   ]
  },
  {
   "cell_type": "code",
   "execution_count": 18,
   "metadata": {},
   "outputs": [
    {
     "data": {
      "text/plain": [
       "MatchedHit_Z[0]    15270\n",
       "MatchedHit_Z[1]    16470\n",
       "MatchedHit_Z[2]    17670\n",
       "MatchedHit_Z[3]    18870\n",
       "dtype: int64"
      ]
     },
     "execution_count": 18,
     "metadata": {},
     "output_type": "execute_result"
    }
   ],
   "source": [
    "matched_hit_z_cols = train.columns[train.columns.str.startswith(\"MatchedHit_Z\")]\n",
    "matched_hit_z_mean = pd.Series([15270, 16470, 17670, 18870], index=matched_hit_z_cols)\n",
    "matched_hit_z_mean"
   ]
  },
  {
   "cell_type": "code",
   "execution_count": 19,
   "metadata": {},
   "outputs": [],
   "source": [
    "def make_unbiased_z(df):\n",
    "    for i in range(4):\n",
    "        distance = np.zeros(df.shape[0])\n",
    "    \n",
    "        col = f\"MatchedHit_Z[{i}]\"\n",
    "        mask = np.isclose(df.loc[:, col], NA_VALUE)\n",
    "        distance[~mask] = df.loc[~mask, col] - matched_hit_z_mean[col]\n",
    "        distance[mask] = 0\n",
    "    \n",
    "        df[col] = distance\n",
    "        \n",
    "        df[f\"MatchedHit_Z[{i}]_sign\"] = np.sign(df[col]).astype(np.int8)\n",
    "    return df"
   ]
  },
  {
   "cell_type": "code",
   "execution_count": 20,
   "metadata": {},
   "outputs": [],
   "source": [
    "# train, test = map(make_unbiased_z, [train, test])"
   ]
  },
  {
   "cell_type": "code",
   "execution_count": 21,
   "metadata": {},
   "outputs": [],
   "source": [
    "train = make_unbiased_z(train)"
   ]
  },
  {
   "cell_type": "code",
   "execution_count": 22,
   "metadata": {},
   "outputs": [
    {
     "data": {
      "text/html": [
       "<div>\n",
       "<style scoped>\n",
       "    .dataframe tbody tr th:only-of-type {\n",
       "        vertical-align: middle;\n",
       "    }\n",
       "\n",
       "    .dataframe tbody tr th {\n",
       "        vertical-align: top;\n",
       "    }\n",
       "\n",
       "    .dataframe thead th {\n",
       "        text-align: right;\n",
       "    }\n",
       "</style>\n",
       "<table border=\"1\" class=\"dataframe\">\n",
       "  <thead>\n",
       "    <tr style=\"text-align: right;\">\n",
       "      <th></th>\n",
       "      <th>MatchedHit_Z[0]</th>\n",
       "      <th>MatchedHit_Z[1]</th>\n",
       "      <th>MatchedHit_Z[2]</th>\n",
       "      <th>MatchedHit_Z[3]</th>\n",
       "      <th>MatchedHit_Z[0]_sign</th>\n",
       "      <th>MatchedHit_Z[1]_sign</th>\n",
       "      <th>MatchedHit_Z[2]_sign</th>\n",
       "      <th>MatchedHit_Z[3]_sign</th>\n",
       "    </tr>\n",
       "  </thead>\n",
       "  <tbody>\n",
       "    <tr>\n",
       "      <th>0</th>\n",
       "      <td>-146.955</td>\n",
       "      <td>-142.367</td>\n",
       "      <td>-149.174</td>\n",
       "      <td>-140.676</td>\n",
       "      <td>-1</td>\n",
       "      <td>-1</td>\n",
       "      <td>-1</td>\n",
       "      <td>-1</td>\n",
       "    </tr>\n",
       "    <tr>\n",
       "      <th>1</th>\n",
       "      <td>-57.402</td>\n",
       "      <td>-49.424</td>\n",
       "      <td>-55.146</td>\n",
       "      <td>-45.570</td>\n",
       "      <td>-1</td>\n",
       "      <td>-1</td>\n",
       "      <td>-1</td>\n",
       "      <td>-1</td>\n",
       "    </tr>\n",
       "    <tr>\n",
       "      <th>2</th>\n",
       "      <td>47.953</td>\n",
       "      <td>52.060</td>\n",
       "      <td>-71.700</td>\n",
       "      <td>-63.648</td>\n",
       "      <td>1</td>\n",
       "      <td>1</td>\n",
       "      <td>-1</td>\n",
       "      <td>-1</td>\n",
       "    </tr>\n",
       "    <tr>\n",
       "      <th>3</th>\n",
       "      <td>-68.590</td>\n",
       "      <td>-64.445</td>\n",
       "      <td>-71.700</td>\n",
       "      <td>-63.648</td>\n",
       "      <td>-1</td>\n",
       "      <td>-1</td>\n",
       "      <td>-1</td>\n",
       "      <td>-1</td>\n",
       "    </tr>\n",
       "    <tr>\n",
       "      <th>4</th>\n",
       "      <td>-64.511</td>\n",
       "      <td>-60.047</td>\n",
       "      <td>-66.979</td>\n",
       "      <td>-58.605</td>\n",
       "      <td>-1</td>\n",
       "      <td>-1</td>\n",
       "      <td>-1</td>\n",
       "      <td>-1</td>\n",
       "    </tr>\n",
       "  </tbody>\n",
       "</table>\n",
       "</div>"
      ],
      "text/plain": [
       "   MatchedHit_Z[0]  MatchedHit_Z[1]  MatchedHit_Z[2]  MatchedHit_Z[3]  \\\n",
       "0         -146.955         -142.367         -149.174         -140.676   \n",
       "1          -57.402          -49.424          -55.146          -45.570   \n",
       "2           47.953           52.060          -71.700          -63.648   \n",
       "3          -68.590          -64.445          -71.700          -63.648   \n",
       "4          -64.511          -60.047          -66.979          -58.605   \n",
       "\n",
       "   MatchedHit_Z[0]_sign  MatchedHit_Z[1]_sign  MatchedHit_Z[2]_sign  \\\n",
       "0                    -1                    -1                    -1   \n",
       "1                    -1                    -1                    -1   \n",
       "2                     1                     1                    -1   \n",
       "3                    -1                    -1                    -1   \n",
       "4                    -1                    -1                    -1   \n",
       "\n",
       "   MatchedHit_Z[3]_sign  \n",
       "0                    -1  \n",
       "1                    -1  \n",
       "2                    -1  \n",
       "3                    -1  \n",
       "4                    -1  "
      ]
     },
     "execution_count": 22,
     "metadata": {},
     "output_type": "execute_result"
    }
   ],
   "source": [
    "train.loc[:, train.columns.str.startswith(\"MatchedHit_Z\")].head()"
   ]
  },
  {
   "cell_type": "markdown",
   "metadata": {},
   "source": [
    "### Расстояние до центра (+)"
   ]
  },
  {
   "cell_type": "code",
   "execution_count": 23,
   "metadata": {},
   "outputs": [],
   "source": [
    "def compute_polar_distances_matched_hit(df):\n",
    "    for i in range(4):\n",
    "        cols = [f\"MatchedHit_X[{i}]\", f\"MatchedHit_Y[{i}]\"]\n",
    "        mask = np.isclose(df.loc[:, cols], NA_VALUE).any(axis=1)\n",
    "    \n",
    "        name = f\"MatchedHit_R[{i}]\"\n",
    "        df[name] = NA_VALUE\n",
    "        df.loc[~mask, name] = np.log(1.0 + np.power(df.loc[~mask, cols], 2).sum(axis=1))\n",
    "        \n",
    "        name = f\"MatchedHit_A[{i}]\"\n",
    "        df[name] = NA_VALUE\n",
    "        df.loc[~mask, name] = np.arctan2(df.loc[~mask, cols[1]], df.loc[~mask, cols[0]])\n",
    "\n",
    "    # намеренное переупорядочивание признаков\n",
    "    cols  = df.columns[df.columns.str.startswith(\"MatchedHit_R\")].tolist()\n",
    "    cols += df.columns[df.columns.str.startswith(\"MatchedHit_A\")].tolist()\n",
    "    cols  = df.columns[:-len(cols)].tolist() + cols\n",
    "    df = df[cols]\n",
    "\n",
    "    return df"
   ]
  },
  {
   "cell_type": "code",
   "execution_count": 24,
   "metadata": {},
   "outputs": [],
   "source": [
    "# train, test = map(compute_polar_distances_matched_hit, [train, test])"
   ]
  },
  {
   "cell_type": "code",
   "execution_count": 25,
   "metadata": {},
   "outputs": [],
   "source": [
    "train = compute_polar_distances_matched_hit(train)"
   ]
  },
  {
   "cell_type": "code",
   "execution_count": 26,
   "metadata": {},
   "outputs": [
    {
     "data": {
      "text/html": [
       "<div>\n",
       "<style scoped>\n",
       "    .dataframe tbody tr th:only-of-type {\n",
       "        vertical-align: middle;\n",
       "    }\n",
       "\n",
       "    .dataframe tbody tr th {\n",
       "        vertical-align: top;\n",
       "    }\n",
       "\n",
       "    .dataframe thead th {\n",
       "        text-align: right;\n",
       "    }\n",
       "</style>\n",
       "<table border=\"1\" class=\"dataframe\">\n",
       "  <thead>\n",
       "    <tr style=\"text-align: right;\">\n",
       "      <th></th>\n",
       "      <th>MatchedHit_R[0]</th>\n",
       "      <th>MatchedHit_R[1]</th>\n",
       "      <th>MatchedHit_R[2]</th>\n",
       "      <th>MatchedHit_R[3]</th>\n",
       "    </tr>\n",
       "  </thead>\n",
       "  <tbody>\n",
       "    <tr>\n",
       "      <th>0</th>\n",
       "      <td>16.023317</td>\n",
       "      <td>16.206292</td>\n",
       "      <td>16.332808</td>\n",
       "      <td>16.583070</td>\n",
       "    </tr>\n",
       "    <tr>\n",
       "      <th>1</th>\n",
       "      <td>15.647796</td>\n",
       "      <td>15.811899</td>\n",
       "      <td>15.934739</td>\n",
       "      <td>16.044511</td>\n",
       "    </tr>\n",
       "    <tr>\n",
       "      <th>2</th>\n",
       "      <td>14.788550</td>\n",
       "      <td>14.971064</td>\n",
       "      <td>15.147750</td>\n",
       "      <td>15.280270</td>\n",
       "    </tr>\n",
       "    <tr>\n",
       "      <th>3</th>\n",
       "      <td>14.899596</td>\n",
       "      <td>15.022741</td>\n",
       "      <td>15.147750</td>\n",
       "      <td>15.280270</td>\n",
       "    </tr>\n",
       "    <tr>\n",
       "      <th>4</th>\n",
       "      <td>14.962988</td>\n",
       "      <td>15.139525</td>\n",
       "      <td>15.316049</td>\n",
       "      <td>15.449411</td>\n",
       "    </tr>\n",
       "  </tbody>\n",
       "</table>\n",
       "</div>"
      ],
      "text/plain": [
       "   MatchedHit_R[0]  MatchedHit_R[1]  MatchedHit_R[2]  MatchedHit_R[3]\n",
       "0        16.023317        16.206292        16.332808        16.583070\n",
       "1        15.647796        15.811899        15.934739        16.044511\n",
       "2        14.788550        14.971064        15.147750        15.280270\n",
       "3        14.899596        15.022741        15.147750        15.280270\n",
       "4        14.962988        15.139525        15.316049        15.449411"
      ]
     },
     "execution_count": 26,
     "metadata": {},
     "output_type": "execute_result"
    }
   ],
   "source": [
    "train.loc[:, train.columns.str.startswith(\"MatchedHit_R\")].head()"
   ]
  },
  {
   "cell_type": "code",
   "execution_count": 27,
   "metadata": {},
   "outputs": [
    {
     "data": {
      "text/html": [
       "<div>\n",
       "<style scoped>\n",
       "    .dataframe tbody tr th:only-of-type {\n",
       "        vertical-align: middle;\n",
       "    }\n",
       "\n",
       "    .dataframe tbody tr th {\n",
       "        vertical-align: top;\n",
       "    }\n",
       "\n",
       "    .dataframe thead th {\n",
       "        text-align: right;\n",
       "    }\n",
       "</style>\n",
       "<table border=\"1\" class=\"dataframe\">\n",
       "  <thead>\n",
       "    <tr style=\"text-align: right;\">\n",
       "      <th></th>\n",
       "      <th>MatchedHit_A[0]</th>\n",
       "      <th>MatchedHit_A[1]</th>\n",
       "      <th>MatchedHit_A[2]</th>\n",
       "      <th>MatchedHit_A[3]</th>\n",
       "    </tr>\n",
       "  </thead>\n",
       "  <tbody>\n",
       "    <tr>\n",
       "      <th>0</th>\n",
       "      <td>2.668808</td>\n",
       "      <td>2.676832</td>\n",
       "      <td>2.672886</td>\n",
       "      <td>2.701153</td>\n",
       "    </tr>\n",
       "    <tr>\n",
       "      <th>1</th>\n",
       "      <td>1.270437</td>\n",
       "      <td>1.251195</td>\n",
       "      <td>1.280089</td>\n",
       "      <td>1.319231</td>\n",
       "    </tr>\n",
       "    <tr>\n",
       "      <th>2</th>\n",
       "      <td>-2.944427</td>\n",
       "      <td>-2.947037</td>\n",
       "      <td>-3.027307</td>\n",
       "      <td>-3.028216</td>\n",
       "    </tr>\n",
       "    <tr>\n",
       "      <th>3</th>\n",
       "      <td>-3.030048</td>\n",
       "      <td>-3.028084</td>\n",
       "      <td>-3.027307</td>\n",
       "      <td>-3.028216</td>\n",
       "    </tr>\n",
       "    <tr>\n",
       "      <th>4</th>\n",
       "      <td>2.582489</td>\n",
       "      <td>2.590782</td>\n",
       "      <td>2.601329</td>\n",
       "      <td>2.600883</td>\n",
       "    </tr>\n",
       "  </tbody>\n",
       "</table>\n",
       "</div>"
      ],
      "text/plain": [
       "   MatchedHit_A[0]  MatchedHit_A[1]  MatchedHit_A[2]  MatchedHit_A[3]\n",
       "0         2.668808         2.676832         2.672886         2.701153\n",
       "1         1.270437         1.251195         1.280089         1.319231\n",
       "2        -2.944427        -2.947037        -3.027307        -3.028216\n",
       "3        -3.030048        -3.028084        -3.027307        -3.028216\n",
       "4         2.582489         2.590782         2.601329         2.600883"
      ]
     },
     "execution_count": 27,
     "metadata": {},
     "output_type": "execute_result"
    }
   ],
   "source": [
    "train.loc[:, train.columns.str.startswith(\"MatchedHit_A\")].head()"
   ]
  },
  {
   "cell_type": "code",
   "execution_count": 28,
   "metadata": {},
   "outputs": [],
   "source": [
    "def replace_na(df):\n",
    "    df[df == NA_VALUE] = None\n",
    "    df.fillna(df.mean(), inplace=True)\n",
    "    return df"
   ]
  },
  {
   "cell_type": "code",
   "execution_count": 29,
   "metadata": {},
   "outputs": [],
   "source": [
    "# train, test = map(replace_na, [train, test])"
   ]
  },
  {
   "cell_type": "code",
   "execution_count": 30,
   "metadata": {},
   "outputs": [],
   "source": [
    "train = replace_na(train)"
   ]
  },
  {
   "cell_type": "markdown",
   "metadata": {},
   "source": [
    "### Дельты и отношения для радиусов (+)"
   ]
  },
  {
   "cell_type": "code",
   "execution_count": 31,
   "metadata": {},
   "outputs": [],
   "source": [
    "def ratio_radius_matched_hit(df):\n",
    "    for i, j in zip([0, 1, 2, 3], [1, 2, 3, 0]):\n",
    "        col_i = f\"MatchedHit_R[{i}]\"\n",
    "        col_j = f\"MatchedHit_R[{j}]\"\n",
    "        mask = np.isclose(df.loc[:, [col_i, col_j]], NA_VALUE).any(axis=1)\n",
    "\n",
    "        name = f\"MatchedHit_R[{j}/{i}]_delta\"\n",
    "        name_abs = name + '_abs'\n",
    "        df[name] = df[name_abs] = NA_VALUE\n",
    "        \n",
    "        df.loc[~mask, name] = df.loc[~mask, col_j] - df.loc[~mask, col_i]\n",
    "        df.loc[~mask, name_abs] = np.abs(df.loc[~mask, name])\n",
    "        \n",
    "        name = f\"MatchedHit_R[{j}/{i}]_frac\"\n",
    "        df[name] = NA_VALUE\n",
    "        df.loc[~mask, name] = df.loc[~mask, col_j] / df.loc[~mask, col_i]\n",
    "    return df"
   ]
  },
  {
   "cell_type": "code",
   "execution_count": 32,
   "metadata": {},
   "outputs": [],
   "source": [
    "# train, test = map(ratio_radius_matched_hit, [train, test])"
   ]
  },
  {
   "cell_type": "code",
   "execution_count": 33,
   "metadata": {},
   "outputs": [],
   "source": [
    "train = ratio_radius_matched_hit(train)"
   ]
  },
  {
   "cell_type": "code",
   "execution_count": 34,
   "metadata": {},
   "outputs": [
    {
     "data": {
      "text/html": [
       "<div>\n",
       "<style scoped>\n",
       "    .dataframe tbody tr th:only-of-type {\n",
       "        vertical-align: middle;\n",
       "    }\n",
       "\n",
       "    .dataframe tbody tr th {\n",
       "        vertical-align: top;\n",
       "    }\n",
       "\n",
       "    .dataframe thead th {\n",
       "        text-align: right;\n",
       "    }\n",
       "</style>\n",
       "<table border=\"1\" class=\"dataframe\">\n",
       "  <thead>\n",
       "    <tr style=\"text-align: right;\">\n",
       "      <th></th>\n",
       "      <th>MatchedHit_R[1/0]_delta</th>\n",
       "      <th>MatchedHit_R[1/0]_delta_abs</th>\n",
       "      <th>MatchedHit_R[1/0]_frac</th>\n",
       "      <th>MatchedHit_R[2/1]_delta</th>\n",
       "      <th>MatchedHit_R[2/1]_delta_abs</th>\n",
       "      <th>MatchedHit_R[2/1]_frac</th>\n",
       "      <th>MatchedHit_R[3/2]_delta</th>\n",
       "      <th>MatchedHit_R[3/2]_delta_abs</th>\n",
       "      <th>MatchedHit_R[3/2]_frac</th>\n",
       "      <th>MatchedHit_R[0/3]_delta</th>\n",
       "      <th>MatchedHit_R[0/3]_delta_abs</th>\n",
       "      <th>MatchedHit_R[0/3]_frac</th>\n",
       "    </tr>\n",
       "  </thead>\n",
       "  <tbody>\n",
       "    <tr>\n",
       "      <th>0</th>\n",
       "      <td>0.182975</td>\n",
       "      <td>0.182975</td>\n",
       "      <td>1.011419</td>\n",
       "      <td>0.126516</td>\n",
       "      <td>0.126516</td>\n",
       "      <td>1.007807</td>\n",
       "      <td>0.250262</td>\n",
       "      <td>0.250262</td>\n",
       "      <td>1.015323</td>\n",
       "      <td>-0.559754</td>\n",
       "      <td>0.559754</td>\n",
       "      <td>0.966245</td>\n",
       "    </tr>\n",
       "    <tr>\n",
       "      <th>1</th>\n",
       "      <td>0.164103</td>\n",
       "      <td>0.164103</td>\n",
       "      <td>1.010487</td>\n",
       "      <td>0.122840</td>\n",
       "      <td>0.122840</td>\n",
       "      <td>1.007769</td>\n",
       "      <td>0.109772</td>\n",
       "      <td>0.109772</td>\n",
       "      <td>1.006889</td>\n",
       "      <td>-0.396714</td>\n",
       "      <td>0.396714</td>\n",
       "      <td>0.975274</td>\n",
       "    </tr>\n",
       "    <tr>\n",
       "      <th>2</th>\n",
       "      <td>0.182513</td>\n",
       "      <td>0.182513</td>\n",
       "      <td>1.012342</td>\n",
       "      <td>0.176687</td>\n",
       "      <td>0.176687</td>\n",
       "      <td>1.011802</td>\n",
       "      <td>0.132520</td>\n",
       "      <td>0.132520</td>\n",
       "      <td>1.008748</td>\n",
       "      <td>-0.491720</td>\n",
       "      <td>0.491720</td>\n",
       "      <td>0.967820</td>\n",
       "    </tr>\n",
       "    <tr>\n",
       "      <th>3</th>\n",
       "      <td>0.123146</td>\n",
       "      <td>0.123146</td>\n",
       "      <td>1.008265</td>\n",
       "      <td>0.125009</td>\n",
       "      <td>0.125009</td>\n",
       "      <td>1.008321</td>\n",
       "      <td>0.132520</td>\n",
       "      <td>0.132520</td>\n",
       "      <td>1.008748</td>\n",
       "      <td>-0.380674</td>\n",
       "      <td>0.380674</td>\n",
       "      <td>0.975087</td>\n",
       "    </tr>\n",
       "    <tr>\n",
       "      <th>4</th>\n",
       "      <td>0.176537</td>\n",
       "      <td>0.176537</td>\n",
       "      <td>1.011798</td>\n",
       "      <td>0.176523</td>\n",
       "      <td>0.176523</td>\n",
       "      <td>1.011660</td>\n",
       "      <td>0.133362</td>\n",
       "      <td>0.133362</td>\n",
       "      <td>1.008707</td>\n",
       "      <td>-0.486422</td>\n",
       "      <td>0.486422</td>\n",
       "      <td>0.968515</td>\n",
       "    </tr>\n",
       "  </tbody>\n",
       "</table>\n",
       "</div>"
      ],
      "text/plain": [
       "   MatchedHit_R[1/0]_delta  MatchedHit_R[1/0]_delta_abs  \\\n",
       "0                 0.182975                     0.182975   \n",
       "1                 0.164103                     0.164103   \n",
       "2                 0.182513                     0.182513   \n",
       "3                 0.123146                     0.123146   \n",
       "4                 0.176537                     0.176537   \n",
       "\n",
       "   MatchedHit_R[1/0]_frac  MatchedHit_R[2/1]_delta  \\\n",
       "0                1.011419                 0.126516   \n",
       "1                1.010487                 0.122840   \n",
       "2                1.012342                 0.176687   \n",
       "3                1.008265                 0.125009   \n",
       "4                1.011798                 0.176523   \n",
       "\n",
       "   MatchedHit_R[2/1]_delta_abs  MatchedHit_R[2/1]_frac  \\\n",
       "0                     0.126516                1.007807   \n",
       "1                     0.122840                1.007769   \n",
       "2                     0.176687                1.011802   \n",
       "3                     0.125009                1.008321   \n",
       "4                     0.176523                1.011660   \n",
       "\n",
       "   MatchedHit_R[3/2]_delta  MatchedHit_R[3/2]_delta_abs  \\\n",
       "0                 0.250262                     0.250262   \n",
       "1                 0.109772                     0.109772   \n",
       "2                 0.132520                     0.132520   \n",
       "3                 0.132520                     0.132520   \n",
       "4                 0.133362                     0.133362   \n",
       "\n",
       "   MatchedHit_R[3/2]_frac  MatchedHit_R[0/3]_delta  \\\n",
       "0                1.015323                -0.559754   \n",
       "1                1.006889                -0.396714   \n",
       "2                1.008748                -0.491720   \n",
       "3                1.008748                -0.380674   \n",
       "4                1.008707                -0.486422   \n",
       "\n",
       "   MatchedHit_R[0/3]_delta_abs  MatchedHit_R[0/3]_frac  \n",
       "0                     0.559754                0.966245  \n",
       "1                     0.396714                0.975274  \n",
       "2                     0.491720                0.967820  \n",
       "3                     0.380674                0.975087  \n",
       "4                     0.486422                0.968515  "
      ]
     },
     "execution_count": 34,
     "metadata": {},
     "output_type": "execute_result"
    }
   ],
   "source": [
    "cols = filter(lambda s: s.startswith(\"MatchedHit_R\") and (\"_delta\" in s or \"_frac\" in s), train.columns)\n",
    "train.loc[:, cols].head()"
   ]
  },
  {
   "cell_type": "markdown",
   "metadata": {},
   "source": [
    "### Расстояние между Lextra и MatchedHit (+)"
   ]
  },
  {
   "cell_type": "code",
   "execution_count": 35,
   "metadata": {},
   "outputs": [],
   "source": [
    "def distance_dist_lextra_matched(df):\n",
    "    distance_counts = np.zeros(df.shape[0], dtype=int)\n",
    "    \n",
    "    distance_se = np.zeros(df.shape[0])\n",
    "    distance_ae = np.zeros(df.shape[0])\n",
    "    \n",
    "    for i in range(4):\n",
    "        distance = np.zeros(df.shape[0])\n",
    "\n",
    "        cols = [f\"MatchedHit_X[{i}]\", f\"MatchedHit_Y[{i}]\", f\"Lextra_X[{i}]\", f\"Lextra_Y[{i}]\"]\n",
    "        mask = np.isclose(df.loc[:, cols], NA_VALUE).any(axis=1)\n",
    "\n",
    "        mse = df.loc[~mask, cols[:2]].values - df.loc[~mask, cols[2:]].values\n",
    "        mse = np.power(mse, 2.0).sum(axis=1)\n",
    "        \n",
    "        mae = df.loc[~mask, cols[:2]].values - df.loc[~mask, cols[2:]].values\n",
    "        mae = np.abs(mae).max(axis=1)\n",
    "\n",
    "        distance[~mask] = np.log(1.0 + mse)\n",
    "        distance[mask] = NA_VALUE\n",
    "        \n",
    "        distance_se[~mask] += mse\n",
    "        distance_ae[~mask] = np.maximum(distance_ae[~mask], mae)\n",
    "        distance_counts[~mask] += 1\n",
    "\n",
    "        df[f\"distance_LextraMatchedHit[{i}]\"] = distance\n",
    "\n",
    "#     distance_se /= distance_counts\n",
    "#     df[f\"distance_LextraMatchedHit_SE\"] = distance_se\n",
    "#     df[f\"distance_LextraMatchedHit_AE\"] = distance_ae\n",
    "\n",
    "    return df"
   ]
  },
  {
   "cell_type": "code",
   "execution_count": 36,
   "metadata": {},
   "outputs": [],
   "source": [
    "# train, test = map(distance_dist_lextra_matched, [train, test])"
   ]
  },
  {
   "cell_type": "code",
   "execution_count": 37,
   "metadata": {},
   "outputs": [],
   "source": [
    "train = distance_dist_lextra_matched(train)"
   ]
  },
  {
   "cell_type": "code",
   "execution_count": 38,
   "metadata": {},
   "outputs": [
    {
     "data": {
      "text/html": [
       "<div>\n",
       "<style scoped>\n",
       "    .dataframe tbody tr th:only-of-type {\n",
       "        vertical-align: middle;\n",
       "    }\n",
       "\n",
       "    .dataframe tbody tr th {\n",
       "        vertical-align: top;\n",
       "    }\n",
       "\n",
       "    .dataframe thead th {\n",
       "        text-align: right;\n",
       "    }\n",
       "</style>\n",
       "<table border=\"1\" class=\"dataframe\">\n",
       "  <thead>\n",
       "    <tr style=\"text-align: right;\">\n",
       "      <th></th>\n",
       "      <th>distance_LextraMatchedHit[0]</th>\n",
       "      <th>distance_LextraMatchedHit[1]</th>\n",
       "      <th>distance_LextraMatchedHit[2]</th>\n",
       "      <th>distance_LextraMatchedHit[3]</th>\n",
       "    </tr>\n",
       "  </thead>\n",
       "  <tbody>\n",
       "    <tr>\n",
       "      <th>0</th>\n",
       "      <td>6.712163</td>\n",
       "      <td>7.512178</td>\n",
       "      <td>7.232589</td>\n",
       "      <td>10.468368</td>\n",
       "    </tr>\n",
       "    <tr>\n",
       "      <th>1</th>\n",
       "      <td>7.448349</td>\n",
       "      <td>7.150894</td>\n",
       "      <td>9.267218</td>\n",
       "      <td>11.013328</td>\n",
       "    </tr>\n",
       "    <tr>\n",
       "      <th>2</th>\n",
       "      <td>7.192176</td>\n",
       "      <td>7.376499</td>\n",
       "      <td>9.402387</td>\n",
       "      <td>9.477220</td>\n",
       "    </tr>\n",
       "    <tr>\n",
       "      <th>3</th>\n",
       "      <td>5.449827</td>\n",
       "      <td>6.342438</td>\n",
       "      <td>6.628810</td>\n",
       "      <td>5.935092</td>\n",
       "    </tr>\n",
       "    <tr>\n",
       "      <th>4</th>\n",
       "      <td>8.099670</td>\n",
       "      <td>8.254467</td>\n",
       "      <td>8.448039</td>\n",
       "      <td>8.426182</td>\n",
       "    </tr>\n",
       "  </tbody>\n",
       "</table>\n",
       "</div>"
      ],
      "text/plain": [
       "   distance_LextraMatchedHit[0]  distance_LextraMatchedHit[1]  \\\n",
       "0                      6.712163                      7.512178   \n",
       "1                      7.448349                      7.150894   \n",
       "2                      7.192176                      7.376499   \n",
       "3                      5.449827                      6.342438   \n",
       "4                      8.099670                      8.254467   \n",
       "\n",
       "   distance_LextraMatchedHit[2]  distance_LextraMatchedHit[3]  \n",
       "0                      7.232589                     10.468368  \n",
       "1                      9.267218                     11.013328  \n",
       "2                      9.402387                      9.477220  \n",
       "3                      6.628810                      5.935092  \n",
       "4                      8.448039                      8.426182  "
      ]
     },
     "execution_count": 38,
     "metadata": {},
     "output_type": "execute_result"
    }
   ],
   "source": [
    "train.loc[:, train.columns.str.startswith(\"distance_LextraMatchedHit\")].head()"
   ]
  },
  {
   "cell_type": "markdown",
   "metadata": {},
   "source": [
    "### Отношение дисперсий"
   ]
  },
  {
   "cell_type": "code",
   "execution_count": 39,
   "metadata": {},
   "outputs": [],
   "source": [
    "def ratio_mextra_matched(df):    \n",
    "    for i in range(4):\n",
    "        cols = [f\"MatchedHit_DX[{i}]\", f\"MatchedHit_DY[{i}]\", f\"Mextra_DX2[{i}]\", f\"Mextra_DY2[{i}]\"]\n",
    "        mask = np.isclose(df.loc[:, cols], NA_VALUE).any(axis=1)\n",
    "\n",
    "        tmpX = df.loc[~mask, cols[::2]]\n",
    "        tmpY = df.loc[~mask, cols[1::2]]\n",
    "        \n",
    "        ratio = tmpX.iloc[:, 0] / np.sqrt(tmpX.iloc[:, 1]) + \\\n",
    "                tmpY.iloc[:, 0] / np.sqrt(tmpY.iloc[:, 1])\n",
    "\n",
    "        name = f\"ratio_MextraMatchedHit[{i}]\"\n",
    "        df[name] = NA_VALUE\n",
    "        df.loc[~mask, name] = ratio\n",
    "\n",
    "    return df"
   ]
  },
  {
   "cell_type": "code",
   "execution_count": 40,
   "metadata": {},
   "outputs": [],
   "source": [
    "# train, test = map(ratio_mextra_matched, [train, test])"
   ]
  },
  {
   "cell_type": "code",
   "execution_count": 41,
   "metadata": {},
   "outputs": [],
   "source": [
    "train = ratio_mextra_matched(train)"
   ]
  },
  {
   "cell_type": "code",
   "execution_count": 42,
   "metadata": {},
   "outputs": [
    {
     "data": {
      "text/html": [
       "<div>\n",
       "<style scoped>\n",
       "    .dataframe tbody tr th:only-of-type {\n",
       "        vertical-align: middle;\n",
       "    }\n",
       "\n",
       "    .dataframe tbody tr th {\n",
       "        vertical-align: top;\n",
       "    }\n",
       "\n",
       "    .dataframe thead th {\n",
       "        text-align: right;\n",
       "    }\n",
       "</style>\n",
       "<table border=\"1\" class=\"dataframe\">\n",
       "  <thead>\n",
       "    <tr style=\"text-align: right;\">\n",
       "      <th></th>\n",
       "      <th>ratio_MextraMatchedHit[0]</th>\n",
       "      <th>ratio_MextraMatchedHit[1]</th>\n",
       "      <th>ratio_MextraMatchedHit[2]</th>\n",
       "      <th>ratio_MextraMatchedHit[3]</th>\n",
       "    </tr>\n",
       "  </thead>\n",
       "  <tbody>\n",
       "    <tr>\n",
       "      <th>0</th>\n",
       "      <td>8.287385</td>\n",
       "      <td>5.293275</td>\n",
       "      <td>5.687804</td>\n",
       "      <td>4.349901</td>\n",
       "    </tr>\n",
       "    <tr>\n",
       "      <th>1</th>\n",
       "      <td>18.965682</td>\n",
       "      <td>12.044753</td>\n",
       "      <td>13.049134</td>\n",
       "      <td>32.661490</td>\n",
       "    </tr>\n",
       "    <tr>\n",
       "      <th>2</th>\n",
       "      <td>6.001871</td>\n",
       "      <td>3.893571</td>\n",
       "      <td>4.204257</td>\n",
       "      <td>3.224819</td>\n",
       "    </tr>\n",
       "    <tr>\n",
       "      <th>3</th>\n",
       "      <td>12.649516</td>\n",
       "      <td>8.039806</td>\n",
       "      <td>8.694506</td>\n",
       "      <td>6.719570</td>\n",
       "    </tr>\n",
       "    <tr>\n",
       "      <th>4</th>\n",
       "      <td>5.487896</td>\n",
       "      <td>3.481615</td>\n",
       "      <td>3.740265</td>\n",
       "      <td>2.870688</td>\n",
       "    </tr>\n",
       "  </tbody>\n",
       "</table>\n",
       "</div>"
      ],
      "text/plain": [
       "   ratio_MextraMatchedHit[0]  ratio_MextraMatchedHit[1]  \\\n",
       "0                   8.287385                   5.293275   \n",
       "1                  18.965682                  12.044753   \n",
       "2                   6.001871                   3.893571   \n",
       "3                  12.649516                   8.039806   \n",
       "4                   5.487896                   3.481615   \n",
       "\n",
       "   ratio_MextraMatchedHit[2]  ratio_MextraMatchedHit[3]  \n",
       "0                   5.687804                   4.349901  \n",
       "1                  13.049134                  32.661490  \n",
       "2                   4.204257                   3.224819  \n",
       "3                   8.694506                   6.719570  \n",
       "4                   3.740265                   2.870688  "
      ]
     },
     "execution_count": 42,
     "metadata": {},
     "output_type": "execute_result"
    }
   ],
   "source": [
    "train.loc[:, train.columns.str.startswith(\"ratio_MextraMatchedHit\")].head()"
   ]
  },
  {
   "cell_type": "markdown",
   "metadata": {},
   "source": [
    "### Еще один момент"
   ]
  },
  {
   "cell_type": "code",
   "execution_count": 43,
   "metadata": {},
   "outputs": [],
   "source": [
    "def momentum(df):\n",
    "    mask = np.isclose(df.loc[:, ['P', 'PT']], NA_VALUE).any(axis=1)\n",
    "    df['PO'] = NA_VALUE\n",
    "    df.loc[~mask, 'PO'] = np.power(df.loc[~mask, 'P'], 2.0) - np.power(df.loc[~mask, 'PT'], 2.0)\n",
    "    return df"
   ]
  },
  {
   "cell_type": "code",
   "execution_count": 44,
   "metadata": {},
   "outputs": [],
   "source": [
    "# train, test = map(momentum, [train, test])"
   ]
  },
  {
   "cell_type": "code",
   "execution_count": 45,
   "metadata": {},
   "outputs": [],
   "source": [
    "train = momentum(train)"
   ]
  },
  {
   "cell_type": "code",
   "execution_count": 46,
   "metadata": {},
   "outputs": [
    {
     "data": {
      "text/html": [
       "<div>\n",
       "<style scoped>\n",
       "    .dataframe tbody tr th:only-of-type {\n",
       "        vertical-align: middle;\n",
       "    }\n",
       "\n",
       "    .dataframe tbody tr th {\n",
       "        vertical-align: top;\n",
       "    }\n",
       "\n",
       "    .dataframe thead th {\n",
       "        text-align: right;\n",
       "    }\n",
       "</style>\n",
       "<table border=\"1\" class=\"dataframe\">\n",
       "  <thead>\n",
       "    <tr style=\"text-align: right;\">\n",
       "      <th></th>\n",
       "      <th>P</th>\n",
       "      <th>PT</th>\n",
       "      <th>PO</th>\n",
       "    </tr>\n",
       "  </thead>\n",
       "  <tbody>\n",
       "    <tr>\n",
       "      <th>0</th>\n",
       "      <td>12646.817591</td>\n",
       "      <td>1764.925899</td>\n",
       "      <td>1.568270e+08</td>\n",
       "    </tr>\n",
       "    <tr>\n",
       "      <th>1</th>\n",
       "      <td>28556.630027</td>\n",
       "      <td>4511.281266</td>\n",
       "      <td>7.951295e+08</td>\n",
       "    </tr>\n",
       "    <tr>\n",
       "      <th>2</th>\n",
       "      <td>17491.702634</td>\n",
       "      <td>1062.550086</td>\n",
       "      <td>3.048306e+08</td>\n",
       "    </tr>\n",
       "    <tr>\n",
       "      <th>3</th>\n",
       "      <td>37192.868559</td>\n",
       "      <td>4991.074825</td>\n",
       "      <td>1.358399e+09</td>\n",
       "    </tr>\n",
       "    <tr>\n",
       "      <th>4</th>\n",
       "      <td>16688.746174</td>\n",
       "      <td>1347.704888</td>\n",
       "      <td>2.766979e+08</td>\n",
       "    </tr>\n",
       "  </tbody>\n",
       "</table>\n",
       "</div>"
      ],
      "text/plain": [
       "              P           PT            PO\n",
       "0  12646.817591  1764.925899  1.568270e+08\n",
       "1  28556.630027  4511.281266  7.951295e+08\n",
       "2  17491.702634  1062.550086  3.048306e+08\n",
       "3  37192.868559  4991.074825  1.358399e+09\n",
       "4  16688.746174  1347.704888  2.766979e+08"
      ]
     },
     "execution_count": 46,
     "metadata": {},
     "output_type": "execute_result"
    }
   ],
   "source": [
    "train.loc[:, ['P', 'PT', 'PO']].head()"
   ]
  },
  {
   "cell_type": "markdown",
   "metadata": {},
   "source": [
    "### Усредняем дисперсии"
   ]
  },
  {
   "cell_type": "code",
   "execution_count": 47,
   "metadata": {},
   "outputs": [],
   "source": [
    "def mean_equals(df):\n",
    "    for n in [0, 1, 2, 3]:\n",
    "        df[f'Mextra_DXY2[{n}]_mean'] = sum([df[f'Mextra_D{k}2[{n}]'] for k in ('X', 'Y')])/2\n",
    "        df[f'MatchedHit_DXYZ[{n}]_mean'] = sum([df[f'MatchedHit_D{k}[{n}]'] for k in ('X', 'Y', 'Z')])/3\n",
    "        df.drop(columns=[f'Mextra_D{k}2[{n}]' for k in ('X', 'Y')], inplace=True)\n",
    "        df.drop(columns=[f'MatchedHit_D{k}[{n}]' for k in ('X', 'Y', 'Z')], inplace=True)\n",
    "    return df"
   ]
  },
  {
   "cell_type": "code",
   "execution_count": 48,
   "metadata": {},
   "outputs": [],
   "source": [
    "# train, test = map(mean_equals, [train, test])"
   ]
  },
  {
   "cell_type": "code",
   "execution_count": 49,
   "metadata": {},
   "outputs": [],
   "source": [
    "train = mean_equals(train)"
   ]
  },
  {
   "cell_type": "markdown",
   "metadata": {},
   "source": [
    "### Удаляем лишние колонки"
   ]
  },
  {
   "cell_type": "code",
   "execution_count": 50,
   "metadata": {},
   "outputs": [],
   "source": [
    "import operator\n",
    "from functools import reduce\n",
    "\n",
    "def drop_columns(df):\n",
    "    mask = [df.columns.str.startswith('MatchedHit_X'),\n",
    "            df.columns.str.startswith('MatchedHit_Y'),\n",
    "            df.columns.str.startswith('Lextra_X'),\n",
    "            df.columns.str.startswith('Lextra_Y'),\n",
    "            df.columns.str.startswith('FOI_hits_N['),\n",
    "            df.columns.str.startswith('ndof'),\n",
    "            df.columns.str.startswith('MatchedHit_DT'),\n",
    "            df.columns.str.startswith('MatchedHit_T'),\n",
    "            df.columns.str.endswith('sign'),\n",
    "            df.columns.str.endswith('abs'),\n",
    "            df.columns.str.endswith('delta')]\n",
    "    mask = reduce(operator.or_, mask)\n",
    "    cols = df.columns[mask].tolist()\n",
    "    cols += df.columns[df.columns.str.startswith('find_closest_hit_per_station')].tolist()\n",
    "    \n",
    "    df.drop(columns=cols, inplace=True)\n",
    "    return df"
   ]
  },
  {
   "cell_type": "code",
   "execution_count": 51,
   "metadata": {},
   "outputs": [],
   "source": [
    "# train, test = map(drop_columns, [train, test])"
   ]
  },
  {
   "cell_type": "code",
   "execution_count": 52,
   "metadata": {},
   "outputs": [],
   "source": [
    "train = drop_columns(train)"
   ]
  },
  {
   "cell_type": "markdown",
   "metadata": {},
   "source": [
    "## Обучение модели"
   ]
  },
  {
   "cell_type": "markdown",
   "metadata": {},
   "source": [
    "I know this is incorrect. See it as a low-hanging fruit to beat the baseline. Catboost affirmatively [refused](https://github.com/catboost/catboost/pull/399) to support negative weights. At the same time, its evaluation is [extremly fast](https://catboost.ai/news/best-in-class-inference-and-a-ton-of-speedups), so we are using it as the timing benchmark for Track 2. Feel free to use a patched version with disabled negative weights check."
   ]
  },
  {
   "cell_type": "code",
   "execution_count": 53,
   "metadata": {
    "scrolled": true
   },
   "outputs": [
    {
     "data": {
      "text/plain": [
       "['ncl[0]',\n",
       " 'ncl[1]',\n",
       " 'ncl[2]',\n",
       " 'ncl[3]',\n",
       " 'avg_cs[0]',\n",
       " 'avg_cs[1]',\n",
       " 'avg_cs[2]',\n",
       " 'avg_cs[3]',\n",
       " 'MatchedHit_Z[0]',\n",
       " 'MatchedHit_Z[1]',\n",
       " 'MatchedHit_Z[2]',\n",
       " 'MatchedHit_Z[3]',\n",
       " 'NShared',\n",
       " 'FOI_hits_N',\n",
       " 'PT',\n",
       " 'P',\n",
       " 'MatchedHit_R[0]',\n",
       " 'MatchedHit_R[1]',\n",
       " 'MatchedHit_R[2]',\n",
       " 'MatchedHit_R[3]',\n",
       " 'MatchedHit_A[0]',\n",
       " 'MatchedHit_A[1]',\n",
       " 'MatchedHit_A[2]',\n",
       " 'MatchedHit_A[3]',\n",
       " 'MatchedHit_R[1/0]_frac',\n",
       " 'MatchedHit_R[2/1]_frac',\n",
       " 'MatchedHit_R[3/2]_frac',\n",
       " 'MatchedHit_R[0/3]_frac',\n",
       " 'distance_LextraMatchedHit[0]',\n",
       " 'distance_LextraMatchedHit[1]',\n",
       " 'distance_LextraMatchedHit[2]',\n",
       " 'distance_LextraMatchedHit[3]',\n",
       " 'ratio_MextraMatchedHit[0]',\n",
       " 'ratio_MextraMatchedHit[1]',\n",
       " 'ratio_MextraMatchedHit[2]',\n",
       " 'ratio_MextraMatchedHit[3]',\n",
       " 'PO',\n",
       " 'Mextra_DXY2[0]_mean',\n",
       " 'MatchedHit_DXYZ[0]_mean',\n",
       " 'Mextra_DXY2[1]_mean',\n",
       " 'MatchedHit_DXYZ[1]_mean',\n",
       " 'Mextra_DXY2[2]_mean',\n",
       " 'MatchedHit_DXYZ[2]_mean',\n",
       " 'Mextra_DXY2[3]_mean',\n",
       " 'MatchedHit_DXYZ[3]_mean']"
      ]
     },
     "execution_count": 53,
     "metadata": {},
     "output_type": "execute_result"
    }
   ],
   "source": [
    "features = list(filter(lambda s: s not in utils.TRAIN_COLUMNS, train.columns))\n",
    "features"
   ]
  },
  {
   "cell_type": "code",
   "execution_count": 54,
   "metadata": {},
   "outputs": [],
   "source": [
    "params = {}\n",
    "\n",
    "for col in features:\n",
    "    mean, std = train[col].mean(), train[col].std()\n",
    "    params[col] = (mean, std)\n",
    "    \n",
    "    scale_mean_std = lambda x: (x - mean) / std\n",
    "#     train[col], test[col] = map(scale_mean_std, [train[col], test[col]])\n",
    "    train[col] = scale_mean_std(train[col])"
   ]
  },
  {
   "cell_type": "code",
   "execution_count": 55,
   "metadata": {},
   "outputs": [],
   "source": [
    "# Заглушка для scaler\n",
    "\n",
    "import copy\n",
    "\n",
    "from sklearn.base import TransformerMixin\n",
    "\n",
    "class IdentityScaler(TransformerMixin):\n",
    "    def __init__(self):        \n",
    "        pass\n",
    "    \n",
    "    def fit(self, X, y=None, **fit_params):        \n",
    "        return self\n",
    "        \n",
    "    def transform(self, X, y=None):\n",
    "        return X\n",
    "    \n",
    "    def fit_transform(self, X, y=None, **fit_params):\n",
    "        return self.transform(X, y)\n",
    "    \n",
    "    def get_params(self, deep=True):\n",
    "        return copy.deepcopy(self.__dict__) if deep else self.__dict__\n",
    "    \n",
    "    def set_params(self, **params):\n",
    "        self.__dict__.update(copy.deepcopy(params))"
   ]
  },
  {
   "cell_type": "code",
   "execution_count": 56,
   "metadata": {},
   "outputs": [
    {
     "name": "stdout",
     "output_type": "stream",
     "text": [
      "seeds: 3389 6094 5678 5433 6067\n",
      "log_loss = 0.417855; auc = 0.816864; rejection90 = 0.736098\n",
      "log_loss = 0.418969; auc = 0.814543; rejection90 = 0.751751\n",
      "log_loss = 0.408720; auc = 0.815936; rejection90 = 0.736316\n",
      "log_loss = 0.421045; auc = 0.812465; rejection90 = 0.750978\n",
      "log_loss = 0.411237; auc = 0.816379; rejection90 = 0.755377\n",
      "CPU times: user 3min 33s, sys: 55.5 s, total: 4min 28s\n",
      "Wall time: 1min 46s\n"
     ]
    }
   ],
   "source": [
    "%%time\n",
    "\n",
    "from sklearn.model_selection import KFold, StratifiedKFold\n",
    "from sklearn.metrics import roc_auc_score, log_loss\n",
    "from scoring import rejection90\n",
    "\n",
    "models_g = []\n",
    "scores_g = []\n",
    "\n",
    "# kf = StratifiedKFold(n_splits=5, shuffle=True, random_state=4986)\n",
    "kf = KFold(n_splits=5, shuffle=True, random_state=4987)\n",
    "\n",
    "np.random.seed(5873)\n",
    "seeds = np.random.randint(1_000, 10_000, size=5)\n",
    "print(\"seeds:\", *seeds)\n",
    "\n",
    "for train_i, valid_i in kf.split(train):\n",
    "    X_train, w_train, y_train = train.loc[train_i, features], \\\n",
    "        train.loc[train_i, 'weight'], train.loc[train_i, 'label']\n",
    "    X_valid, w_valid, y_valid = train.loc[valid_i, features], \\\n",
    "        train.loc[valid_i, 'weight'], train.loc[valid_i, 'label']\n",
    "    \n",
    "    X_train, w_train, y_train = map(lambda o: o.values, [X_train, w_train, y_train])\n",
    "    X_valid, w_valid, y_valid = map(lambda o: o.values, [X_valid, w_valid, y_valid])\n",
    "    \n",
    "    model = MLPClassifier(layers=[32], epochs=180,\n",
    "                          scaler=IdentityScaler(), random_state=seeds[len(models_g)])\n",
    "    model.fit(X_train, y_train, sample_weight=w_train)\n",
    "    \n",
    "    y_pred = model.predict_proba(X_valid)[:,1]\n",
    "    \n",
    "    score = {\n",
    "        'log_loss': log_loss(y_valid, y_pred),\n",
    "        'auc': roc_auc_score(y_valid, y_pred),\n",
    "        'rejection90': rejection90(y_valid, y_pred, sample_weight=w_valid)\n",
    "    }\n",
    "    \n",
    "    print(\"log_loss = {log_loss:.6f}; auc = {auc:.6f}; rejection90 = {rejection90:.6f}\".format(**score))\n",
    "    \n",
    "    models_g.append(model)\n",
    "    scores_g.append(score)"
   ]
  },
  {
   "cell_type": "code",
   "execution_count": 57,
   "metadata": {},
   "outputs": [
    {
     "name": "stdout",
     "output_type": "stream",
     "text": [
      "log_loss = 0.415565; auc = 0.815237; rejection90 = 0.746104\n"
     ]
    }
   ],
   "source": [
    "from collections import defaultdict\n",
    "from functools import reduce\n",
    "from operator import setitem\n",
    "\n",
    "score = reduce(lambda d, sc: any(setitem(d, k, d[k] + v) for k, v in sc.items()) or d,\n",
    "               scores_g, defaultdict(float))\n",
    "\n",
    "for k, v in score.items():\n",
    "    score[k] = v / len(scores_g)\n",
    "    \n",
    "print(\"log_loss = {log_loss:.6f}; auc = {auc:.6f}; rejection90 = {rejection90:.6f}\".format(**score))"
   ]
  },
  {
   "cell_type": "code",
   "execution_count": 58,
   "metadata": {},
   "outputs": [
    {
     "data": {
      "text/plain": [
       "0.7461040215228469"
      ]
     },
     "execution_count": 58,
     "metadata": {},
     "output_type": "execute_result"
    }
   ],
   "source": [
    "score['rejection90']"
   ]
  },
  {
   "cell_type": "markdown",
   "metadata": {},
   "source": [
    "## Сохраняем модельки"
   ]
  },
  {
   "cell_type": "code",
   "execution_count": 59,
   "metadata": {},
   "outputs": [],
   "source": [
    "!mkdir -p models"
   ]
  },
  {
   "cell_type": "code",
   "execution_count": 60,
   "metadata": {},
   "outputs": [],
   "source": [
    "import pickle\n",
    "\n",
    "pickle.dump(params, open('models/scaler_params.pkl', 'wb'))\n",
    "\n",
    "for i, model in enumerate(models_g):\n",
    "    pickle.dump(model, open(f'models/hepmlp_model_{i}.pkl', 'wb'))"
   ]
  },
  {
   "cell_type": "code",
   "execution_count": null,
   "metadata": {},
   "outputs": [],
   "source": []
  }
 ],
 "metadata": {
  "kernelspec": {
   "display_name": "Python 3",
   "language": "python",
   "name": "python3"
  },
  "language_info": {
   "codemirror_mode": {
    "name": "ipython",
    "version": 3
   },
   "file_extension": ".py",
   "mimetype": "text/x-python",
   "name": "python",
   "nbconvert_exporter": "python",
   "pygments_lexer": "ipython3",
   "version": "3.6.0"
  }
 },
 "nbformat": 4,
 "nbformat_minor": 2
}

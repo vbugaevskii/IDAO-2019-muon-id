{
 "cells": [
  {
   "cell_type": "code",
   "execution_count": 1,
   "metadata": {},
   "outputs": [
    {
     "name": "stderr",
     "output_type": "stream",
     "text": [
      "Using cuDNN version 6021 on context None\n",
      "Mapped name None to device cuda: GeForce GTX TITAN X (0000:02:00.0)\n"
     ]
    }
   ],
   "source": [
    "import os\n",
    "import numpy as np\n",
    "import pandas as pd\n",
    "import swifter\n",
    "from sklearn.model_selection import train_test_split\n",
    "import utils\n",
    "from hep_ml.nnet import MLPClassifier"
   ]
  },
  {
   "cell_type": "code",
   "execution_count": 2,
   "metadata": {},
   "outputs": [],
   "source": [
    "DATA_PATH = \"./data\""
   ]
  },
  {
   "cell_type": "code",
   "execution_count": 3,
   "metadata": {},
   "outputs": [
    {
     "name": "stderr",
     "output_type": "stream",
     "text": [
      "/root/anaconda3/envs/idao_cb/lib/python3.6/site-packages/numpy/lib/arraysetops.py:522: FutureWarning: elementwise comparison failed; returning scalar instead, but in the future will perform elementwise comparison\n",
      "  mask |= (ar1 == a)\n"
     ]
    }
   ],
   "source": [
    "train, test = utils.load_data_csv(DATA_PATH, utils.SIMPLE_FEATURE_COLUMNS)"
   ]
  },
  {
   "cell_type": "code",
   "execution_count": 4,
   "metadata": {},
   "outputs": [],
   "source": [
    "func = utils.find_closest_hit_per_station"
   ]
  },
  {
   "cell_type": "code",
   "execution_count": 5,
   "metadata": {},
   "outputs": [],
   "source": [
    "# dt_train = pd.read_hdf('closest_hits_features.train.filled.p1000.hdf', 'key')\n",
    "# dt_test  = pd.read_hdf('closest_hits_features.test.filled.p1000.hdf', 'key')\n",
    "\n",
    "dt_train = pd.read_hdf('data/closest_hits_features.train.filled.m9999.v1.hdf', 'key')\n",
    "dt_test  = pd.read_hdf('data/closest_hits_features.test.filled.m9999.v1.hdf', 'key')"
   ]
  },
  {
   "cell_type": "code",
   "execution_count": 6,
   "metadata": {},
   "outputs": [],
   "source": [
    "dt_train.columns = [func.__name__ + '_' + str(c) if str(c).isnumeric() else c for c in dt_train.columns]\n",
    "dt_test.columns  = [func.__name__ + '_' + str(c) if str(c).isnumeric() else c for c in dt_test.columns]"
   ]
  },
  {
   "cell_type": "code",
   "execution_count": 7,
   "metadata": {},
   "outputs": [],
   "source": [
    "train = pd.concat([train, dt_train], axis=1, copy=False)\n",
    "test = pd.concat([test, dt_test], axis=1, copy=False)"
   ]
  },
  {
   "cell_type": "code",
   "execution_count": 8,
   "metadata": {},
   "outputs": [
    {
     "data": {
      "text/plain": [
       "((5445705, 115), (726095, 113))"
      ]
     },
     "execution_count": 8,
     "metadata": {},
     "output_type": "execute_result"
    }
   ],
   "source": [
    "train.shape, test.shape"
   ]
  },
  {
   "cell_type": "code",
   "execution_count": 9,
   "metadata": {},
   "outputs": [
    {
     "data": {
      "text/plain": [
       "{'label', 'weight'}"
      ]
     },
     "execution_count": 9,
     "metadata": {},
     "output_type": "execute_result"
    }
   ],
   "source": [
    "set(train.columns.tolist()).symmetric_difference(test.columns.tolist())"
   ]
  },
  {
   "cell_type": "code",
   "execution_count": 10,
   "metadata": {},
   "outputs": [],
   "source": [
    "del train"
   ]
  },
  {
   "cell_type": "code",
   "execution_count": 11,
   "metadata": {},
   "outputs": [],
   "source": [
    "train = test"
   ]
  },
  {
   "cell_type": "markdown",
   "metadata": {},
   "source": [
    "## Новые признаки"
   ]
  },
  {
   "cell_type": "code",
   "execution_count": 12,
   "metadata": {},
   "outputs": [],
   "source": [
    "NA_VALUE = -9999.0"
   ]
  },
  {
   "cell_type": "code",
   "execution_count": 13,
   "metadata": {},
   "outputs": [],
   "source": [
    "def fillna(df):\n",
    "    \"\"\"\n",
    "    Пропуски только в 2 и 3 колонках\n",
    "    \"\"\"\n",
    "    \n",
    "    for axis in 'XYZ':\n",
    "        cols = ['MatchedHit_{}[{}]'.format(axis, i) for i in range(4)]\n",
    "        mask = np.isclose(df.loc[:, cols[2]], NA_VALUE)\n",
    "        mask = mask & ~np.isclose(df.loc[:, cols[3]], NA_VALUE)\n",
    "        \n",
    "        df.loc[mask, cols[2]] = df.loc[mask, [cols[1], cols[3]]].mean(axis=1)\n",
    "    return df"
   ]
  },
  {
   "cell_type": "code",
   "execution_count": 14,
   "metadata": {},
   "outputs": [],
   "source": [
    "# train, test = map(fillna, [train, test])"
   ]
  },
  {
   "cell_type": "code",
   "execution_count": 15,
   "metadata": {},
   "outputs": [],
   "source": [
    "train = fillna(train)"
   ]
  },
  {
   "cell_type": "markdown",
   "metadata": {},
   "source": [
    "### Модифицируем matched_hit_type"
   ]
  },
  {
   "cell_type": "code",
   "execution_count": 16,
   "metadata": {},
   "outputs": [],
   "source": [
    "def modify_matched_hit_type(df):\n",
    "    map_type = {2: 1, 0: 0, 1: -1}\n",
    "    cols = df.columns[df.columns.str.startswith('MatchedHit_TYPE')]\n",
    "    for col in cols:\n",
    "        df[col] = df[col].map(map_type)\n",
    "    return df"
   ]
  },
  {
   "cell_type": "code",
   "execution_count": 17,
   "metadata": {},
   "outputs": [],
   "source": [
    "# train, test = map(modify_matched_hit_type, [train, test])"
   ]
  },
  {
   "cell_type": "code",
   "execution_count": 18,
   "metadata": {},
   "outputs": [],
   "source": [
    "train = modify_matched_hit_type(train)"
   ]
  },
  {
   "cell_type": "markdown",
   "metadata": {},
   "source": [
    "### Вычесть среднее из MatchedHit_Z"
   ]
  },
  {
   "cell_type": "code",
   "execution_count": 19,
   "metadata": {},
   "outputs": [
    {
     "data": {
      "text/plain": [
       "MatchedHit_Z[0]    15270\n",
       "MatchedHit_Z[1]    16470\n",
       "MatchedHit_Z[2]    17670\n",
       "MatchedHit_Z[3]    18870\n",
       "dtype: int64"
      ]
     },
     "execution_count": 19,
     "metadata": {},
     "output_type": "execute_result"
    }
   ],
   "source": [
    "matched_hit_z_cols = train.columns[train.columns.str.startswith(\"MatchedHit_Z\")]\n",
    "matched_hit_z_mean = pd.Series([15270, 16470, 17670, 18870], index=matched_hit_z_cols)\n",
    "matched_hit_z_mean"
   ]
  },
  {
   "cell_type": "code",
   "execution_count": 20,
   "metadata": {},
   "outputs": [],
   "source": [
    "def make_unbiased_z(df):\n",
    "    for i in range(4):\n",
    "        distance = np.zeros(df.shape[0])\n",
    "    \n",
    "        col = f\"MatchedHit_Z[{i}]\"\n",
    "        mask = np.isclose(df.loc[:, col], NA_VALUE)\n",
    "        distance[~mask] = df.loc[~mask, col] - matched_hit_z_mean[col]\n",
    "        distance[mask] = 0\n",
    "    \n",
    "        df[col] = distance\n",
    "        \n",
    "        df[f\"MatchedHit_Z[{i}]_sign\"] = np.sign(df[col]).astype(np.int8)\n",
    "    return df"
   ]
  },
  {
   "cell_type": "code",
   "execution_count": 21,
   "metadata": {},
   "outputs": [],
   "source": [
    "# train, test = map(make_unbiased_z, [train, test])"
   ]
  },
  {
   "cell_type": "code",
   "execution_count": 22,
   "metadata": {},
   "outputs": [],
   "source": [
    "train = make_unbiased_z(train)"
   ]
  },
  {
   "cell_type": "code",
   "execution_count": 23,
   "metadata": {},
   "outputs": [
    {
     "data": {
      "text/html": [
       "<div>\n",
       "<style scoped>\n",
       "    .dataframe tbody tr th:only-of-type {\n",
       "        vertical-align: middle;\n",
       "    }\n",
       "\n",
       "    .dataframe tbody tr th {\n",
       "        vertical-align: top;\n",
       "    }\n",
       "\n",
       "    .dataframe thead th {\n",
       "        text-align: right;\n",
       "    }\n",
       "</style>\n",
       "<table border=\"1\" class=\"dataframe\">\n",
       "  <thead>\n",
       "    <tr style=\"text-align: right;\">\n",
       "      <th></th>\n",
       "      <th>MatchedHit_Z[0]</th>\n",
       "      <th>MatchedHit_Z[1]</th>\n",
       "      <th>MatchedHit_Z[2]</th>\n",
       "      <th>MatchedHit_Z[3]</th>\n",
       "      <th>MatchedHit_Z[0]_sign</th>\n",
       "      <th>MatchedHit_Z[1]_sign</th>\n",
       "      <th>MatchedHit_Z[2]_sign</th>\n",
       "      <th>MatchedHit_Z[3]_sign</th>\n",
       "    </tr>\n",
       "  </thead>\n",
       "  <tbody>\n",
       "    <tr>\n",
       "      <th>0</th>\n",
       "      <td>126.441</td>\n",
       "      <td>-65.305</td>\n",
       "      <td>-72.188</td>\n",
       "      <td>-63.771</td>\n",
       "      <td>1</td>\n",
       "      <td>-1</td>\n",
       "      <td>-1</td>\n",
       "      <td>-1</td>\n",
       "    </tr>\n",
       "    <tr>\n",
       "      <th>1</th>\n",
       "      <td>-152.701</td>\n",
       "      <td>-148.568</td>\n",
       "      <td>-155.830</td>\n",
       "      <td>-147.787</td>\n",
       "      <td>-1</td>\n",
       "      <td>-1</td>\n",
       "      <td>-1</td>\n",
       "      <td>-1</td>\n",
       "    </tr>\n",
       "    <tr>\n",
       "      <th>2</th>\n",
       "      <td>-157.764</td>\n",
       "      <td>-154.032</td>\n",
       "      <td>-161.697</td>\n",
       "      <td>-154.055</td>\n",
       "      <td>-1</td>\n",
       "      <td>-1</td>\n",
       "      <td>-1</td>\n",
       "      <td>-1</td>\n",
       "    </tr>\n",
       "    <tr>\n",
       "      <th>3</th>\n",
       "      <td>-150.160</td>\n",
       "      <td>-145.826</td>\n",
       "      <td>-152.887</td>\n",
       "      <td>56.592</td>\n",
       "      <td>-1</td>\n",
       "      <td>-1</td>\n",
       "      <td>-1</td>\n",
       "      <td>1</td>\n",
       "    </tr>\n",
       "    <tr>\n",
       "      <th>4</th>\n",
       "      <td>-66.947</td>\n",
       "      <td>-62.676</td>\n",
       "      <td>-69.800</td>\n",
       "      <td>-61.620</td>\n",
       "      <td>-1</td>\n",
       "      <td>-1</td>\n",
       "      <td>-1</td>\n",
       "      <td>-1</td>\n",
       "    </tr>\n",
       "  </tbody>\n",
       "</table>\n",
       "</div>"
      ],
      "text/plain": [
       "   MatchedHit_Z[0]  MatchedHit_Z[1]  MatchedHit_Z[2]  MatchedHit_Z[3]  \\\n",
       "0          126.441          -65.305          -72.188          -63.771   \n",
       "1         -152.701         -148.568         -155.830         -147.787   \n",
       "2         -157.764         -154.032         -161.697         -154.055   \n",
       "3         -150.160         -145.826         -152.887           56.592   \n",
       "4          -66.947          -62.676          -69.800          -61.620   \n",
       "\n",
       "   MatchedHit_Z[0]_sign  MatchedHit_Z[1]_sign  MatchedHit_Z[2]_sign  \\\n",
       "0                     1                    -1                    -1   \n",
       "1                    -1                    -1                    -1   \n",
       "2                    -1                    -1                    -1   \n",
       "3                    -1                    -1                    -1   \n",
       "4                    -1                    -1                    -1   \n",
       "\n",
       "   MatchedHit_Z[3]_sign  \n",
       "0                    -1  \n",
       "1                    -1  \n",
       "2                    -1  \n",
       "3                     1  \n",
       "4                    -1  "
      ]
     },
     "execution_count": 23,
     "metadata": {},
     "output_type": "execute_result"
    }
   ],
   "source": [
    "train.loc[:, train.columns.str.startswith(\"MatchedHit_Z\")].head()"
   ]
  },
  {
   "cell_type": "markdown",
   "metadata": {},
   "source": [
    "### Расстояние до центра (+)"
   ]
  },
  {
   "cell_type": "code",
   "execution_count": 24,
   "metadata": {},
   "outputs": [],
   "source": [
    "def compute_polar_distances_matched_hit(df):\n",
    "    for i in range(4):\n",
    "        cols = [f\"MatchedHit_X[{i}]\", f\"MatchedHit_Y[{i}]\"]\n",
    "        mask = np.isclose(df.loc[:, cols], NA_VALUE).any(axis=1)\n",
    "    \n",
    "        name = f\"MatchedHit_R[{i}]\"\n",
    "        df[name] = NA_VALUE\n",
    "        df.loc[~mask, name] = np.log(1.0 + np.power(df.loc[~mask, cols], 2).sum(axis=1))\n",
    "        \n",
    "        name = f\"MatchedHit_A[{i}]\"\n",
    "        df[name] = NA_VALUE\n",
    "        df.loc[~mask, name] = np.arctan2(df.loc[~mask, cols[1]], df.loc[~mask, cols[0]])\n",
    "\n",
    "    # намеренное переупорядочивание признаков\n",
    "    cols  = df.columns[df.columns.str.startswith(\"MatchedHit_R\")].tolist()\n",
    "    cols += df.columns[df.columns.str.startswith(\"MatchedHit_A\")].tolist()\n",
    "    cols  = df.columns[:-len(cols)].tolist() + cols\n",
    "    df = df[cols]\n",
    "\n",
    "    return df"
   ]
  },
  {
   "cell_type": "code",
   "execution_count": 25,
   "metadata": {},
   "outputs": [],
   "source": [
    "# train, test = map(compute_polar_distances_matched_hit, [train, test])"
   ]
  },
  {
   "cell_type": "code",
   "execution_count": 26,
   "metadata": {},
   "outputs": [],
   "source": [
    "train = compute_polar_distances_matched_hit(train)"
   ]
  },
  {
   "cell_type": "code",
   "execution_count": 27,
   "metadata": {},
   "outputs": [
    {
     "data": {
      "text/html": [
       "<div>\n",
       "<style scoped>\n",
       "    .dataframe tbody tr th:only-of-type {\n",
       "        vertical-align: middle;\n",
       "    }\n",
       "\n",
       "    .dataframe tbody tr th {\n",
       "        vertical-align: top;\n",
       "    }\n",
       "\n",
       "    .dataframe thead th {\n",
       "        text-align: right;\n",
       "    }\n",
       "</style>\n",
       "<table border=\"1\" class=\"dataframe\">\n",
       "  <thead>\n",
       "    <tr style=\"text-align: right;\">\n",
       "      <th></th>\n",
       "      <th>MatchedHit_R[0]</th>\n",
       "      <th>MatchedHit_R[1]</th>\n",
       "      <th>MatchedHit_R[2]</th>\n",
       "      <th>MatchedHit_R[3]</th>\n",
       "    </tr>\n",
       "  </thead>\n",
       "  <tbody>\n",
       "    <tr>\n",
       "      <th>0</th>\n",
       "      <td>15.045311</td>\n",
       "      <td>15.028344</td>\n",
       "      <td>15.170549</td>\n",
       "      <td>15.302802</td>\n",
       "    </tr>\n",
       "    <tr>\n",
       "      <th>1</th>\n",
       "      <td>13.993879</td>\n",
       "      <td>14.148052</td>\n",
       "      <td>14.229975</td>\n",
       "      <td>14.363091</td>\n",
       "    </tr>\n",
       "    <tr>\n",
       "      <th>2</th>\n",
       "      <td>16.444550</td>\n",
       "      <td>16.597730</td>\n",
       "      <td>16.726557</td>\n",
       "      <td>16.858928</td>\n",
       "    </tr>\n",
       "    <tr>\n",
       "      <th>3</th>\n",
       "      <td>12.540267</td>\n",
       "      <td>12.700585</td>\n",
       "      <td>12.846768</td>\n",
       "      <td>13.174559</td>\n",
       "    </tr>\n",
       "    <tr>\n",
       "      <th>4</th>\n",
       "      <td>12.503433</td>\n",
       "      <td>12.698478</td>\n",
       "      <td>12.888758</td>\n",
       "      <td>13.025454</td>\n",
       "    </tr>\n",
       "  </tbody>\n",
       "</table>\n",
       "</div>"
      ],
      "text/plain": [
       "   MatchedHit_R[0]  MatchedHit_R[1]  MatchedHit_R[2]  MatchedHit_R[3]\n",
       "0        15.045311        15.028344        15.170549        15.302802\n",
       "1        13.993879        14.148052        14.229975        14.363091\n",
       "2        16.444550        16.597730        16.726557        16.858928\n",
       "3        12.540267        12.700585        12.846768        13.174559\n",
       "4        12.503433        12.698478        12.888758        13.025454"
      ]
     },
     "execution_count": 27,
     "metadata": {},
     "output_type": "execute_result"
    }
   ],
   "source": [
    "train.loc[:, train.columns.str.startswith(\"MatchedHit_R\")].head()"
   ]
  },
  {
   "cell_type": "code",
   "execution_count": 28,
   "metadata": {},
   "outputs": [
    {
     "data": {
      "text/html": [
       "<div>\n",
       "<style scoped>\n",
       "    .dataframe tbody tr th:only-of-type {\n",
       "        vertical-align: middle;\n",
       "    }\n",
       "\n",
       "    .dataframe tbody tr th {\n",
       "        vertical-align: top;\n",
       "    }\n",
       "\n",
       "    .dataframe thead th {\n",
       "        text-align: right;\n",
       "    }\n",
       "</style>\n",
       "<table border=\"1\" class=\"dataframe\">\n",
       "  <thead>\n",
       "    <tr style=\"text-align: right;\">\n",
       "      <th></th>\n",
       "      <th>MatchedHit_A[0]</th>\n",
       "      <th>MatchedHit_A[1]</th>\n",
       "      <th>MatchedHit_A[2]</th>\n",
       "      <th>MatchedHit_A[3]</th>\n",
       "    </tr>\n",
       "  </thead>\n",
       "  <tbody>\n",
       "    <tr>\n",
       "      <th>0</th>\n",
       "      <td>-1.582870</td>\n",
       "      <td>-1.563293</td>\n",
       "      <td>-1.540319</td>\n",
       "      <td>-1.539549</td>\n",
       "    </tr>\n",
       "    <tr>\n",
       "      <th>1</th>\n",
       "      <td>-2.936887</td>\n",
       "      <td>-2.936216</td>\n",
       "      <td>-2.930155</td>\n",
       "      <td>-2.931664</td>\n",
       "    </tr>\n",
       "    <tr>\n",
       "      <th>2</th>\n",
       "      <td>-2.688974</td>\n",
       "      <td>-2.688812</td>\n",
       "      <td>-2.685729</td>\n",
       "      <td>-2.686143</td>\n",
       "    </tr>\n",
       "    <tr>\n",
       "      <th>3</th>\n",
       "      <td>1.986865</td>\n",
       "      <td>1.999996</td>\n",
       "      <td>2.003493</td>\n",
       "      <td>1.986901</td>\n",
       "    </tr>\n",
       "    <tr>\n",
       "      <th>4</th>\n",
       "      <td>2.606379</td>\n",
       "      <td>2.621242</td>\n",
       "      <td>2.634569</td>\n",
       "      <td>2.633024</td>\n",
       "    </tr>\n",
       "  </tbody>\n",
       "</table>\n",
       "</div>"
      ],
      "text/plain": [
       "   MatchedHit_A[0]  MatchedHit_A[1]  MatchedHit_A[2]  MatchedHit_A[3]\n",
       "0        -1.582870        -1.563293        -1.540319        -1.539549\n",
       "1        -2.936887        -2.936216        -2.930155        -2.931664\n",
       "2        -2.688974        -2.688812        -2.685729        -2.686143\n",
       "3         1.986865         1.999996         2.003493         1.986901\n",
       "4         2.606379         2.621242         2.634569         2.633024"
      ]
     },
     "execution_count": 28,
     "metadata": {},
     "output_type": "execute_result"
    }
   ],
   "source": [
    "train.loc[:, train.columns.str.startswith(\"MatchedHit_A\")].head()"
   ]
  },
  {
   "cell_type": "code",
   "execution_count": 29,
   "metadata": {},
   "outputs": [],
   "source": [
    "def replace_na(df):\n",
    "    df[df == NA_VALUE] = None\n",
    "    df.fillna(df.mean(), inplace=True)\n",
    "    return df"
   ]
  },
  {
   "cell_type": "code",
   "execution_count": 30,
   "metadata": {},
   "outputs": [],
   "source": [
    "# train, test = map(replace_na, [train, test])"
   ]
  },
  {
   "cell_type": "code",
   "execution_count": 31,
   "metadata": {},
   "outputs": [],
   "source": [
    "train = replace_na(train)"
   ]
  },
  {
   "cell_type": "markdown",
   "metadata": {},
   "source": [
    "### Дельты и отношения для радиусов (+)"
   ]
  },
  {
   "cell_type": "code",
   "execution_count": 32,
   "metadata": {},
   "outputs": [],
   "source": [
    "def ratio_radius_matched_hit(df):\n",
    "    for i, j in zip([0, 1, 2, 3], [1, 2, 3, 0]):\n",
    "        col_i = f\"MatchedHit_R[{i}]\"\n",
    "        col_j = f\"MatchedHit_R[{j}]\"\n",
    "        mask = np.isclose(df.loc[:, [col_i, col_j]], NA_VALUE).any(axis=1)\n",
    "\n",
    "        name = f\"MatchedHit_R[{j}/{i}]_delta\"\n",
    "        name_abs = name + '_abs'\n",
    "        df[name] = df[name_abs] = NA_VALUE\n",
    "        \n",
    "        df.loc[~mask, name] = df.loc[~mask, col_j] - df.loc[~mask, col_i]\n",
    "        df.loc[~mask, name_abs] = np.abs(df.loc[~mask, name])\n",
    "        \n",
    "        name = f\"MatchedHit_R[{j}/{i}]_frac\"\n",
    "        df[name] = NA_VALUE\n",
    "        df.loc[~mask, name] = df.loc[~mask, col_j] / df.loc[~mask, col_i]\n",
    "    return df"
   ]
  },
  {
   "cell_type": "code",
   "execution_count": 33,
   "metadata": {},
   "outputs": [],
   "source": [
    "# train, test = map(ratio_radius_matched_hit, [train, test])"
   ]
  },
  {
   "cell_type": "code",
   "execution_count": 34,
   "metadata": {},
   "outputs": [],
   "source": [
    "train = ratio_radius_matched_hit(train)"
   ]
  },
  {
   "cell_type": "code",
   "execution_count": 35,
   "metadata": {},
   "outputs": [
    {
     "data": {
      "text/html": [
       "<div>\n",
       "<style scoped>\n",
       "    .dataframe tbody tr th:only-of-type {\n",
       "        vertical-align: middle;\n",
       "    }\n",
       "\n",
       "    .dataframe tbody tr th {\n",
       "        vertical-align: top;\n",
       "    }\n",
       "\n",
       "    .dataframe thead th {\n",
       "        text-align: right;\n",
       "    }\n",
       "</style>\n",
       "<table border=\"1\" class=\"dataframe\">\n",
       "  <thead>\n",
       "    <tr style=\"text-align: right;\">\n",
       "      <th></th>\n",
       "      <th>MatchedHit_R[1/0]_delta</th>\n",
       "      <th>MatchedHit_R[1/0]_delta_abs</th>\n",
       "      <th>MatchedHit_R[1/0]_frac</th>\n",
       "      <th>MatchedHit_R[2/1]_delta</th>\n",
       "      <th>MatchedHit_R[2/1]_delta_abs</th>\n",
       "      <th>MatchedHit_R[2/1]_frac</th>\n",
       "      <th>MatchedHit_R[3/2]_delta</th>\n",
       "      <th>MatchedHit_R[3/2]_delta_abs</th>\n",
       "      <th>MatchedHit_R[3/2]_frac</th>\n",
       "      <th>MatchedHit_R[0/3]_delta</th>\n",
       "      <th>MatchedHit_R[0/3]_delta_abs</th>\n",
       "      <th>MatchedHit_R[0/3]_frac</th>\n",
       "    </tr>\n",
       "  </thead>\n",
       "  <tbody>\n",
       "    <tr>\n",
       "      <th>0</th>\n",
       "      <td>-0.016967</td>\n",
       "      <td>0.016967</td>\n",
       "      <td>0.998872</td>\n",
       "      <td>0.142205</td>\n",
       "      <td>0.142205</td>\n",
       "      <td>1.009462</td>\n",
       "      <td>0.132253</td>\n",
       "      <td>0.132253</td>\n",
       "      <td>1.008718</td>\n",
       "      <td>-0.257491</td>\n",
       "      <td>0.257491</td>\n",
       "      <td>0.983174</td>\n",
       "    </tr>\n",
       "    <tr>\n",
       "      <th>1</th>\n",
       "      <td>0.154173</td>\n",
       "      <td>0.154173</td>\n",
       "      <td>1.011017</td>\n",
       "      <td>0.081923</td>\n",
       "      <td>0.081923</td>\n",
       "      <td>1.005790</td>\n",
       "      <td>0.133116</td>\n",
       "      <td>0.133116</td>\n",
       "      <td>1.009355</td>\n",
       "      <td>-0.369211</td>\n",
       "      <td>0.369211</td>\n",
       "      <td>0.974294</td>\n",
       "    </tr>\n",
       "    <tr>\n",
       "      <th>2</th>\n",
       "      <td>0.153180</td>\n",
       "      <td>0.153180</td>\n",
       "      <td>1.009315</td>\n",
       "      <td>0.128827</td>\n",
       "      <td>0.128827</td>\n",
       "      <td>1.007762</td>\n",
       "      <td>0.132371</td>\n",
       "      <td>0.132371</td>\n",
       "      <td>1.007914</td>\n",
       "      <td>-0.414378</td>\n",
       "      <td>0.414378</td>\n",
       "      <td>0.975421</td>\n",
       "    </tr>\n",
       "    <tr>\n",
       "      <th>3</th>\n",
       "      <td>0.160318</td>\n",
       "      <td>0.160318</td>\n",
       "      <td>1.012784</td>\n",
       "      <td>0.146183</td>\n",
       "      <td>0.146183</td>\n",
       "      <td>1.011510</td>\n",
       "      <td>0.327791</td>\n",
       "      <td>0.327791</td>\n",
       "      <td>1.025515</td>\n",
       "      <td>-0.634292</td>\n",
       "      <td>0.634292</td>\n",
       "      <td>0.951855</td>\n",
       "    </tr>\n",
       "    <tr>\n",
       "      <th>4</th>\n",
       "      <td>0.195045</td>\n",
       "      <td>0.195045</td>\n",
       "      <td>1.015599</td>\n",
       "      <td>0.190280</td>\n",
       "      <td>0.190280</td>\n",
       "      <td>1.014984</td>\n",
       "      <td>0.136696</td>\n",
       "      <td>0.136696</td>\n",
       "      <td>1.010606</td>\n",
       "      <td>-0.522021</td>\n",
       "      <td>0.522021</td>\n",
       "      <td>0.959923</td>\n",
       "    </tr>\n",
       "  </tbody>\n",
       "</table>\n",
       "</div>"
      ],
      "text/plain": [
       "   MatchedHit_R[1/0]_delta  MatchedHit_R[1/0]_delta_abs  \\\n",
       "0                -0.016967                     0.016967   \n",
       "1                 0.154173                     0.154173   \n",
       "2                 0.153180                     0.153180   \n",
       "3                 0.160318                     0.160318   \n",
       "4                 0.195045                     0.195045   \n",
       "\n",
       "   MatchedHit_R[1/0]_frac  MatchedHit_R[2/1]_delta  \\\n",
       "0                0.998872                 0.142205   \n",
       "1                1.011017                 0.081923   \n",
       "2                1.009315                 0.128827   \n",
       "3                1.012784                 0.146183   \n",
       "4                1.015599                 0.190280   \n",
       "\n",
       "   MatchedHit_R[2/1]_delta_abs  MatchedHit_R[2/1]_frac  \\\n",
       "0                     0.142205                1.009462   \n",
       "1                     0.081923                1.005790   \n",
       "2                     0.128827                1.007762   \n",
       "3                     0.146183                1.011510   \n",
       "4                     0.190280                1.014984   \n",
       "\n",
       "   MatchedHit_R[3/2]_delta  MatchedHit_R[3/2]_delta_abs  \\\n",
       "0                 0.132253                     0.132253   \n",
       "1                 0.133116                     0.133116   \n",
       "2                 0.132371                     0.132371   \n",
       "3                 0.327791                     0.327791   \n",
       "4                 0.136696                     0.136696   \n",
       "\n",
       "   MatchedHit_R[3/2]_frac  MatchedHit_R[0/3]_delta  \\\n",
       "0                1.008718                -0.257491   \n",
       "1                1.009355                -0.369211   \n",
       "2                1.007914                -0.414378   \n",
       "3                1.025515                -0.634292   \n",
       "4                1.010606                -0.522021   \n",
       "\n",
       "   MatchedHit_R[0/3]_delta_abs  MatchedHit_R[0/3]_frac  \n",
       "0                     0.257491                0.983174  \n",
       "1                     0.369211                0.974294  \n",
       "2                     0.414378                0.975421  \n",
       "3                     0.634292                0.951855  \n",
       "4                     0.522021                0.959923  "
      ]
     },
     "execution_count": 35,
     "metadata": {},
     "output_type": "execute_result"
    }
   ],
   "source": [
    "cols = filter(lambda s: s.startswith(\"MatchedHit_R\") and (\"_delta\" in s or \"_frac\" in s), train.columns)\n",
    "train.loc[:, cols].head()"
   ]
  },
  {
   "cell_type": "markdown",
   "metadata": {},
   "source": [
    "### Расстояние между Lextra и MatchedHit (+)"
   ]
  },
  {
   "cell_type": "code",
   "execution_count": 36,
   "metadata": {},
   "outputs": [],
   "source": [
    "def distance_dist_lextra_matched(df):\n",
    "    distance_counts = np.zeros(df.shape[0], dtype=int)\n",
    "    \n",
    "    distance_se = np.zeros(df.shape[0])\n",
    "    distance_ae = np.zeros(df.shape[0])\n",
    "    \n",
    "    for i in range(4):\n",
    "        distance = np.zeros(df.shape[0])\n",
    "\n",
    "        cols = [f\"MatchedHit_X[{i}]\", f\"MatchedHit_Y[{i}]\", f\"Lextra_X[{i}]\", f\"Lextra_Y[{i}]\"]\n",
    "        mask = np.isclose(df.loc[:, cols], NA_VALUE).any(axis=1)\n",
    "\n",
    "        mse = df.loc[~mask, cols[:2]].values - df.loc[~mask, cols[2:]].values\n",
    "        mse = np.power(mse, 2.0).sum(axis=1)\n",
    "        \n",
    "        mae = df.loc[~mask, cols[:2]].values - df.loc[~mask, cols[2:]].values\n",
    "        mae = np.abs(mae).max(axis=1)\n",
    "\n",
    "        distance[~mask] = np.log(1.0 + mse)\n",
    "        distance[mask] = NA_VALUE\n",
    "        \n",
    "        distance_se[~mask] += mse\n",
    "        distance_ae[~mask] = np.maximum(distance_ae[~mask], mae)\n",
    "        distance_counts[~mask] += 1\n",
    "\n",
    "        df[f\"distance_LextraMatchedHit[{i}]\"] = distance\n",
    "\n",
    "#     distance_se /= distance_counts\n",
    "#     df[f\"distance_LextraMatchedHit_SE\"] = distance_se\n",
    "#     df[f\"distance_LextraMatchedHit_AE\"] = distance_ae\n",
    "\n",
    "    return df"
   ]
  },
  {
   "cell_type": "code",
   "execution_count": 37,
   "metadata": {},
   "outputs": [],
   "source": [
    "# train, test = map(distance_dist_lextra_matched, [train, test])"
   ]
  },
  {
   "cell_type": "code",
   "execution_count": 38,
   "metadata": {},
   "outputs": [],
   "source": [
    "train = distance_dist_lextra_matched(train)"
   ]
  },
  {
   "cell_type": "code",
   "execution_count": 39,
   "metadata": {},
   "outputs": [
    {
     "data": {
      "text/html": [
       "<div>\n",
       "<style scoped>\n",
       "    .dataframe tbody tr th:only-of-type {\n",
       "        vertical-align: middle;\n",
       "    }\n",
       "\n",
       "    .dataframe tbody tr th {\n",
       "        vertical-align: top;\n",
       "    }\n",
       "\n",
       "    .dataframe thead th {\n",
       "        text-align: right;\n",
       "    }\n",
       "</style>\n",
       "<table border=\"1\" class=\"dataframe\">\n",
       "  <thead>\n",
       "    <tr style=\"text-align: right;\">\n",
       "      <th></th>\n",
       "      <th>distance_LextraMatchedHit[0]</th>\n",
       "      <th>distance_LextraMatchedHit[1]</th>\n",
       "      <th>distance_LextraMatchedHit[2]</th>\n",
       "      <th>distance_LextraMatchedHit[3]</th>\n",
       "    </tr>\n",
       "  </thead>\n",
       "  <tbody>\n",
       "    <tr>\n",
       "      <th>0</th>\n",
       "      <td>7.905678</td>\n",
       "      <td>9.410019</td>\n",
       "      <td>9.709775</td>\n",
       "      <td>10.382541</td>\n",
       "    </tr>\n",
       "    <tr>\n",
       "      <th>1</th>\n",
       "      <td>7.149215</td>\n",
       "      <td>7.209501</td>\n",
       "      <td>7.683212</td>\n",
       "      <td>7.697716</td>\n",
       "    </tr>\n",
       "    <tr>\n",
       "      <th>2</th>\n",
       "      <td>7.281535</td>\n",
       "      <td>8.339558</td>\n",
       "      <td>9.620339</td>\n",
       "      <td>10.037943</td>\n",
       "    </tr>\n",
       "    <tr>\n",
       "      <th>3</th>\n",
       "      <td>5.786357</td>\n",
       "      <td>6.766075</td>\n",
       "      <td>7.648479</td>\n",
       "      <td>8.442012</td>\n",
       "    </tr>\n",
       "    <tr>\n",
       "      <th>4</th>\n",
       "      <td>2.865971</td>\n",
       "      <td>4.313771</td>\n",
       "      <td>5.827522</td>\n",
       "      <td>5.261681</td>\n",
       "    </tr>\n",
       "  </tbody>\n",
       "</table>\n",
       "</div>"
      ],
      "text/plain": [
       "   distance_LextraMatchedHit[0]  distance_LextraMatchedHit[1]  \\\n",
       "0                      7.905678                      9.410019   \n",
       "1                      7.149215                      7.209501   \n",
       "2                      7.281535                      8.339558   \n",
       "3                      5.786357                      6.766075   \n",
       "4                      2.865971                      4.313771   \n",
       "\n",
       "   distance_LextraMatchedHit[2]  distance_LextraMatchedHit[3]  \n",
       "0                      9.709775                     10.382541  \n",
       "1                      7.683212                      7.697716  \n",
       "2                      9.620339                     10.037943  \n",
       "3                      7.648479                      8.442012  \n",
       "4                      5.827522                      5.261681  "
      ]
     },
     "execution_count": 39,
     "metadata": {},
     "output_type": "execute_result"
    }
   ],
   "source": [
    "train.loc[:, train.columns.str.startswith(\"distance_LextraMatchedHit\")].head()"
   ]
  },
  {
   "cell_type": "markdown",
   "metadata": {},
   "source": [
    "### Отношение дисперсий"
   ]
  },
  {
   "cell_type": "code",
   "execution_count": 40,
   "metadata": {},
   "outputs": [],
   "source": [
    "def ratio_mextra_matched(df):    \n",
    "    for i in range(4):\n",
    "        cols = [f\"MatchedHit_DX[{i}]\", f\"MatchedHit_DY[{i}]\", f\"Mextra_DX2[{i}]\", f\"Mextra_DY2[{i}]\"]\n",
    "        mask = np.isclose(df.loc[:, cols], NA_VALUE).any(axis=1)\n",
    "\n",
    "        tmpX = df.loc[~mask, cols[::2]]\n",
    "        tmpY = df.loc[~mask, cols[1::2]]\n",
    "        \n",
    "        ratio = tmpX.iloc[:, 0] / np.sqrt(tmpX.iloc[:, 1]) + \\\n",
    "                tmpY.iloc[:, 0] / np.sqrt(tmpY.iloc[:, 1])\n",
    "\n",
    "        name = f\"ratio_MextraMatchedHit[{i}]\"\n",
    "        df[name] = NA_VALUE\n",
    "        df.loc[~mask, name] = ratio\n",
    "\n",
    "    return df"
   ]
  },
  {
   "cell_type": "code",
   "execution_count": 41,
   "metadata": {},
   "outputs": [],
   "source": [
    "# train, test = map(ratio_mextra_matched, [train, test])"
   ]
  },
  {
   "cell_type": "code",
   "execution_count": 42,
   "metadata": {},
   "outputs": [],
   "source": [
    "train = ratio_mextra_matched(train)"
   ]
  },
  {
   "cell_type": "code",
   "execution_count": 43,
   "metadata": {},
   "outputs": [
    {
     "data": {
      "text/html": [
       "<div>\n",
       "<style scoped>\n",
       "    .dataframe tbody tr th:only-of-type {\n",
       "        vertical-align: middle;\n",
       "    }\n",
       "\n",
       "    .dataframe tbody tr th {\n",
       "        vertical-align: top;\n",
       "    }\n",
       "\n",
       "    .dataframe thead th {\n",
       "        text-align: right;\n",
       "    }\n",
       "</style>\n",
       "<table border=\"1\" class=\"dataframe\">\n",
       "  <thead>\n",
       "    <tr style=\"text-align: right;\">\n",
       "      <th></th>\n",
       "      <th>ratio_MextraMatchedHit[0]</th>\n",
       "      <th>ratio_MextraMatchedHit[1]</th>\n",
       "      <th>ratio_MextraMatchedHit[2]</th>\n",
       "      <th>ratio_MextraMatchedHit[3]</th>\n",
       "    </tr>\n",
       "  </thead>\n",
       "  <tbody>\n",
       "    <tr>\n",
       "      <th>0</th>\n",
       "      <td>2.180889</td>\n",
       "      <td>1.391761</td>\n",
       "      <td>1.516274</td>\n",
       "      <td>1.159187</td>\n",
       "    </tr>\n",
       "    <tr>\n",
       "      <th>1</th>\n",
       "      <td>8.071184</td>\n",
       "      <td>5.123200</td>\n",
       "      <td>5.566834</td>\n",
       "      <td>4.322200</td>\n",
       "    </tr>\n",
       "    <tr>\n",
       "      <th>2</th>\n",
       "      <td>13.092113</td>\n",
       "      <td>8.331748</td>\n",
       "      <td>8.906781</td>\n",
       "      <td>6.837303</td>\n",
       "    </tr>\n",
       "    <tr>\n",
       "      <th>3</th>\n",
       "      <td>2.210887</td>\n",
       "      <td>1.401526</td>\n",
       "      <td>1.520892</td>\n",
       "      <td>2.348935</td>\n",
       "    </tr>\n",
       "    <tr>\n",
       "      <th>4</th>\n",
       "      <td>5.097199</td>\n",
       "      <td>3.263563</td>\n",
       "      <td>3.561245</td>\n",
       "      <td>2.762397</td>\n",
       "    </tr>\n",
       "  </tbody>\n",
       "</table>\n",
       "</div>"
      ],
      "text/plain": [
       "   ratio_MextraMatchedHit[0]  ratio_MextraMatchedHit[1]  \\\n",
       "0                   2.180889                   1.391761   \n",
       "1                   8.071184                   5.123200   \n",
       "2                  13.092113                   8.331748   \n",
       "3                   2.210887                   1.401526   \n",
       "4                   5.097199                   3.263563   \n",
       "\n",
       "   ratio_MextraMatchedHit[2]  ratio_MextraMatchedHit[3]  \n",
       "0                   1.516274                   1.159187  \n",
       "1                   5.566834                   4.322200  \n",
       "2                   8.906781                   6.837303  \n",
       "3                   1.520892                   2.348935  \n",
       "4                   3.561245                   2.762397  "
      ]
     },
     "execution_count": 43,
     "metadata": {},
     "output_type": "execute_result"
    }
   ],
   "source": [
    "train.loc[:, train.columns.str.startswith(\"ratio_MextraMatchedHit\")].head()"
   ]
  },
  {
   "cell_type": "markdown",
   "metadata": {},
   "source": [
    "### Еще один момент"
   ]
  },
  {
   "cell_type": "code",
   "execution_count": 44,
   "metadata": {},
   "outputs": [],
   "source": [
    "def momentum(df):\n",
    "    mask = np.isclose(df.loc[:, ['P', 'PT']], NA_VALUE).any(axis=1)\n",
    "    df['PO'] = NA_VALUE\n",
    "    df.loc[~mask, 'PO'] = np.power(df.loc[~mask, 'P'], 2.0) - np.power(df.loc[~mask, 'PT'], 2.0)\n",
    "    return df"
   ]
  },
  {
   "cell_type": "code",
   "execution_count": 45,
   "metadata": {},
   "outputs": [],
   "source": [
    "# train, test = map(momentum, [train, test])"
   ]
  },
  {
   "cell_type": "code",
   "execution_count": 46,
   "metadata": {},
   "outputs": [],
   "source": [
    "train = momentum(train)"
   ]
  },
  {
   "cell_type": "code",
   "execution_count": 47,
   "metadata": {},
   "outputs": [
    {
     "data": {
      "text/html": [
       "<div>\n",
       "<style scoped>\n",
       "    .dataframe tbody tr th:only-of-type {\n",
       "        vertical-align: middle;\n",
       "    }\n",
       "\n",
       "    .dataframe tbody tr th {\n",
       "        vertical-align: top;\n",
       "    }\n",
       "\n",
       "    .dataframe thead th {\n",
       "        text-align: right;\n",
       "    }\n",
       "</style>\n",
       "<table border=\"1\" class=\"dataframe\">\n",
       "  <thead>\n",
       "    <tr style=\"text-align: right;\">\n",
       "      <th></th>\n",
       "      <th>P</th>\n",
       "      <th>PT</th>\n",
       "      <th>PO</th>\n",
       "    </tr>\n",
       "  </thead>\n",
       "  <tbody>\n",
       "    <tr>\n",
       "      <th>0</th>\n",
       "      <td>6884.502272</td>\n",
       "      <td>1174.484530</td>\n",
       "      <td>4.601696e+07</td>\n",
       "    </tr>\n",
       "    <tr>\n",
       "      <th>1</th>\n",
       "      <td>48769.526891</td>\n",
       "      <td>4344.639775</td>\n",
       "      <td>2.359591e+09</td>\n",
       "    </tr>\n",
       "    <tr>\n",
       "      <th>2</th>\n",
       "      <td>20296.048412</td>\n",
       "      <td>4109.805750</td>\n",
       "      <td>3.950391e+08</td>\n",
       "    </tr>\n",
       "    <tr>\n",
       "      <th>3</th>\n",
       "      <td>26062.046122</td>\n",
       "      <td>940.242439</td>\n",
       "      <td>6.783462e+08</td>\n",
       "    </tr>\n",
       "    <tr>\n",
       "      <th>4</th>\n",
       "      <td>59872.343332</td>\n",
       "      <td>1386.377851</td>\n",
       "      <td>3.582775e+09</td>\n",
       "    </tr>\n",
       "  </tbody>\n",
       "</table>\n",
       "</div>"
      ],
      "text/plain": [
       "              P           PT            PO\n",
       "0   6884.502272  1174.484530  4.601696e+07\n",
       "1  48769.526891  4344.639775  2.359591e+09\n",
       "2  20296.048412  4109.805750  3.950391e+08\n",
       "3  26062.046122   940.242439  6.783462e+08\n",
       "4  59872.343332  1386.377851  3.582775e+09"
      ]
     },
     "execution_count": 47,
     "metadata": {},
     "output_type": "execute_result"
    }
   ],
   "source": [
    "train.loc[:, ['P', 'PT', 'PO']].head()"
   ]
  },
  {
   "cell_type": "markdown",
   "metadata": {},
   "source": [
    "### Усредняем дисперсии"
   ]
  },
  {
   "cell_type": "code",
   "execution_count": 48,
   "metadata": {},
   "outputs": [],
   "source": [
    "def mean_equals(df):\n",
    "    for n in [0, 1, 2, 3]:\n",
    "        df[f'Mextra_DXY2[{n}]_mean'] = sum([df[f'Mextra_D{k}2[{n}]'] for k in ('X', 'Y')])/2\n",
    "        df[f'MatchedHit_DXYZ[{n}]_mean'] = sum([df[f'MatchedHit_D{k}[{n}]'] for k in ('X', 'Y', 'Z')])/3\n",
    "        df.drop(columns=[f'Mextra_D{k}2[{n}]' for k in ('X', 'Y')], inplace=True)\n",
    "        df.drop(columns=[f'MatchedHit_D{k}[{n}]' for k in ('X', 'Y', 'Z')], inplace=True)\n",
    "    return df"
   ]
  },
  {
   "cell_type": "code",
   "execution_count": 49,
   "metadata": {},
   "outputs": [],
   "source": [
    "# train, test = map(mean_equals, [train, test])"
   ]
  },
  {
   "cell_type": "code",
   "execution_count": 50,
   "metadata": {},
   "outputs": [],
   "source": [
    "train = mean_equals(train)"
   ]
  },
  {
   "cell_type": "markdown",
   "metadata": {},
   "source": [
    "### Удаляем лишние колонки"
   ]
  },
  {
   "cell_type": "code",
   "execution_count": 51,
   "metadata": {},
   "outputs": [],
   "source": [
    "import operator\n",
    "from functools import reduce\n",
    "\n",
    "def drop_columns(df):\n",
    "    mask = [df.columns.str.startswith('MatchedHit_X'),\n",
    "            df.columns.str.startswith('MatchedHit_Y'),\n",
    "            df.columns.str.startswith('Lextra_X'),\n",
    "            df.columns.str.startswith('Lextra_Y'),\n",
    "            df.columns.str.startswith('FOI_hits_N['),\n",
    "            df.columns.str.startswith('ndof'),\n",
    "            df.columns.str.startswith('MatchedHit_DT'),\n",
    "            df.columns.str.startswith('MatchedHit_T'),\n",
    "            df.columns.str.endswith('sign'),\n",
    "            df.columns.str.endswith('abs'),\n",
    "            df.columns.str.endswith('delta')]\n",
    "    mask = reduce(operator.or_, mask)\n",
    "    cols = df.columns[mask].tolist()\n",
    "    cols += df.columns[df.columns.str.startswith('find_closest_hit_per_station')].tolist()\n",
    "    \n",
    "    df.drop(columns=cols, inplace=True)\n",
    "    return df"
   ]
  },
  {
   "cell_type": "code",
   "execution_count": 52,
   "metadata": {},
   "outputs": [],
   "source": [
    "# train, test = map(drop_columns, [train, test])"
   ]
  },
  {
   "cell_type": "code",
   "execution_count": 53,
   "metadata": {},
   "outputs": [],
   "source": [
    "train = drop_columns(train)"
   ]
  },
  {
   "cell_type": "markdown",
   "metadata": {},
   "source": [
    "## Предсказание модели"
   ]
  },
  {
   "cell_type": "markdown",
   "metadata": {},
   "source": [
    "I know this is incorrect. See it as a low-hanging fruit to beat the baseline. Catboost affirmatively [refused](https://github.com/catboost/catboost/pull/399) to support negative weights. At the same time, its evaluation is [extremly fast](https://catboost.ai/news/best-in-class-inference-and-a-ton-of-speedups), so we are using it as the timing benchmark for Track 2. Feel free to use a patched version with disabled negative weights check."
   ]
  },
  {
   "cell_type": "code",
   "execution_count": 54,
   "metadata": {
    "scrolled": true
   },
   "outputs": [
    {
     "data": {
      "text/plain": [
       "['ncl[0]',\n",
       " 'ncl[1]',\n",
       " 'ncl[2]',\n",
       " 'ncl[3]',\n",
       " 'avg_cs[0]',\n",
       " 'avg_cs[1]',\n",
       " 'avg_cs[2]',\n",
       " 'avg_cs[3]',\n",
       " 'MatchedHit_Z[0]',\n",
       " 'MatchedHit_Z[1]',\n",
       " 'MatchedHit_Z[2]',\n",
       " 'MatchedHit_Z[3]',\n",
       " 'NShared',\n",
       " 'FOI_hits_N',\n",
       " 'PT',\n",
       " 'P',\n",
       " 'MatchedHit_R[0]',\n",
       " 'MatchedHit_R[1]',\n",
       " 'MatchedHit_R[2]',\n",
       " 'MatchedHit_R[3]',\n",
       " 'MatchedHit_A[0]',\n",
       " 'MatchedHit_A[1]',\n",
       " 'MatchedHit_A[2]',\n",
       " 'MatchedHit_A[3]',\n",
       " 'MatchedHit_R[1/0]_frac',\n",
       " 'MatchedHit_R[2/1]_frac',\n",
       " 'MatchedHit_R[3/2]_frac',\n",
       " 'MatchedHit_R[0/3]_frac',\n",
       " 'distance_LextraMatchedHit[0]',\n",
       " 'distance_LextraMatchedHit[1]',\n",
       " 'distance_LextraMatchedHit[2]',\n",
       " 'distance_LextraMatchedHit[3]',\n",
       " 'ratio_MextraMatchedHit[0]',\n",
       " 'ratio_MextraMatchedHit[1]',\n",
       " 'ratio_MextraMatchedHit[2]',\n",
       " 'ratio_MextraMatchedHit[3]',\n",
       " 'PO',\n",
       " 'Mextra_DXY2[0]_mean',\n",
       " 'MatchedHit_DXYZ[0]_mean',\n",
       " 'Mextra_DXY2[1]_mean',\n",
       " 'MatchedHit_DXYZ[1]_mean',\n",
       " 'Mextra_DXY2[2]_mean',\n",
       " 'MatchedHit_DXYZ[2]_mean',\n",
       " 'Mextra_DXY2[3]_mean',\n",
       " 'MatchedHit_DXYZ[3]_mean']"
      ]
     },
     "execution_count": 54,
     "metadata": {},
     "output_type": "execute_result"
    }
   ],
   "source": [
    "features = list(filter(lambda s: s not in utils.TRAIN_COLUMNS, train.columns))\n",
    "features"
   ]
  },
  {
   "cell_type": "code",
   "execution_count": 55,
   "metadata": {},
   "outputs": [],
   "source": [
    "test = train"
   ]
  },
  {
   "cell_type": "code",
   "execution_count": 56,
   "metadata": {},
   "outputs": [],
   "source": [
    "# Заглушка для scaler\n",
    "\n",
    "import copy\n",
    "\n",
    "from sklearn.base import TransformerMixin\n",
    "\n",
    "class IdentityScaler(TransformerMixin):\n",
    "    def __init__(self):        \n",
    "        pass\n",
    "    \n",
    "    def fit(self, X, y=None, **fit_params):        \n",
    "        return self\n",
    "        \n",
    "    def transform(self, X, y=None):\n",
    "        return X\n",
    "    \n",
    "    def fit_transform(self, X, y=None, **fit_params):\n",
    "        return self.transform(X, y)\n",
    "    \n",
    "    def get_params(self, deep=True):\n",
    "        return copy.deepcopy(self.__dict__) if deep else self.__dict__\n",
    "    \n",
    "    def set_params(self, **params):\n",
    "        self.__dict__.update(copy.deepcopy(params))"
   ]
  },
  {
   "cell_type": "code",
   "execution_count": 57,
   "metadata": {},
   "outputs": [],
   "source": [
    "import pickle\n",
    "\n",
    "params = pickle.load(open('models/scaler_params.pkl', 'rb'))"
   ]
  },
  {
   "cell_type": "code",
   "execution_count": 58,
   "metadata": {},
   "outputs": [],
   "source": [
    "for col in params.keys():\n",
    "    mean, std = params[col]\n",
    "    \n",
    "    scale_mean_std = lambda x: (x - mean) / std\n",
    "#     train[col], test[col] = map(scale_mean_std, [train[col], test[col]])\n",
    "    test[col] = scale_mean_std(test[col])"
   ]
  },
  {
   "cell_type": "code",
   "execution_count": 59,
   "metadata": {},
   "outputs": [],
   "source": [
    "models_g = [pickle.load(open('models/hepmlp_model_{}.pkl'.format(i), 'rb'))\n",
    "            for i in range(5)]"
   ]
  },
  {
   "cell_type": "code",
   "execution_count": 60,
   "metadata": {},
   "outputs": [],
   "source": [
    "predictions = [model.predict_proba(test.loc[:, features].values)[:, 1] for model in models_g]\n",
    "predictions = np.asarray(predictions).T"
   ]
  },
  {
   "cell_type": "code",
   "execution_count": 61,
   "metadata": {},
   "outputs": [
    {
     "data": {
      "text/html": [
       "<div>\n",
       "<style scoped>\n",
       "    .dataframe tbody tr th:only-of-type {\n",
       "        vertical-align: middle;\n",
       "    }\n",
       "\n",
       "    .dataframe tbody tr th {\n",
       "        vertical-align: top;\n",
       "    }\n",
       "\n",
       "    .dataframe thead th {\n",
       "        text-align: right;\n",
       "    }\n",
       "</style>\n",
       "<table border=\"1\" class=\"dataframe\">\n",
       "  <thead>\n",
       "    <tr style=\"text-align: right;\">\n",
       "      <th></th>\n",
       "      <th>hepmlp_model_0</th>\n",
       "      <th>hepmlp_model_1</th>\n",
       "      <th>hepmlp_model_2</th>\n",
       "      <th>hepmlp_model_3</th>\n",
       "      <th>hepmlp_model_4</th>\n",
       "    </tr>\n",
       "  </thead>\n",
       "  <tbody>\n",
       "    <tr>\n",
       "      <th>0</th>\n",
       "      <td>0.945492</td>\n",
       "      <td>0.962090</td>\n",
       "      <td>0.976482</td>\n",
       "      <td>0.930198</td>\n",
       "      <td>0.968682</td>\n",
       "    </tr>\n",
       "    <tr>\n",
       "      <th>1</th>\n",
       "      <td>0.631330</td>\n",
       "      <td>0.743633</td>\n",
       "      <td>0.823962</td>\n",
       "      <td>0.647144</td>\n",
       "      <td>0.789108</td>\n",
       "    </tr>\n",
       "    <tr>\n",
       "      <th>2</th>\n",
       "      <td>0.910721</td>\n",
       "      <td>0.864242</td>\n",
       "      <td>0.738441</td>\n",
       "      <td>0.820551</td>\n",
       "      <td>0.782217</td>\n",
       "    </tr>\n",
       "    <tr>\n",
       "      <th>3</th>\n",
       "      <td>0.806772</td>\n",
       "      <td>0.823634</td>\n",
       "      <td>0.919691</td>\n",
       "      <td>0.914611</td>\n",
       "      <td>0.818540</td>\n",
       "    </tr>\n",
       "    <tr>\n",
       "      <th>4</th>\n",
       "      <td>0.960117</td>\n",
       "      <td>0.906450</td>\n",
       "      <td>0.950518</td>\n",
       "      <td>0.948546</td>\n",
       "      <td>0.946081</td>\n",
       "    </tr>\n",
       "  </tbody>\n",
       "</table>\n",
       "</div>"
      ],
      "text/plain": [
       "   hepmlp_model_0  hepmlp_model_1  hepmlp_model_2  hepmlp_model_3  \\\n",
       "0        0.945492        0.962090        0.976482        0.930198   \n",
       "1        0.631330        0.743633        0.823962        0.647144   \n",
       "2        0.910721        0.864242        0.738441        0.820551   \n",
       "3        0.806772        0.823634        0.919691        0.914611   \n",
       "4        0.960117        0.906450        0.950518        0.948546   \n",
       "\n",
       "   hepmlp_model_4  \n",
       "0        0.968682  \n",
       "1        0.789108  \n",
       "2        0.782217  \n",
       "3        0.818540  \n",
       "4        0.946081  "
      ]
     },
     "execution_count": 61,
     "metadata": {},
     "output_type": "execute_result"
    }
   ],
   "source": [
    "df_pred = pd.DataFrame(predictions,\n",
    "                       columns=[\"hepmlp_model_{}\".format(i) for i in range(predictions.shape[1])],\n",
    "                       index=test.index)\n",
    "df_pred.to_csv(\"preds/hepmlp_test_preds.csv\", sep=',', index=False)\n",
    "df_pred.head()"
   ]
  },
  {
   "cell_type": "code",
   "execution_count": 62,
   "metadata": {},
   "outputs": [
    {
     "data": {
      "text/html": [
       "<div>\n",
       "<style scoped>\n",
       "    .dataframe tbody tr th:only-of-type {\n",
       "        vertical-align: middle;\n",
       "    }\n",
       "\n",
       "    .dataframe tbody tr th {\n",
       "        vertical-align: top;\n",
       "    }\n",
       "\n",
       "    .dataframe thead th {\n",
       "        text-align: right;\n",
       "    }\n",
       "</style>\n",
       "<table border=\"1\" class=\"dataframe\">\n",
       "  <thead>\n",
       "    <tr style=\"text-align: right;\">\n",
       "      <th></th>\n",
       "      <th>prediction</th>\n",
       "    </tr>\n",
       "  </thead>\n",
       "  <tbody>\n",
       "    <tr>\n",
       "      <th>0</th>\n",
       "      <td>0.956589</td>\n",
       "    </tr>\n",
       "    <tr>\n",
       "      <th>1</th>\n",
       "      <td>0.727035</td>\n",
       "    </tr>\n",
       "    <tr>\n",
       "      <th>2</th>\n",
       "      <td>0.823234</td>\n",
       "    </tr>\n",
       "    <tr>\n",
       "      <th>3</th>\n",
       "      <td>0.856649</td>\n",
       "    </tr>\n",
       "    <tr>\n",
       "      <th>4</th>\n",
       "      <td>0.942342</td>\n",
       "    </tr>\n",
       "  </tbody>\n",
       "</table>\n",
       "</div>"
      ],
      "text/plain": [
       "   prediction\n",
       "0    0.956589\n",
       "1    0.727035\n",
       "2    0.823234\n",
       "3    0.856649\n",
       "4    0.942342"
      ]
     },
     "execution_count": 62,
     "metadata": {},
     "output_type": "execute_result"
    }
   ],
   "source": [
    "df_pred = pd.DataFrame(df_pred.mean(axis=1))\n",
    "df_pred.columns = [\"prediction\"]\n",
    "df_pred.to_csv(\"hepmlp_submission_vbugaevskii_mean.csv\", index_label=utils.ID_COLUMN, sep=',')\n",
    "df_pred.head()"
   ]
  },
  {
   "cell_type": "code",
   "execution_count": null,
   "metadata": {},
   "outputs": [],
   "source": []
  }
 ],
 "metadata": {
  "kernelspec": {
   "display_name": "Python 3",
   "language": "python",
   "name": "python3"
  },
  "language_info": {
   "codemirror_mode": {
    "name": "ipython",
    "version": 3
   },
   "file_extension": ".py",
   "mimetype": "text/x-python",
   "name": "python",
   "nbconvert_exporter": "python",
   "pygments_lexer": "ipython3",
   "version": "3.6.0"
  }
 },
 "nbformat": 4,
 "nbformat_minor": 2
}
